{
 "cells": [
  {
   "cell_type": "code",
   "execution_count": null,
   "id": "b27f7968",
   "metadata": {},
   "outputs": [],
   "source": [
    "#### https://www.youtube.com/watch?v=njE89SwtPYI&t=00h44m11s <<<<<<<< CORTO\n",
    "#### https://www.youtube.com/watch?v=P5pEeR3xQpI&t=02h02m53s <<<<<<<<<<< FULL\n",
    "\n",
    "##### FIX Login On \"https://accounts.azuredatabricks.net/\", just login using your EXT account \"gato.playero_proton.me#EXT#@gatoplayeroproton.onmicrosoft.com\", and click forget password...\n",
    "##### https://www.youtube.com/watch?v=J8eEsbfZqmA&t=00h00m01s <<<<< fix login account and manage account\n"
   ]
  }
 ],
 "metadata": {
  "language_info": {
   "name": "python"
  }
 },
 "nbformat": 4,
 "nbformat_minor": 5
}
