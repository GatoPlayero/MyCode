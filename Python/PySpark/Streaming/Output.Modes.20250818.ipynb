{
 "cells": [
  {
   "cell_type": "markdown",
   "metadata": {
    "application/vnd.databricks.v1+cell": {
     "cellMetadata": {},
     "inputWidgets": {},
     "nuid": "1497a8d8-cb5a-4b55-8c4d-2f9e698abaf3",
     "showTitle": false,
     "tableResultSettingsMap": {},
     "title": ""
    }
   },
   "source": [
    "### READ JSON DATA (BATCH)"
   ]
  },
  {
   "cell_type": "code",
   "execution_count": 0,
   "metadata": {
    "application/vnd.databricks.v1+cell": {
     "cellMetadata": {
      "byteLimit": 2048000,
      "rowLimit": 10000
     },
     "inputWidgets": {},
     "nuid": "f8df5c5a-7e2f-48ef-b6a4-82c55d509be2",
     "showTitle": false,
     "tableResultSettingsMap": {},
     "title": ""
    }
   },
   "outputs": [],
   "source": [
    "_df = spark.read.format('json') \\\n",
    "\t\t\t.option('inferschema', True) \\\n",
    "\t\t\t.option('multiLine',True) \\\n",
    "\t\t\t.load('/Volumes/workspace/stream/streamingvolume/jsonsource')"
   ]
  },
  {
   "cell_type": "code",
   "execution_count": 0,
   "metadata": {
    "application/vnd.databricks.v1+cell": {
     "cellMetadata": {
      "byteLimit": 2048000,
      "rowLimit": 10000
     },
     "inputWidgets": {},
     "nuid": "281468ec-a1fc-41bf-9afc-e95669575b84",
     "showTitle": false,
     "tableResultSettingsMap": {},
     "title": ""
    }
   },
   "outputs": [
    {
     "output_type": "display_data",
     "data": {
      "text/html": [
       "<style scoped>\n",
       "  .table-result-container {\n",
       "    max-height: 300px;\n",
       "    overflow: auto;\n",
       "  }\n",
       "  table, th, td {\n",
       "    border: 1px solid black;\n",
       "    border-collapse: collapse;\n",
       "  }\n",
       "  th, td {\n",
       "    padding: 5px;\n",
       "  }\n",
       "  th {\n",
       "    text-align: left;\n",
       "  }\n",
       "</style><div class='table-result-container'><table class='table-result'><thead style='background-color: white'><tr><th>customer</th><th>items</th><th>metadata</th><th>order_id</th><th>payment</th><th>timestamp</th></tr></thead><tbody><tr><td>List(List(Toronto, Canada, M5H 2N2), 501, john@example.com, John Doe)</td><td>List(List(I100, 25.99, Wireless Mouse, 2), List(I101, 15.49, USB-C Adapter, 1))</td><td>List(List(campaign, back_to_school), List(channel, email))</td><td>ORD1001</td><td>List(Credit Card, TXN7890)</td><td>2025-06-01T10:15:00Z</td></tr></tbody></table></div>"
      ]
     },
     "metadata": {
      "application/vnd.databricks.v1+output": {
       "addedWidgets": {},
       "aggData": [],
       "aggError": "",
       "aggOverflow": false,
       "aggSchema": [],
       "aggSeriesLimitReached": false,
       "aggType": "",
       "arguments": {},
       "columnCustomDisplayInfos": {},
       "data": [
        [
         [
          [
           "Toronto",
           "Canada",
           "M5H 2N2"
          ],
          501,
          "john@example.com",
          "John Doe"
         ],
         [
          [
           "I100",
           25.99,
           "Wireless Mouse",
           2
          ],
          [
           "I101",
           15.49,
           "USB-C Adapter",
           1
          ]
         ],
         [
          [
           "campaign",
           "back_to_school"
          ],
          [
           "channel",
           "email"
          ]
         ],
         "ORD1001",
         [
          "Credit Card",
          "TXN7890"
         ],
         "2025-06-01T10:15:00Z"
        ]
       ],
       "datasetInfos": [],
       "dbfsResultPath": null,
       "isJsonSchema": true,
       "metadata": {},
       "overflow": false,
       "plotOptions": {
        "customPlotOptions": {},
        "displayType": "table",
        "pivotAggregation": null,
        "pivotColumns": null,
        "xColumns": null,
        "yColumns": null
       },
       "removedWidgets": [],
       "schema": [
        {
         "metadata": "{}",
         "name": "customer",
         "type": "{\"fields\":[{\"metadata\":{},\"name\":\"address\",\"nullable\":true,\"type\":{\"fields\":[{\"metadata\":{},\"name\":\"city\",\"nullable\":true,\"type\":\"string\"},{\"metadata\":{},\"name\":\"country\",\"nullable\":true,\"type\":\"string\"},{\"metadata\":{},\"name\":\"postal_code\",\"nullable\":true,\"type\":\"string\"}],\"type\":\"struct\"}},{\"metadata\":{},\"name\":\"customer_id\",\"nullable\":true,\"type\":\"long\"},{\"metadata\":{},\"name\":\"email\",\"nullable\":true,\"type\":\"string\"},{\"metadata\":{},\"name\":\"name\",\"nullable\":true,\"type\":\"string\"}],\"type\":\"struct\"}"
        },
        {
         "metadata": "{}",
         "name": "items",
         "type": "{\"containsNull\":true,\"elementType\":{\"fields\":[{\"metadata\":{},\"name\":\"item_id\",\"nullable\":true,\"type\":\"string\"},{\"metadata\":{},\"name\":\"price\",\"nullable\":true,\"type\":\"double\"},{\"metadata\":{},\"name\":\"product_name\",\"nullable\":true,\"type\":\"string\"},{\"metadata\":{},\"name\":\"quantity\",\"nullable\":true,\"type\":\"long\"}],\"type\":\"struct\"},\"type\":\"array\"}"
        },
        {
         "metadata": "{}",
         "name": "metadata",
         "type": "{\"containsNull\":true,\"elementType\":{\"fields\":[{\"metadata\":{},\"name\":\"key\",\"nullable\":true,\"type\":\"string\"},{\"metadata\":{},\"name\":\"value\",\"nullable\":true,\"type\":\"string\"}],\"type\":\"struct\"},\"type\":\"array\"}"
        },
        {
         "metadata": "{}",
         "name": "order_id",
         "type": "\"string\""
        },
        {
         "metadata": "{}",
         "name": "payment",
         "type": "{\"fields\":[{\"metadata\":{},\"name\":\"method\",\"nullable\":true,\"type\":\"string\"},{\"metadata\":{},\"name\":\"transaction_id\",\"nullable\":true,\"type\":\"string\"}],\"type\":\"struct\"}"
        },
        {
         "metadata": "{}",
         "name": "timestamp",
         "type": "\"string\""
        }
       ],
       "type": "table"
      }
     },
     "output_type": "display_data"
    }
   ],
   "source": [
    "_df.display()"
   ]
  },
  {
   "cell_type": "code",
   "execution_count": 0,
   "metadata": {
    "application/vnd.databricks.v1+cell": {
     "cellMetadata": {
      "byteLimit": 2048000,
      "rowLimit": 10000
     },
     "inputWidgets": {},
     "nuid": "6d881d13-5901-4358-b665-185014904b8f",
     "showTitle": false,
     "tableResultSettingsMap": {},
     "title": ""
    }
   },
   "outputs": [
    {
     "output_type": "stream",
     "name": "stdout",
     "output_type": "stream",
     "text": [
      "root\n |-- customer: struct (nullable = true)\n |    |-- address: struct (nullable = true)\n |    |    |-- city: string (nullable = true)\n |    |    |-- country: string (nullable = true)\n |    |    |-- postal_code: string (nullable = true)\n |    |-- customer_id: long (nullable = true)\n |    |-- email: string (nullable = true)\n |    |-- name: string (nullable = true)\n |-- items: array (nullable = true)\n |    |-- element: struct (containsNull = true)\n |    |    |-- item_id: string (nullable = true)\n |    |    |-- price: double (nullable = true)\n |    |    |-- product_name: string (nullable = true)\n |    |    |-- quantity: long (nullable = true)\n |-- metadata: array (nullable = true)\n |    |-- element: struct (containsNull = true)\n |    |    |-- key: string (nullable = true)\n |    |    |-- value: string (nullable = true)\n |-- order_id: string (nullable = true)\n |-- payment: struct (nullable = true)\n |    |-- method: string (nullable = true)\n |    |-- transaction_id: string (nullable = true)\n |-- timestamp: string (nullable = true)\n\n"
     ]
    }
   ],
   "source": [
    "_df.printSchema()"
   ]
  },
  {
   "cell_type": "code",
   "execution_count": 0,
   "metadata": {
    "application/vnd.databricks.v1+cell": {
     "cellMetadata": {
      "byteLimit": 2048000,
      "rowLimit": 10000
     },
     "inputWidgets": {},
     "nuid": "5d646ca4-3acb-4ba3-b231-216354c47d9d",
     "showTitle": false,
     "tableResultSettingsMap": {
      "0": {
       "dataGridStateBlob": "{\"version\":1,\"tableState\":{\"columnPinning\":{\"left\":[\"#row_number#\"],\"right\":[]},\"columnSizing\":{},\"columnVisibility\":{}},\"settings\":{\"columns\":{}},\"syncTimestamp\":1755541897103}",
       "filterBlob": null,
       "queryPlanFiltersBlob": null,
       "tableResultIndex": 0
      }
     },
     "title": ""
    }
   },
   "outputs": [
    {
     "output_type": "display_data",
     "data": {
      "text/html": [
       "<style scoped>\n",
       "  .table-result-container {\n",
       "    max-height: 300px;\n",
       "    overflow: auto;\n",
       "  }\n",
       "  table, th, td {\n",
       "    border: 1px solid black;\n",
       "    border-collapse: collapse;\n",
       "  }\n",
       "  th, td {\n",
       "    padding: 5px;\n",
       "  }\n",
       "  th {\n",
       "    text-align: left;\n",
       "  }\n",
       "</style><div class='table-result-container'><table class='table-result'><thead style='background-color: white'><tr><th>customer_id</th><th>name</th><th>city</th><th>country</th><th>order_id</th><th>timestamp</th></tr></thead><tbody><tr><td>501</td><td>John Doe</td><td>Toronto</td><td>Canada</td><td>ORD1001</td><td>2025-06-01T10:15:00Z</td></tr></tbody></table></div>"
      ]
     },
     "metadata": {
      "application/vnd.databricks.v1+output": {
       "addedWidgets": {},
       "aggData": [],
       "aggError": "",
       "aggOverflow": false,
       "aggSchema": [],
       "aggSeriesLimitReached": false,
       "aggType": "",
       "arguments": {},
       "columnCustomDisplayInfos": {},
       "data": [
        [
         501,
         "John Doe",
         "Toronto",
         "Canada",
         "ORD1001",
         "2025-06-01T10:15:00Z"
        ]
       ],
       "datasetInfos": [],
       "dbfsResultPath": null,
       "isJsonSchema": true,
       "metadata": {},
       "overflow": false,
       "plotOptions": {
        "customPlotOptions": {},
        "displayType": "table",
        "pivotAggregation": null,
        "pivotColumns": null,
        "xColumns": null,
        "yColumns": null
       },
       "removedWidgets": [],
       "schema": [
        {
         "metadata": "{}",
         "name": "customer_id",
         "type": "\"long\""
        },
        {
         "metadata": "{}",
         "name": "name",
         "type": "\"string\""
        },
        {
         "metadata": "{}",
         "name": "city",
         "type": "\"string\""
        },
        {
         "metadata": "{}",
         "name": "country",
         "type": "\"string\""
        },
        {
         "metadata": "{}",
         "name": "order_id",
         "type": "\"string\""
        },
        {
         "metadata": "{}",
         "name": "timestamp",
         "type": "\"string\""
        }
       ],
       "type": "table"
      }
     },
     "output_type": "display_data"
    }
   ],
   "source": [
    "_df.select('customer.customer_id','customer.name','customer.address.city','customer.address.country','order_id','timestamp').display()"
   ]
  },
  {
   "cell_type": "code",
   "execution_count": 0,
   "metadata": {
    "application/vnd.databricks.v1+cell": {
     "cellMetadata": {
      "byteLimit": 2048000,
      "rowLimit": 10000
     },
     "inputWidgets": {},
     "nuid": "0c66bf68-309a-47ee-81cf-0e29dc0dede6",
     "showTitle": false,
     "tableResultSettingsMap": {
      "0": {
       "dataGridStateBlob": "{\"version\":1,\"tableState\":{\"columnPinning\":{\"left\":[\"#row_number#\"],\"right\":[]},\"columnSizing\":{\"items\":445},\"columnVisibility\":{}},\"settings\":{\"columns\":{}},\"syncTimestamp\":1755545296955}",
       "filterBlob": null,
       "queryPlanFiltersBlob": null,
       "tableResultIndex": 0
      }
     },
     "title": ""
    }
   },
   "outputs": [
    {
     "output_type": "display_data",
     "data": {
      "text/html": [
       "<style scoped>\n",
       "  .table-result-container {\n",
       "    max-height: 300px;\n",
       "    overflow: auto;\n",
       "  }\n",
       "  table, th, td {\n",
       "    border: 1px solid black;\n",
       "    border-collapse: collapse;\n",
       "  }\n",
       "  th, td {\n",
       "    padding: 5px;\n",
       "  }\n",
       "  th {\n",
       "    text-align: left;\n",
       "  }\n",
       "</style><div class='table-result-container'><table class='table-result'><thead style='background-color: white'><tr><th>items</th><th>customer_id</th><th>name</th><th>city</th><th>country</th><th>order_id</th><th>timestamp</th><th>item_id</th><th>item_price</th></tr></thead><tbody><tr><td>List(I100, 25.99, Wireless Mouse, 2)</td><td>501</td><td>John Doe</td><td>Toronto</td><td>Canada</td><td>ORD1001</td><td>2025-06-01T10:15:00Z</td><td>I100</td><td>25.99</td></tr><tr><td>List(I101, 15.49, USB-C Adapter, 1)</td><td>501</td><td>John Doe</td><td>Toronto</td><td>Canada</td><td>ORD1001</td><td>2025-06-01T10:15:00Z</td><td>I101</td><td>15.49</td></tr></tbody></table></div>"
      ]
     },
     "metadata": {
      "application/vnd.databricks.v1+output": {
       "addedWidgets": {},
       "aggData": [],
       "aggError": "",
       "aggOverflow": false,
       "aggSchema": [],
       "aggSeriesLimitReached": false,
       "aggType": "",
       "arguments": {},
       "columnCustomDisplayInfos": {},
       "data": [
        [
         [
          "I100",
          25.99,
          "Wireless Mouse",
          2
         ],
         501,
         "John Doe",
         "Toronto",
         "Canada",
         "ORD1001",
         "2025-06-01T10:15:00Z",
         "I100",
         25.99
        ],
        [
         [
          "I101",
          15.49,
          "USB-C Adapter",
          1
         ],
         501,
         "John Doe",
         "Toronto",
         "Canada",
         "ORD1001",
         "2025-06-01T10:15:00Z",
         "I101",
         15.49
        ]
       ],
       "datasetInfos": [],
       "dbfsResultPath": null,
       "isJsonSchema": true,
       "metadata": {},
       "overflow": false,
       "plotOptions": {
        "customPlotOptions": {},
        "displayType": "table",
        "pivotAggregation": null,
        "pivotColumns": null,
        "xColumns": null,
        "yColumns": null
       },
       "removedWidgets": [],
       "schema": [
        {
         "metadata": "{}",
         "name": "items",
         "type": "{\"fields\":[{\"metadata\":{},\"name\":\"item_id\",\"nullable\":true,\"type\":\"string\"},{\"metadata\":{},\"name\":\"price\",\"nullable\":true,\"type\":\"double\"},{\"metadata\":{},\"name\":\"product_name\",\"nullable\":true,\"type\":\"string\"},{\"metadata\":{},\"name\":\"quantity\",\"nullable\":true,\"type\":\"long\"}],\"type\":\"struct\"}"
        },
        {
         "metadata": "{}",
         "name": "customer_id",
         "type": "\"long\""
        },
        {
         "metadata": "{}",
         "name": "name",
         "type": "\"string\""
        },
        {
         "metadata": "{}",
         "name": "city",
         "type": "\"string\""
        },
        {
         "metadata": "{}",
         "name": "country",
         "type": "\"string\""
        },
        {
         "metadata": "{}",
         "name": "order_id",
         "type": "\"string\""
        },
        {
         "metadata": "{}",
         "name": "timestamp",
         "type": "\"string\""
        },
        {
         "metadata": "{}",
         "name": "item_id",
         "type": "\"string\""
        },
        {
         "metadata": "{}",
         "name": "item_price",
         "type": "\"double\""
        }
       ],
       "type": "table"
      }
     },
     "output_type": "display_data"
    }
   ],
   "source": [
    "from pyspark.sql.functions import *\n",
    "from pyspark.sql.window import *\n",
    "from pyspark.sql.types import *\n",
    "#\n",
    "_df.select('items','customer.customer_id','customer.name','customer.address.city','customer.address.country','order_id','timestamp') \\\n",
    "\t.withColumn('items',explode_outer(col('items'))) \\\n",
    "\t.withColumn('item_id', col('items.item_id')) \\\n",
    "\t.withColumn('item_price', col('items.price')) \\\n",
    "\t.select('*') \\\n",
    "\t.display()"
   ]
  },
  {
   "cell_type": "code",
   "execution_count": 0,
   "metadata": {
    "application/vnd.databricks.v1+cell": {
     "cellMetadata": {
      "byteLimit": 2048000,
      "rowLimit": 10000
     },
     "inputWidgets": {},
     "nuid": "97f4cf6e-d978-4a4e-9fb2-9c10d6071579",
     "showTitle": false,
     "tableResultSettingsMap": {},
     "title": ""
    }
   },
   "outputs": [
    {
     "output_type": "stream",
     "name": "stdout",
     "output_type": "stream",
     "text": [
      "+--------+--------------------+------------+--------------+\n|order_id|timestamp           |metadata_key|metadata_value|\n+--------+--------------------+------------+--------------+\n|ORD1001 |2025-06-01T10:15:00Z|campaign    |campaign      |\n|ORD1001 |2025-06-01T10:15:00Z|channel     |channel       |\n+--------+--------------------+------------+--------------+\n\n"
     ]
    }
   ],
   "source": [
    "from pyspark.sql.functions import *\n",
    "from pyspark.sql.window import *\n",
    "from pyspark.sql.types import *\n",
    "#\n",
    "_df.select('*') \\\n",
    "\t.withColumn('metadata',explode_outer(col('metadata'))) \\\n",
    "\t.withColumn('metadata_key', col('metadata.key')) \\\n",
    "\t.withColumn('metadata_value', col('metadata.key')) \\\n",
    "\t.drop(col('metadata')) \\\n",
    "\t.select('*') \\\n",
    "\t.select(['order_id','timestamp','metadata_key','metadata_value']) \\\n",
    "\t.show(truncate=False)"
   ]
  },
  {
   "cell_type": "markdown",
   "metadata": {
    "application/vnd.databricks.v1+cell": {
     "cellMetadata": {},
     "inputWidgets": {},
     "nuid": "6d426403-ded0-4d5e-9c56-aab4c24fc37d",
     "showTitle": false,
     "tableResultSettingsMap": {},
     "title": ""
    }
   },
   "source": [
    "# Let's Read Streamimg Data \uD83D\uDE01"
   ]
  },
  {
   "cell_type": "code",
   "execution_count": 0,
   "metadata": {
    "application/vnd.databricks.v1+cell": {
     "cellMetadata": {
      "byteLimit": 2048000,
      "rowLimit": 10000
     },
     "inputWidgets": {},
     "nuid": "d750a46b-b25d-4970-902b-45ad7132d258",
     "showTitle": false,
     "tableResultSettingsMap": {},
     "title": ""
    }
   },
   "outputs": [],
   "source": [
    "## instead using .option('inferschema', True), we'll use:\n",
    "# spark.conf.set('spark.sql.streaming.schemaInference', True)\n",
    "#\n",
    "## ERROR = [CONFIG_NOT_AVAILABLE] Configuration spark.sql.streaming.schemaInference is not available. SQLSTATE: 42K0I"
   ]
  },
  {
   "cell_type": "markdown",
   "metadata": {
    "application/vnd.databricks.v1+cell": {
     "cellMetadata": {},
     "inputWidgets": {},
     "nuid": "24a7aae5-9ebb-433a-b224-a684049c8bf5",
     "showTitle": false,
     "tableResultSettingsMap": {},
     "title": ""
    }
   },
   "source": [
    "###### for error:\n",
    "<br>\n",
    "\n",
    "```plaintext\n",
    "[INFINITE_STREAMING_TRIGGER_NOT_SUPPORTED] Trigger type ProcessingTime is not supported for this cluster type.\n",
    "Use a different trigger type e.g. AvailableNow, Once. SQLSTATE: 0A000\n",
    "```\n",
    "\n",
    "###### you need to use an alternative trigger type that is compatible with your cluster. The error message specifically suggests `AvailableNow` or `Once`.\n",
    "\n",
    "- `AvailableNow`: This trigger processes all data that is available at the start of the query and then stops. If new data arrives later, it will not be processed until the next time the query is restarted with AvailableNow. This is suitable for incremental batch processing where you want to process all currently available data in a single run.\n",
    "\n",
    "```python\n",
    ".trigger(availableNow=True)\n",
    "```\n",
    "\n",
    "- `Once`: Similar to `AvailableNow`, this trigger processes a single batch of available data and then stops. It is considered deprecated in favor of `AvailableNow` for most use cases, but it can still be used if explicitly required for a single-batch execution.\n",
    "\n",
    "```python\n",
    ".trigger(once=True)\n",
    "```"
   ]
  },
  {
   "cell_type": "code",
   "execution_count": 0,
   "metadata": {
    "application/vnd.databricks.v1+cell": {
     "cellMetadata": {
      "byteLimit": 2048000,
      "rowLimit": 10000
     },
     "inputWidgets": {},
     "nuid": "17a3404d-05cc-42d2-9038-45c6f5fe345b",
     "showTitle": false,
     "tableResultSettingsMap": {},
     "title": ""
    }
   },
   "outputs": [
    {
     "output_type": "execute_result",
     "data": {
      "text/plain": [
       "<pyspark.sql.connect.streaming.query.StreamingQuery at 0xff8b65681510>"
      ]
     },
     "execution_count": 11,
     "metadata": {},
     "output_type": "execute_result"
    }
   ],
   "source": [
    "\n",
    "\n",
    "#\n",
    "from pyspark.sql.functions import *\n",
    "from pyspark.sql.window import *\n",
    "from pyspark.sql.types import *\n",
    "#\n",
    "_jsonSchema = \\\n",
    "StructType([StructField('customer'\n",
    "\t\t\t,StructType([StructField('address'\n",
    "\t\t\t\t,StructType([StructField('city',StringType(),True)\n",
    "\t\t\t\t\t\t\t,StructField('country',StringType(),True)\n",
    "\t\t\t\t\t\t\t,StructField('postal_code',StringType(),True)]),True)\n",
    "\t\t\t\t,StructField('customer_id',LongType(),True)\n",
    "\t\t\t\t,StructField('email',StringType(),True)\n",
    "\t\t\t\t,StructField('name',StringType(),True)]),True)\n",
    "\t\t\t,StructField('items'\n",
    "\t\t\t\t\t,ArrayType(StructType(\n",
    "\t\t\t\t\t\t\t\t[\tStructField('item_id',StringType(),True)\n",
    "\t\t\t\t\t\t\t\t\t,StructField('price',DoubleType(),True)\n",
    "\t\t\t\t\t\t\t\t\t,StructField('product_name',StringType(),True)\n",
    "\t\t\t\t\t\t\t\t\t,StructField('quantity',LongType(),True)]),True),True)\n",
    "\t\t\t,StructField('metadata'\n",
    "\t\t\t\t\t,ArrayType(StructType(\n",
    "\t\t\t\t\t\t\t\t[\tStructField('key',StringType(),True)\n",
    "\t\t\t\t\t\t\t\t\t,StructField('value',StringType(),True)]),True),True)\n",
    "\t\t\t,StructField('order_id',StringType(),True)\n",
    "\t\t\t,StructField('payment',StructType(\n",
    "\t\t\t\t\t\t\t\t\t\t[StructField('method',StringType(),True)\n",
    "\t\t\t\t\t\t\t\t\t\t,StructField('transaction_id',StringType(),True)]),True)\n",
    "\t\t\t,StructField('timestamp',StringType(),True)])\n",
    "#\n",
    "#\n",
    "_df = spark.readStream.format('json') \\\n",
    "\t\t\t.option('multiLine',True) \\\n",
    "\t\t\t.schema(_jsonSchema) \\\n",
    "\t\t\t.load('/Volumes/workspace/stream/streamingvolume/jsonsource')\n",
    "#\n",
    "_dfToWrite = _df.select('*') \\\n",
    "\t.withColumn('items',explode_outer(col('items'))) \\\n",
    "\t.withColumn('item_id', col('items.item_id')) \\\n",
    "\t.withColumn('item_price', col('items.price')) \\\n",
    "\t.withColumn('product_name', col('items.product_name')) \\\n",
    "\t.withColumn('quantity', col('items.quantity')) \\\n",
    "\t.drop(col('items')) \\\n",
    "\t.withColumn('metadata',explode_outer(col('metadata'))) \\\n",
    "\t.withColumn('metadata_key', col('metadata.key')) \\\n",
    "\t.withColumn('metadata_value', col('metadata.value')) \\\n",
    "\t.drop(col('metadata')) \\\n",
    "\t.withColumn('payment_method', col('payment.method')) \\\n",
    "\t.withColumn('transaction_id', col('payment.transaction_id')) \\\n",
    "\t.drop(col('payment')) \\\n",
    "\t.select(\t[\n",
    "\t\t\t\t\t\t'customer.address.city'\n",
    "\t\t\t\t\t,\t'customer.address.country'\n",
    "\t\t\t\t\t,\t'customer.address.postal_code'\n",
    "\t\t\t\t\t,\t'customer.customer_id'\n",
    "\t\t\t\t\t,\t'customer.email'\n",
    "\t\t\t\t\t,\t'customer.name'\n",
    "\t\t\t\t\t,\t'item_id'\n",
    "\t\t\t\t\t,\t'item_price'\n",
    "\t\t\t\t\t,\t'product_name'\n",
    "\t\t\t\t\t,\t'quantity'\n",
    "\t\t\t\t\t,\t'order_id'\n",
    "\t\t\t\t\t,\t'payment_method'\n",
    "\t\t\t\t\t,\t'transaction_id'\n",
    "\t\t\t\t\t,\t'timestamp'\n",
    "\t\t\t\t])\n",
    "#\n",
    "_dfToWrite.writeStream.format('delta') \\\n",
    "\t\t\t.outputMode('append') \\\n",
    "\t\t\t.trigger(once=True) \\\n",
    "\t\t\t.option('path','/Volumes/workspace/stream/streamingvolume/jsonsink/Data') \\\n",
    "\t\t\t.option('checkpointLocation','/Volumes/workspace/stream/streamingvolume/jsonsink/Checkpoint') \\\n",
    "\t\t\t.start()\n",
    "#"
   ]
  },
  {
   "cell_type": "code",
   "execution_count": 0,
   "metadata": {
    "application/vnd.databricks.v1+cell": {
     "cellMetadata": {
      "byteLimit": 2048000,
      "implicitDf": true,
      "rowLimit": 10000
     },
     "inputWidgets": {},
     "nuid": "e4e288be-5802-4c72-a5a2-489a1efde1a2",
     "showTitle": false,
     "tableResultSettingsMap": {},
     "title": ""
    }
   },
   "outputs": [
    {
     "output_type": "display_data",
     "data": {
      "text/html": [
       "<style scoped>\n",
       "  .table-result-container {\n",
       "    max-height: 300px;\n",
       "    overflow: auto;\n",
       "  }\n",
       "  table, th, td {\n",
       "    border: 1px solid black;\n",
       "    border-collapse: collapse;\n",
       "  }\n",
       "  th, td {\n",
       "    padding: 5px;\n",
       "  }\n",
       "  th {\n",
       "    text-align: left;\n",
       "  }\n",
       "</style><div class='table-result-container'><table class='table-result'><thead style='background-color: white'><tr><th>city</th><th>country</th><th>postal_code</th><th>customer_id</th><th>email</th><th>name</th><th>item_id</th><th>item_price</th><th>product_name</th><th>quantity</th><th>order_id</th><th>payment_method</th><th>transaction_id</th><th>timestamp</th></tr></thead><tbody><tr><td>Toronto</td><td>Canada</td><td>M5H 2N2</td><td>501</td><td>john@example.com</td><td>John Doe</td><td>I100</td><td>25.99</td><td>Wireless Mouse</td><td>2</td><td>ORD1001</td><td>Credit Card</td><td>TXN7890</td><td>2025-06-01T10:15:00Z</td></tr><tr><td>Toronto</td><td>Canada</td><td>M5H 2N2</td><td>501</td><td>john@example.com</td><td>John Doe</td><td>I100</td><td>25.99</td><td>Wireless Mouse</td><td>2</td><td>ORD1001</td><td>Credit Card</td><td>TXN7890</td><td>2025-06-01T10:15:00Z</td></tr><tr><td>Toronto</td><td>Canada</td><td>M5H 2N2</td><td>501</td><td>john@example.com</td><td>John Doe</td><td>I101</td><td>15.49</td><td>USB-C Adapter</td><td>1</td><td>ORD1001</td><td>Credit Card</td><td>TXN7890</td><td>2025-06-01T10:15:00Z</td></tr><tr><td>Toronto</td><td>Canada</td><td>M5H 2N2</td><td>501</td><td>john@example.com</td><td>John Doe</td><td>I101</td><td>15.49</td><td>USB-C Adapter</td><td>1</td><td>ORD1001</td><td>Credit Card</td><td>TXN7890</td><td>2025-06-01T10:15:00Z</td></tr></tbody></table></div>"
      ]
     },
     "metadata": {
      "application/vnd.databricks.v1+output": {
       "addedWidgets": {},
       "aggData": [],
       "aggError": "",
       "aggOverflow": false,
       "aggSchema": [],
       "aggSeriesLimitReached": false,
       "aggType": "",
       "arguments": {},
       "columnCustomDisplayInfos": {},
       "data": [
        [
         "Toronto",
         "Canada",
         "M5H 2N2",
         501,
         "john@example.com",
         "John Doe",
         "I100",
         25.99,
         "Wireless Mouse",
         2,
         "ORD1001",
         "Credit Card",
         "TXN7890",
         "2025-06-01T10:15:00Z"
        ],
        [
         "Toronto",
         "Canada",
         "M5H 2N2",
         501,
         "john@example.com",
         "John Doe",
         "I100",
         25.99,
         "Wireless Mouse",
         2,
         "ORD1001",
         "Credit Card",
         "TXN7890",
         "2025-06-01T10:15:00Z"
        ],
        [
         "Toronto",
         "Canada",
         "M5H 2N2",
         501,
         "john@example.com",
         "John Doe",
         "I101",
         15.49,
         "USB-C Adapter",
         1,
         "ORD1001",
         "Credit Card",
         "TXN7890",
         "2025-06-01T10:15:00Z"
        ],
        [
         "Toronto",
         "Canada",
         "M5H 2N2",
         501,
         "john@example.com",
         "John Doe",
         "I101",
         15.49,
         "USB-C Adapter",
         1,
         "ORD1001",
         "Credit Card",
         "TXN7890",
         "2025-06-01T10:15:00Z"
        ]
       ],
       "datasetInfos": [
        {
         "name": "_sqldf",
         "schema": {
          "fields": [
           {
            "metadata": {},
            "name": "city",
            "nullable": true,
            "type": "string"
           },
           {
            "metadata": {},
            "name": "country",
            "nullable": true,
            "type": "string"
           },
           {
            "metadata": {},
            "name": "postal_code",
            "nullable": true,
            "type": "string"
           },
           {
            "metadata": {},
            "name": "customer_id",
            "nullable": true,
            "type": "long"
           },
           {
            "metadata": {},
            "name": "email",
            "nullable": true,
            "type": "string"
           },
           {
            "metadata": {},
            "name": "name",
            "nullable": true,
            "type": "string"
           },
           {
            "metadata": {},
            "name": "item_id",
            "nullable": true,
            "type": "string"
           },
           {
            "metadata": {},
            "name": "item_price",
            "nullable": true,
            "type": "double"
           },
           {
            "metadata": {},
            "name": "product_name",
            "nullable": true,
            "type": "string"
           },
           {
            "metadata": {},
            "name": "quantity",
            "nullable": true,
            "type": "long"
           },
           {
            "metadata": {},
            "name": "order_id",
            "nullable": true,
            "type": "string"
           },
           {
            "metadata": {},
            "name": "payment_method",
            "nullable": true,
            "type": "string"
           },
           {
            "metadata": {},
            "name": "transaction_id",
            "nullable": true,
            "type": "string"
           },
           {
            "metadata": {},
            "name": "timestamp",
            "nullable": true,
            "type": "string"
           }
          ],
          "type": "struct"
         },
         "tableIdentifier": null,
         "typeStr": "pyspark.sql.connect.dataframe.DataFrame"
        }
       ],
       "dbfsResultPath": null,
       "isJsonSchema": true,
       "metadata": {
        "createTempViewForImplicitDf": true,
        "dataframeName": "_sqldf",
        "executionCount": 16
       },
       "overflow": false,
       "plotOptions": {
        "customPlotOptions": {},
        "displayType": "table",
        "pivotAggregation": null,
        "pivotColumns": null,
        "xColumns": null,
        "yColumns": null
       },
       "removedWidgets": [],
       "schema": [
        {
         "metadata": "{}",
         "name": "city",
         "type": "\"string\""
        },
        {
         "metadata": "{}",
         "name": "country",
         "type": "\"string\""
        },
        {
         "metadata": "{}",
         "name": "postal_code",
         "type": "\"string\""
        },
        {
         "metadata": "{}",
         "name": "customer_id",
         "type": "\"long\""
        },
        {
         "metadata": "{}",
         "name": "email",
         "type": "\"string\""
        },
        {
         "metadata": "{}",
         "name": "name",
         "type": "\"string\""
        },
        {
         "metadata": "{}",
         "name": "item_id",
         "type": "\"string\""
        },
        {
         "metadata": "{}",
         "name": "item_price",
         "type": "\"double\""
        },
        {
         "metadata": "{}",
         "name": "product_name",
         "type": "\"string\""
        },
        {
         "metadata": "{}",
         "name": "quantity",
         "type": "\"long\""
        },
        {
         "metadata": "{}",
         "name": "order_id",
         "type": "\"string\""
        },
        {
         "metadata": "{}",
         "name": "payment_method",
         "type": "\"string\""
        },
        {
         "metadata": "{}",
         "name": "transaction_id",
         "type": "\"string\""
        },
        {
         "metadata": "{}",
         "name": "timestamp",
         "type": "\"string\""
        }
       ],
       "type": "table"
      }
     },
     "output_type": "display_data"
    }
   ],
   "source": [
    "%sql\n",
    "SELECT * FROM delta.`/Volumes/workspace/stream/streamingvolume/jsonsink/Data/`"
   ]
  },
  {
   "cell_type": "code",
   "execution_count": 0,
   "metadata": {
    "application/vnd.databricks.v1+cell": {
     "cellMetadata": {
      "byteLimit": 2048000,
      "rowLimit": 10000
     },
     "inputWidgets": {},
     "nuid": "fc45b1e5-457d-48b1-98c8-602e76c3c8a1",
     "showTitle": false,
     "tableResultSettingsMap": {},
     "title": ""
    }
   },
   "outputs": [
    {
     "output_type": "execute_result",
     "data": {
      "text/plain": [
       "<pyspark.sql.connect.streaming.query.StreamingQuery at 0xff8b855c5e50>"
      ]
     },
     "execution_count": 21,
     "metadata": {},
     "output_type": "execute_result"
    }
   ],
   "source": [
    "#\n",
    "_dfToWrite.writeStream.format('delta') \\\n",
    "\t\t\t.outputMode('append') \\\n",
    "\t\t\t.trigger(once=True) \\\n",
    "\t\t\t.option('path','/Volumes/workspace/stream/streamingvolume/jsonsink/Data') \\\n",
    "\t\t\t.option('checkpointLocation','/Volumes/workspace/stream/streamingvolume/jsonsink/Checkpoint') \\\n",
    "\t\t\t.start()\n",
    "#"
   ]
  },
  {
   "cell_type": "code",
   "execution_count": 0,
   "metadata": {
    "application/vnd.databricks.v1+cell": {
     "cellMetadata": {
      "byteLimit": 2048000,
      "implicitDf": true,
      "rowLimit": 10000
     },
     "inputWidgets": {},
     "nuid": "57837483-46da-4860-b526-adc8f6c88637",
     "showTitle": false,
     "tableResultSettingsMap": {},
     "title": ""
    }
   },
   "outputs": [
    {
     "output_type": "display_data",
     "data": {
      "text/html": [
       "<style scoped>\n",
       "  .table-result-container {\n",
       "    max-height: 300px;\n",
       "    overflow: auto;\n",
       "  }\n",
       "  table, th, td {\n",
       "    border: 1px solid black;\n",
       "    border-collapse: collapse;\n",
       "  }\n",
       "  th, td {\n",
       "    padding: 5px;\n",
       "  }\n",
       "  th {\n",
       "    text-align: left;\n",
       "  }\n",
       "</style><div class='table-result-container'><table class='table-result'><thead style='background-color: white'><tr><th>city</th><th>country</th><th>postal_code</th><th>customer_id</th><th>email</th><th>name</th><th>item_id</th><th>item_price</th><th>product_name</th><th>quantity</th><th>order_id</th><th>payment_method</th><th>transaction_id</th><th>timestamp</th></tr></thead><tbody><tr><td>Toronto</td><td>Canada</td><td>M5H 2N2</td><td>501</td><td>john@example.com</td><td>John Doe</td><td>I100</td><td>25.99</td><td>Wireless Mouse</td><td>2</td><td>ORD1001</td><td>Credit Card</td><td>TXN7890</td><td>2025-06-01T10:15:00Z</td></tr><tr><td>Toronto</td><td>Canada</td><td>M5H 2N2</td><td>501</td><td>john@example.com</td><td>John Doe</td><td>I100</td><td>25.99</td><td>Wireless Mouse</td><td>2</td><td>ORD1001</td><td>Credit Card</td><td>TXN7890</td><td>2025-06-01T10:15:00Z</td></tr><tr><td>Toronto</td><td>Canada</td><td>M5H 2N2</td><td>501</td><td>john@example.com</td><td>John Doe</td><td>I101</td><td>15.49</td><td>USB-C Adapter</td><td>1</td><td>ORD1001</td><td>Credit Card</td><td>TXN7890</td><td>2025-06-01T10:15:00Z</td></tr><tr><td>Toronto</td><td>Canada</td><td>M5H 2N2</td><td>501</td><td>john@example.com</td><td>John Doe</td><td>I101</td><td>15.49</td><td>USB-C Adapter</td><td>1</td><td>ORD1001</td><td>Credit Card</td><td>TXN7890</td><td>2025-06-01T10:15:00Z</td></tr><tr><td>Vancouver</td><td>Canada</td><td>V5K 0A1</td><td>502</td><td>alice@example.com</td><td>Alice Smith</td><td>I102</td><td>45.0</td><td>Bluetooth Keyboard</td><td>1</td><td>ORD1002</td><td>PayPal</td><td>TXN7891</td><td>2025-06-01T10:30:00Z</td></tr><tr><td>Vancouver</td><td>Canada</td><td>V5K 0A1</td><td>502</td><td>alice@example.com</td><td>Alice Smith</td><td>I102</td><td>45.0</td><td>Bluetooth Keyboard</td><td>1</td><td>ORD1002</td><td>PayPal</td><td>TXN7891</td><td>2025-06-01T10:30:00Z</td></tr></tbody></table></div>"
      ]
     },
     "metadata": {
      "application/vnd.databricks.v1+output": {
       "addedWidgets": {},
       "aggData": [],
       "aggError": "",
       "aggOverflow": false,
       "aggSchema": [],
       "aggSeriesLimitReached": false,
       "aggType": "",
       "arguments": {},
       "columnCustomDisplayInfos": {},
       "data": [
        [
         "Toronto",
         "Canada",
         "M5H 2N2",
         501,
         "john@example.com",
         "John Doe",
         "I100",
         25.99,
         "Wireless Mouse",
         2,
         "ORD1001",
         "Credit Card",
         "TXN7890",
         "2025-06-01T10:15:00Z"
        ],
        [
         "Toronto",
         "Canada",
         "M5H 2N2",
         501,
         "john@example.com",
         "John Doe",
         "I100",
         25.99,
         "Wireless Mouse",
         2,
         "ORD1001",
         "Credit Card",
         "TXN7890",
         "2025-06-01T10:15:00Z"
        ],
        [
         "Toronto",
         "Canada",
         "M5H 2N2",
         501,
         "john@example.com",
         "John Doe",
         "I101",
         15.49,
         "USB-C Adapter",
         1,
         "ORD1001",
         "Credit Card",
         "TXN7890",
         "2025-06-01T10:15:00Z"
        ],
        [
         "Toronto",
         "Canada",
         "M5H 2N2",
         501,
         "john@example.com",
         "John Doe",
         "I101",
         15.49,
         "USB-C Adapter",
         1,
         "ORD1001",
         "Credit Card",
         "TXN7890",
         "2025-06-01T10:15:00Z"
        ],
        [
         "Vancouver",
         "Canada",
         "V5K 0A1",
         502,
         "alice@example.com",
         "Alice Smith",
         "I102",
         45.0,
         "Bluetooth Keyboard",
         1,
         "ORD1002",
         "PayPal",
         "TXN7891",
         "2025-06-01T10:30:00Z"
        ],
        [
         "Vancouver",
         "Canada",
         "V5K 0A1",
         502,
         "alice@example.com",
         "Alice Smith",
         "I102",
         45.0,
         "Bluetooth Keyboard",
         1,
         "ORD1002",
         "PayPal",
         "TXN7891",
         "2025-06-01T10:30:00Z"
        ]
       ],
       "datasetInfos": [
        {
         "name": "_sqldf",
         "schema": {
          "fields": [
           {
            "metadata": {},
            "name": "city",
            "nullable": true,
            "type": "string"
           },
           {
            "metadata": {},
            "name": "country",
            "nullable": true,
            "type": "string"
           },
           {
            "metadata": {},
            "name": "postal_code",
            "nullable": true,
            "type": "string"
           },
           {
            "metadata": {},
            "name": "customer_id",
            "nullable": true,
            "type": "long"
           },
           {
            "metadata": {},
            "name": "email",
            "nullable": true,
            "type": "string"
           },
           {
            "metadata": {},
            "name": "name",
            "nullable": true,
            "type": "string"
           },
           {
            "metadata": {},
            "name": "item_id",
            "nullable": true,
            "type": "string"
           },
           {
            "metadata": {},
            "name": "item_price",
            "nullable": true,
            "type": "double"
           },
           {
            "metadata": {},
            "name": "product_name",
            "nullable": true,
            "type": "string"
           },
           {
            "metadata": {},
            "name": "quantity",
            "nullable": true,
            "type": "long"
           },
           {
            "metadata": {},
            "name": "order_id",
            "nullable": true,
            "type": "string"
           },
           {
            "metadata": {},
            "name": "payment_method",
            "nullable": true,
            "type": "string"
           },
           {
            "metadata": {},
            "name": "transaction_id",
            "nullable": true,
            "type": "string"
           },
           {
            "metadata": {},
            "name": "timestamp",
            "nullable": true,
            "type": "string"
           }
          ],
          "type": "struct"
         },
         "tableIdentifier": null,
         "typeStr": "pyspark.sql.connect.dataframe.DataFrame"
        }
       ],
       "dbfsResultPath": null,
       "isJsonSchema": true,
       "metadata": {
        "createTempViewForImplicitDf": true,
        "dataframeName": "_sqldf",
        "executionCount": 22
       },
       "overflow": false,
       "plotOptions": {
        "customPlotOptions": {},
        "displayType": "table",
        "pivotAggregation": null,
        "pivotColumns": null,
        "xColumns": null,
        "yColumns": null
       },
       "removedWidgets": [],
       "schema": [
        {
         "metadata": "{}",
         "name": "city",
         "type": "\"string\""
        },
        {
         "metadata": "{}",
         "name": "country",
         "type": "\"string\""
        },
        {
         "metadata": "{}",
         "name": "postal_code",
         "type": "\"string\""
        },
        {
         "metadata": "{}",
         "name": "customer_id",
         "type": "\"long\""
        },
        {
         "metadata": "{}",
         "name": "email",
         "type": "\"string\""
        },
        {
         "metadata": "{}",
         "name": "name",
         "type": "\"string\""
        },
        {
         "metadata": "{}",
         "name": "item_id",
         "type": "\"string\""
        },
        {
         "metadata": "{}",
         "name": "item_price",
         "type": "\"double\""
        },
        {
         "metadata": "{}",
         "name": "product_name",
         "type": "\"string\""
        },
        {
         "metadata": "{}",
         "name": "quantity",
         "type": "\"long\""
        },
        {
         "metadata": "{}",
         "name": "order_id",
         "type": "\"string\""
        },
        {
         "metadata": "{}",
         "name": "payment_method",
         "type": "\"string\""
        },
        {
         "metadata": "{}",
         "name": "transaction_id",
         "type": "\"string\""
        },
        {
         "metadata": "{}",
         "name": "timestamp",
         "type": "\"string\""
        }
       ],
       "type": "table"
      }
     },
     "output_type": "display_data"
    }
   ],
   "source": [
    "%sql\n",
    "SELECT * FROM delta.`/Volumes/workspace/stream/streamingvolume/jsonsink/Data/`"
   ]
  }
 ],
 "metadata": {
  "application/vnd.databricks.v1+notebook": {
   "computePreferences": {
    "hardware": {
     "accelerator": null,
     "gpuPoolId": null,
     "memory": null
    }
   },
   "dashboards": [],
   "environmentMetadata": {
    "base_environment": "",
    "environment_version": "2"
   },
   "inputWidgetPreferences": null,
   "language": "python",
   "notebookMetadata": {
    "mostRecentlyExecutedCommandWithImplicitDF": {
     "commandId": 6374828906394997,
     "dataframes": [
      "_sqldf"
     ]
    },
    "pythonIndentUnit": 4
   },
   "notebookName": "Output.Modes.20250818",
   "widgets": {}
  },
  "language_info": {
   "name": "python"
  }
 },
 "nbformat": 4,
 "nbformat_minor": 0
}