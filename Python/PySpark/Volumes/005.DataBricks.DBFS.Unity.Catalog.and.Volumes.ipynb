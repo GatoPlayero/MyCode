{
 "cells": [
  {
   "cell_type": "code",
   "execution_count": null,
   "id": "37805f30",
   "metadata": {},
   "outputs": [],
   "source": [
    "### https://www.youtube.com/watch?v=c4ftGdExtTA&t=00h00m01s\n",
    "### &t=00h00m01s\n",
    "### https://www.youtube.com/watch?v=-WyQh_ha3hI&t=00h00m01s"
   ]
  },
  {
   "cell_type": "code",
   "execution_count": null,
   "id": "0e40b20c",
   "metadata": {},
   "outputs": [
    {
     "name": "stdout",
     "output_type": "stream",
     "text": [
      "+---------+---------+--------+--------+----------+-------+---+-----+----+-------------+------------------------------------+--------------+----------+\n",
      "|Branch_ID|Dealer_ID|Model_ID|Revenue |Units_Sold|Date_ID|Day|Month|Year|BranchName   |DealerName                          |model_category|RevPerUnit|\n",
      "+---------+---------+--------+--------+----------+-------+---+-----+----+-------------+------------------------------------+--------------+----------+\n",
      "|BR0074   |DLR0215  |Toy-M195|3163004 |2         |DT00045|19 |1    |2017|Anadol Motors|Wanderer Motors                     |Toy           |1581502.0 |\n",
      "|BR0075   |DLR0195  |Mah-M165|21878175|3         |DT00046|23 |9    |2017|Anadol Motors|Tornado Motors                      |Mah           |7292725.0 |\n",
      "|BR0077   |DLR0155  |Toy-M105|9867107 |1         |DT00046|31 |8    |2017|Anadol Motors|Piaggio Motors                      |Toy           |9867107.0 |\n",
      "|BR0078   |DLR0135  |Hyu-M75 |4583883 |3         |DT00047|5  |5    |2017|Anadol Motors|Morgan Motors                       |Hyu           |1527961.0 |\n",
      "|BR0080   |DLR0095  |Ram-M15 |14383990|2         |DT00048|11 |9    |2017|Anadol Motors|Isuzu Motors                        |Ram           |7191995.0 |\n",
      "|BR0081   |DLR0009  |Dod-M9  |24665256|3         |DT00048|9  |1    |2017|Ariel Motors |Ariel Motors                        |Dod           |8221752.0 |\n",
      "|BR0081   |DLR0076  |Nis-M263|2354637 |3         |DT00049|16 |5    |2017|Ariel Motors |Healey Motors                       |Nis           |784879.0  |\n",
      "|BR0082   |DLR0256  |Vol-M256|2563134 |3         |DT00049|13 |9    |2017|Ariel Motors |Ariel Motors                        |Vol           |854378.0  |\n",
      "|BR0083   |DLR0236  |For-M226|5756780 |1         |DT00050|18 |5    |2017|Ariel Motors |Cadillac Automobile Company Building|For           |5756780.0 |\n",
      "|BR0084   |DLR0216  |Toy-M196|4317585 |1         |DT00050|20 |1    |2017|Ariel Motors |Maybach  Motors                     |Toy           |4317585.0 |\n",
      "+---------+---------+--------+--------+----------+-------+---+-----+----+-------------+------------------------------------+--------------+----------+\n",
      "only showing top 10 rows\n"
     ]
    }
   ],
   "source": [
    "#\n",
    "# Set-ExecutionPolicy Bypass -Scope Process\n",
    "#\n",
    "import pyspark\n",
    "from delta import configure_spark_with_delta_pip\n",
    "from pyspark.sql import Row\n",
    "from pyspark.sql import SparkSession\n",
    "from pyspark.sql.functions import col\n",
    "#\n",
    "#\n",
    "#### _spark = SparkSession.builder.master('local[1]').getOrCreate()\n",
    "#\n",
    "#\n",
    "#\t\t\t\t.config(\t'spark.sql.catalog.spark_catalog'\n",
    "#\t\t\t\t\t\t,\t'io.unitycatalog.spark.UCSingleCatalog') \\\n",
    "#\t\t\t\t.config(\t'spark.sql.catalog.unity'\n",
    "#\t\t\t\t\t\t,\t'io.unitycatalog.spark.UCSingleCatalog') \\\n",
    "#\t\t\t\t.config(\t'spark.sql.defaultCatalog'\n",
    "#\t\t\t\t\t\t,\t'unity') \\\n",
    "#\t\t\t\t.config(\t'spark.sql.catalog.unity.uri'\n",
    "#\t\t\t\t\t\t,\t'http://localhost:4041') \\\n",
    "#\n",
    "_builder =\t(\tSparkSession.builder.master('local[1]') \\\n",
    "\t\t\t\t.appName('pyspark-deltalake-local-testing') \\\n",
    "\t\t\t\t.config(\t'spark.sql.extensions'\n",
    "\t\t\t\t\t\t,\t'io.delta.sql.DeltaSparkSessionExtension')\n",
    "\t\t\t\t.config(\t'spark.sql.catalog.spark_catalog'\n",
    "\t\t\t\t\t\t,\t'org.apache.spark.sql.delta.catalog.DeltaCatalog'))\n",
    "#\n",
    "_spark = configure_spark_with_delta_pip(_builder).enableHiveSupport().getOrCreate()\n",
    "#\n",
    "#\n",
    "#"
   ]
  },
  {
   "cell_type": "code",
   "execution_count": null,
   "id": "b151ed7e",
   "metadata": {},
   "outputs": [
    {
     "data": {
      "text/html": [
       "\n",
       "            <div>\n",
       "                <p><b>SparkSession - hive</b></p>\n",
       "                \n",
       "        <div>\n",
       "            <p><b>SparkContext</b></p>\n",
       "\n",
       "            <p><a href=\"http://host.docker.internal:4040\">Spark UI</a></p>\n",
       "\n",
       "            <dl>\n",
       "              <dt>Version</dt>\n",
       "                <dd><code>v4.0.0</code></dd>\n",
       "              <dt>Master</dt>\n",
       "                <dd><code>local[1]</code></dd>\n",
       "              <dt>AppName</dt>\n",
       "                <dd><code>pyspark-deltalake-local-testing</code></dd>\n",
       "            </dl>\n",
       "        </div>\n",
       "        \n",
       "            </div>\n",
       "        "
      ],
      "text/plain": [
       "<pyspark.sql.session.SparkSession at 0x1d37f755290>"
      ]
     },
     "execution_count": 2,
     "metadata": {},
     "output_type": "execute_result"
    }
   ],
   "source": [
    "_spark"
   ]
  }
 ],
 "metadata": {
  "kernelspec": {
   "display_name": "AI",
   "language": "python",
   "name": "python3"
  },
  "language_info": {
   "codemirror_mode": {
    "name": "ipython",
    "version": 3
   },
   "file_extension": ".py",
   "mimetype": "text/x-python",
   "name": "python",
   "nbconvert_exporter": "python",
   "pygments_lexer": "ipython3",
   "version": "3.11.0"
  }
 },
 "nbformat": 4,
 "nbformat_minor": 5
}
