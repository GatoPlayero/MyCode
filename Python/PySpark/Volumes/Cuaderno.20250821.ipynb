{
 "cells": [
  {
   "cell_type": "markdown",
   "metadata": {
    "application/vnd.databricks.v1+cell": {
     "cellMetadata": {},
     "inputWidgets": {},
     "nuid": "159a27c6-d1b4-4662-a087-ca5d19fe04d1",
     "showTitle": false,
     "tableResultSettingsMap": {},
     "title": ""
    }
   },
   "source": [
    "####### ref : https://docs.databricks.com/aws/en/data-governance/unity-catalog/"
   ]
  },
  {
   "cell_type": "markdown",
   "metadata": {
    "application/vnd.databricks.v1+cell": {
     "cellMetadata": {},
     "inputWidgets": {},
     "nuid": "4c999bca-2e02-40c7-b7c1-eb783ce9efca",
     "showTitle": false,
     "tableResultSettingsMap": {},
     "title": ""
    }
   },
   "source": [
    "# Volumes"
   ]
  },
  {
   "cell_type": "code",
   "execution_count": 0,
   "metadata": {
    "application/vnd.databricks.v1+cell": {
     "cellMetadata": {
      "byteLimit": 2048000,
      "rowLimit": 10000
     },
     "inputWidgets": {},
     "nuid": "122ae438-42b0-4626-abb4-aaa590a3535a",
     "showTitle": false,
     "tableResultSettingsMap": {},
     "title": ""
    }
   },
   "outputs": [
    {
     "output_type": "execute_result",
     "data": {
      "text/plain": [
       "[FileInfo(path='abfss://gatovolume@gatouswestorage20250811.dfs.core.windows.net/RAW/', name='RAW/', size=0, modificationTime=1755789750000)]"
      ]
     },
     "execution_count": 1,
     "metadata": {},
     "output_type": "execute_result"
    }
   ],
   "source": [
    "dbutils.fs.ls('abfss://gatovolume@gatouswestorage20250811.dfs.core.windows.net/')"
   ]
  },
  {
   "cell_type": "code",
   "execution_count": 0,
   "metadata": {
    "application/vnd.databricks.v1+cell": {
     "cellMetadata": {
      "byteLimit": 2048000,
      "rowLimit": 10000
     },
     "inputWidgets": {},
     "nuid": "6339e9d7-5fcc-44fd-99bf-4e6a3dea4e49",
     "showTitle": false,
     "tableResultSettingsMap": {},
     "title": ""
    }
   },
   "outputs": [
    {
     "output_type": "execute_result",
     "data": {
      "text/plain": [
       "True"
      ]
     },
     "execution_count": 2,
     "metadata": {},
     "output_type": "execute_result"
    }
   ],
   "source": [
    "dbutils.fs.mkdirs('abfss://gatovolume@gatouswestorage20250811.dfs.core.windows.net/ExternalSink/')"
   ]
  },
  {
   "cell_type": "code",
   "execution_count": 0,
   "metadata": {
    "application/vnd.databricks.v1+cell": {
     "cellMetadata": {
      "byteLimit": 2048000,
      "rowLimit": 10000
     },
     "inputWidgets": {},
     "nuid": "682c6ba4-712e-41f6-9871-fefc424e4a74",
     "showTitle": false,
     "tableResultSettingsMap": {},
     "title": ""
    }
   },
   "outputs": [
    {
     "output_type": "execute_result",
     "data": {
      "text/plain": [
       "[FileInfo(path='abfss://gatovolume@gatouswestorage20250811.dfs.core.windows.net/ExternalSink/', name='ExternalSink/', size=0, modificationTime=1755793396000),\n",
       " FileInfo(path='abfss://gatovolume@gatouswestorage20250811.dfs.core.windows.net/RAW/', name='RAW/', size=0, modificationTime=1755789750000)]"
      ]
     },
     "execution_count": 4,
     "metadata": {},
     "output_type": "execute_result"
    }
   ],
   "source": [
    "dbutils.fs.ls('abfss://gatovolume@gatouswestorage20250811.dfs.core.windows.net/')"
   ]
  },
  {
   "cell_type": "code",
   "execution_count": 0,
   "metadata": {
    "application/vnd.databricks.v1+cell": {
     "cellMetadata": {
      "byteLimit": 2048000,
      "rowLimit": 10000
     },
     "inputWidgets": {},
     "nuid": "08e11bd9-6738-4eb4-8df9-8486ef6bdd44",
     "showTitle": false,
     "tableResultSettingsMap": {},
     "title": ""
    }
   },
   "outputs": [
    {
     "output_type": "stream",
     "name": "stdout",
     "output_type": "stream",
     "text": [
      "Catalog Name: autoloadcatalog\nCatalog Name: catalogo_gatuno\nCatalog Name: catalogo_gatuno_externo\nCatalog Name: hive_metastore\nCatalog Name: main\nCatalog Name: samples\nCatalog Name: system\n"
     ]
    }
   ],
   "source": [
    "_catalog = spark.catalog\n",
    "_catalogs = _catalog.listCatalogs()\n",
    "for cat in _catalogs:\n",
    "\tprint(f\"Catalog Name: {cat.name}\")"
   ]
  },
  {
   "cell_type": "markdown",
   "metadata": {
    "application/vnd.databricks.v1+cell": {
     "cellMetadata": {},
     "inputWidgets": {},
     "nuid": "0161d133-a328-4a9c-a649-afde76666226",
     "showTitle": false,
     "tableResultSettingsMap": {},
     "title": ""
    }
   },
   "source": [
    "###External Catalog\n",
    "*don't forget to create the unity catalog **_BERFORE_** the compute cluster*"
   ]
  },
  {
   "cell_type": "code",
   "execution_count": 0,
   "metadata": {
    "application/vnd.databricks.v1+cell": {
     "cellMetadata": {
      "byteLimit": 2048000,
      "implicitDf": true,
      "rowLimit": 10000
     },
     "inputWidgets": {},
     "nuid": "68b804ed-0a1e-4045-9ac9-e0d4ce8f572d",
     "showTitle": false,
     "tableResultSettingsMap": {},
     "title": ""
    }
   },
   "outputs": [],
   "source": [
    "%sql\n",
    "CREATE CATALOG catalogo_gatuno_volumenes\n",
    "MANAGED LOCATION 'abfss://gatovolume@gatouswestorage20250811.dfs.core.windows.net/ExternalCatalogs';"
   ]
  },
  {
   "cell_type": "code",
   "execution_count": 0,
   "metadata": {
    "application/vnd.databricks.v1+cell": {
     "cellMetadata": {
      "byteLimit": 2048000,
      "implicitDf": true,
      "rowLimit": 10000
     },
     "inputWidgets": {},
     "nuid": "fca38b48-c026-466e-86d8-fcecb7aafb40",
     "showTitle": false,
     "tableResultSettingsMap": {},
     "title": ""
    }
   },
   "outputs": [],
   "source": [
    "%sql\n",
    "CREATE SCHEMA catalogo_gatuno_volumenes.esquema_gatuno_externo;"
   ]
  },
  {
   "cell_type": "code",
   "execution_count": 0,
   "metadata": {
    "application/vnd.databricks.v1+cell": {
     "cellMetadata": {
      "byteLimit": 2048000,
      "rowLimit": 10000
     },
     "inputWidgets": {},
     "nuid": "9c7f5ec1-fcbb-4314-a2cb-29f51429516a",
     "showTitle": false,
     "tableResultSettingsMap": {},
     "title": ""
    }
   },
   "outputs": [
    {
     "output_type": "execute_result",
     "data": {
      "text/plain": [
       "DataFrame[]"
      ]
     },
     "execution_count": 8,
     "metadata": {},
     "output_type": "execute_result"
    }
   ],
   "source": [
    "#\n",
    "## REF : https://docs.databricks.com/aws/en/sql/language-manual/sql-ref-volumes\n",
    "#\n",
    "_query = \"CREATE EXTERNAL VOLUME IF NOT EXISTS catalogo_gatuno_volumenes.esquema_gatuno_externo.MiVolumenGatuno COMMENT 'This is my example external volume' LOCATION 'abfss://gatovolume@gatouswestorage20250811.dfs.core.windows.net/ExternalSink/'\"\n",
    "#\n",
    "spark.sql(sqlQuery=_query)\n",
    "#"
   ]
  },
  {
   "cell_type": "markdown",
   "metadata": {
    "application/vnd.databricks.v1+cell": {
     "cellMetadata": {},
     "inputWidgets": {},
     "nuid": "f9651e47-d7c6-4747-9f7c-7505a24d6a9e",
     "showTitle": false,
     "tableResultSettingsMap": {},
     "title": ""
    }
   },
   "source": [
    "##### https://github.com/toUpperCase78/formula1-datasets/blob/master/Formula1_2024season_drivers.csv"
   ]
  },
  {
   "cell_type": "code",
   "execution_count": 0,
   "metadata": {
    "application/vnd.databricks.v1+cell": {
     "cellMetadata": {
      "byteLimit": 2048000,
      "rowLimit": 10000
     },
     "inputWidgets": {},
     "nuid": "36a2e220-4e42-4ffd-bccf-60fe8981c1f0",
     "showTitle": false,
     "tableResultSettingsMap": {
      "0": {
       "dataGridStateBlob": "{\"version\":1,\"tableState\":{\"columnPinning\":{\"left\":[\"#row_number#\"],\"right\":[]},\"columnSizing\":{\"path\":663,\"name\":216,\"size\":90},\"columnVisibility\":{}},\"settings\":{\"columns\":{}},\"syncTimestamp\":1755794926664}",
       "filterBlob": null,
       "queryPlanFiltersBlob": null,
       "tableResultIndex": 0
      }
     },
     "title": ""
    }
   },
   "outputs": [
    {
     "output_type": "display_data",
     "data": {
      "text/html": [
       "<style scoped>\n",
       "  .table-result-container {\n",
       "    max-height: 300px;\n",
       "    overflow: auto;\n",
       "  }\n",
       "  table, th, td {\n",
       "    border: 1px solid black;\n",
       "    border-collapse: collapse;\n",
       "  }\n",
       "  th, td {\n",
       "    padding: 5px;\n",
       "  }\n",
       "  th {\n",
       "    text-align: left;\n",
       "  }\n",
       "</style><div class='table-result-container'><table class='table-result'><thead style='background-color: white'><tr><th>path</th><th>name</th><th>size</th><th>modificationTime</th></tr></thead><tbody><tr><td>abfss://gatovolume@gatouswestorage20250811.dfs.core.windows.net/ExternalSink/Formula1_2024season_drivers.csv</td><td>Formula1_2024season_drivers.csv</td><td>2388</td><td>1755794790000</td></tr></tbody></table></div>"
      ]
     },
     "metadata": {
      "application/vnd.databricks.v1+output": {
       "addedWidgets": {},
       "aggData": [],
       "aggError": "",
       "aggOverflow": false,
       "aggSchema": [],
       "aggSeriesLimitReached": false,
       "aggType": "",
       "arguments": {},
       "columnCustomDisplayInfos": {},
       "data": [
        [
         "abfss://gatovolume@gatouswestorage20250811.dfs.core.windows.net/ExternalSink/Formula1_2024season_drivers.csv",
         "Formula1_2024season_drivers.csv",
         2388,
         1755794790000
        ]
       ],
       "datasetInfos": [],
       "dbfsResultPath": null,
       "isJsonSchema": true,
       "metadata": {},
       "overflow": false,
       "plotOptions": {
        "customPlotOptions": {},
        "displayType": "table",
        "pivotAggregation": null,
        "pivotColumns": null,
        "xColumns": null,
        "yColumns": null
       },
       "removedWidgets": [],
       "schema": [
        {
         "metadata": "{}",
         "name": "path",
         "type": "\"string\""
        },
        {
         "metadata": "{}",
         "name": "name",
         "type": "\"string\""
        },
        {
         "metadata": "{}",
         "name": "size",
         "type": "\"long\""
        },
        {
         "metadata": "{}",
         "name": "modificationTime",
         "type": "\"long\""
        }
       ],
       "type": "table"
      }
     },
     "output_type": "display_data"
    }
   ],
   "source": [
    "%fs\n",
    "ls 'abfss://gatovolume@gatouswestorage20250811.dfs.core.windows.net/ExternalSink/'"
   ]
  },
  {
   "cell_type": "code",
   "execution_count": 0,
   "metadata": {
    "application/vnd.databricks.v1+cell": {
     "cellMetadata": {
      "byteLimit": 2048000,
      "rowLimit": 10000
     },
     "inputWidgets": {},
     "nuid": "f18a43ce-9f48-4065-b776-a74a3e240c92",
     "showTitle": false,
     "tableResultSettingsMap": {
      "0": {
       "dataGridStateBlob": "{\"version\":1,\"tableState\":{\"columnPinning\":{\"left\":[\"#row_number#\"],\"right\":[]},\"columnSizing\":{\"path\":683,\"name\":197},\"columnVisibility\":{}},\"settings\":{\"columns\":{}},\"syncTimestamp\":1755795108298}",
       "filterBlob": null,
       "queryPlanFiltersBlob": null,
       "tableResultIndex": 0
      }
     },
     "title": ""
    }
   },
   "outputs": [
    {
     "output_type": "display_data",
     "data": {
      "text/html": [
       "<style scoped>\n",
       "  .table-result-container {\n",
       "    max-height: 300px;\n",
       "    overflow: auto;\n",
       "  }\n",
       "  table, th, td {\n",
       "    border: 1px solid black;\n",
       "    border-collapse: collapse;\n",
       "  }\n",
       "  th, td {\n",
       "    padding: 5px;\n",
       "  }\n",
       "  th {\n",
       "    text-align: left;\n",
       "  }\n",
       "</style><div class='table-result-container'><table class='table-result'><thead style='background-color: white'><tr><th>path</th><th>name</th><th>size</th><th>modificationTime</th></tr></thead><tbody><tr><td>dbfs:/Volumes/catalogo_gatuno_volumenes/esquema_gatuno_externo/mivolumengatuno/Formula1_2024season_drivers.csv</td><td>Formula1_2024season_drivers.csv</td><td>2388</td><td>1755794790000</td></tr></tbody></table></div>"
      ]
     },
     "metadata": {
      "application/vnd.databricks.v1+output": {
       "addedWidgets": {},
       "aggData": [],
       "aggError": "",
       "aggOverflow": false,
       "aggSchema": [],
       "aggSeriesLimitReached": false,
       "aggType": "",
       "arguments": {},
       "columnCustomDisplayInfos": {},
       "data": [
        [
         "dbfs:/Volumes/catalogo_gatuno_volumenes/esquema_gatuno_externo/mivolumengatuno/Formula1_2024season_drivers.csv",
         "Formula1_2024season_drivers.csv",
         2388,
         1755794790000
        ]
       ],
       "datasetInfos": [],
       "dbfsResultPath": null,
       "isJsonSchema": true,
       "metadata": {},
       "overflow": false,
       "plotOptions": {
        "customPlotOptions": {},
        "displayType": "table",
        "pivotAggregation": null,
        "pivotColumns": null,
        "xColumns": null,
        "yColumns": null
       },
       "removedWidgets": [],
       "schema": [
        {
         "metadata": "{}",
         "name": "path",
         "type": "\"string\""
        },
        {
         "metadata": "{}",
         "name": "name",
         "type": "\"string\""
        },
        {
         "metadata": "{}",
         "name": "size",
         "type": "\"long\""
        },
        {
         "metadata": "{}",
         "name": "modificationTime",
         "type": "\"long\""
        }
       ],
       "type": "table"
      }
     },
     "output_type": "display_data"
    }
   ],
   "source": [
    "%fs\n",
    "ls '/Volumes/catalogo_gatuno_volumenes/esquema_gatuno_externo/mivolumengatuno'"
   ]
  },
  {
   "cell_type": "code",
   "execution_count": 0,
   "metadata": {
    "application/vnd.databricks.v1+cell": {
     "cellMetadata": {
      "byteLimit": 2048000,
      "rowLimit": 10000
     },
     "inputWidgets": {},
     "nuid": "e6140fd2-7943-4d88-a61c-685ed55e4215",
     "showTitle": false,
     "tableResultSettingsMap": {},
     "title": ""
    }
   },
   "outputs": [
    {
     "output_type": "display_data",
     "data": {
      "text/html": [
       "<style scoped>\n",
       "  .table-result-container {\n",
       "    max-height: 300px;\n",
       "    overflow: auto;\n",
       "  }\n",
       "  table, th, td {\n",
       "    border: 1px solid black;\n",
       "    border-collapse: collapse;\n",
       "  }\n",
       "  th, td {\n",
       "    padding: 5px;\n",
       "  }\n",
       "  th {\n",
       "    text-align: left;\n",
       "  }\n",
       "</style><div class='table-result-container'><table class='table-result'><thead style='background-color: white'><tr><th>Driver</th><th>Abbreviation</th><th>No</th><th>Team</th><th>Country</th><th>Podiums</th><th>Points</th><th>GrandsPrixEntered</th><th>WorldChampionships</th><th>HighestRaceFinish</th><th>HighestGridPosition</th><th>DateOfBirth</th><th>PlaceOfBirth</th></tr></thead><tbody><tr><td>Max Verstappen</td><td>VER</td><td>1</td><td>Red Bull Racing</td><td>Netherlands</td><td>112</td><td>3023.5</td><td>209</td><td>4</td><td>1(x63)</td><td>1</td><td>1997-09-30</td><td>Hasselt, Belgium</td></tr><tr><td>Charles Leclerc</td><td>LEC</td><td>16</td><td>Ferrari</td><td>Monaco</td><td>43</td><td>1430.0</td><td>149</td><td>0</td><td>1(x8)</td><td>1</td><td>1997-10-16</td><td>Monte Carlo, Monaco</td></tr><tr><td>Oscar Piastri</td><td>PIA</td><td>81</td><td>McLaren</td><td>Australia</td><td>10</td><td>389.0</td><td>46</td><td>0</td><td>1(x2)</td><td>2</td><td>2001-04-06</td><td>Melbourne, Victoria</td></tr><tr><td>Carlos Sainz</td><td>SAI</td><td>55</td><td>Ferrari</td><td>Spain</td><td>27</td><td>1272.5</td><td>208</td><td>0</td><td>1(x4)</td><td>1</td><td>1994-09-01</td><td>Madrid, Spain</td></tr><tr><td>Lewis Hamilton</td><td>HAM</td><td>44</td><td>Mercedes</td><td>United Kingdom</td><td>202</td><td>4862.5</td><td>356</td><td>7</td><td>1(x105)</td><td>1</td><td>1985-01-07</td><td>Stevenage, England</td></tr></tbody></table></div>"
      ]
     },
     "metadata": {
      "application/vnd.databricks.v1+output": {
       "addedWidgets": {},
       "aggData": [],
       "aggError": "",
       "aggOverflow": false,
       "aggSchema": [],
       "aggSeriesLimitReached": false,
       "aggType": "",
       "arguments": {},
       "columnCustomDisplayInfos": {},
       "data": [
        [
         "Max Verstappen",
         "VER",
         1,
         "Red Bull Racing",
         "Netherlands",
         112,
         3023.5,
         209,
         4,
         "1(x63)",
         1,
         "1997-09-30",
         "Hasselt, Belgium"
        ],
        [
         "Charles Leclerc",
         "LEC",
         16,
         "Ferrari",
         "Monaco",
         43,
         1430.0,
         149,
         0,
         "1(x8)",
         1,
         "1997-10-16",
         "Monte Carlo, Monaco"
        ],
        [
         "Oscar Piastri",
         "PIA",
         81,
         "McLaren",
         "Australia",
         10,
         389.0,
         46,
         0,
         "1(x2)",
         2,
         "2001-04-06",
         "Melbourne, Victoria"
        ],
        [
         "Carlos Sainz",
         "SAI",
         55,
         "Ferrari",
         "Spain",
         27,
         1272.5,
         208,
         0,
         "1(x4)",
         1,
         "1994-09-01",
         "Madrid, Spain"
        ],
        [
         "Lewis Hamilton",
         "HAM",
         44,
         "Mercedes",
         "United Kingdom",
         202,
         4862.5,
         356,
         7,
         "1(x105)",
         1,
         "1985-01-07",
         "Stevenage, England"
        ]
       ],
       "datasetInfos": [],
       "dbfsResultPath": null,
       "isJsonSchema": true,
       "metadata": {},
       "overflow": false,
       "plotOptions": {
        "customPlotOptions": {},
        "displayType": "table",
        "pivotAggregation": null,
        "pivotColumns": null,
        "xColumns": null,
        "yColumns": null
       },
       "removedWidgets": [],
       "schema": [
        {
         "metadata": "{}",
         "name": "Driver",
         "type": "\"string\""
        },
        {
         "metadata": "{}",
         "name": "Abbreviation",
         "type": "\"string\""
        },
        {
         "metadata": "{}",
         "name": "No",
         "type": "\"integer\""
        },
        {
         "metadata": "{}",
         "name": "Team",
         "type": "\"string\""
        },
        {
         "metadata": "{}",
         "name": "Country",
         "type": "\"string\""
        },
        {
         "metadata": "{}",
         "name": "Podiums",
         "type": "\"integer\""
        },
        {
         "metadata": "{}",
         "name": "Points",
         "type": "\"double\""
        },
        {
         "metadata": "{}",
         "name": "GrandsPrixEntered",
         "type": "\"integer\""
        },
        {
         "metadata": "{}",
         "name": "WorldChampionships",
         "type": "\"integer\""
        },
        {
         "metadata": "{}",
         "name": "HighestRaceFinish",
         "type": "\"string\""
        },
        {
         "metadata": "{}",
         "name": "HighestGridPosition",
         "type": "\"integer\""
        },
        {
         "metadata": "{\"__detected_date_formats\":\"d/M/yyyy\"}",
         "name": "DateOfBirth",
         "type": "\"date\""
        },
        {
         "metadata": "{}",
         "name": "PlaceOfBirth",
         "type": "\"string\""
        }
       ],
       "type": "table"
      }
     },
     "output_type": "display_data"
    }
   ],
   "source": [
    "from pyspark.sql.functions import col\n",
    "#\n",
    "display(spark.read \\\n",
    "\t.option('header', True) \\\n",
    "\t.option('inferSchema', True) \\\n",
    "\t.csv('/Volumes/catalogo_gatuno_volumenes/esquema_gatuno_externo/mivolumengatuno/Formula1_2024season_drivers.csv') \\\n",
    "\t.where(col('No') != '4') \\\n",
    "\t.filter(~col('No').isin(([4,63]))) \\\n",
    "\t.limit(5))"
   ]
  },
  {
   "cell_type": "code",
   "execution_count": 0,
   "metadata": {
    "application/vnd.databricks.v1+cell": {
     "cellMetadata": {
      "byteLimit": 2048000,
      "rowLimit": 10000
     },
     "inputWidgets": {},
     "nuid": "ddeeb407-a882-4e57-98f1-c09509dde4ba",
     "showTitle": false,
     "tableResultSettingsMap": {},
     "title": ""
    }
   },
   "outputs": [
    {
     "output_type": "stream",
     "name": "stdout",
     "output_type": "stream",
     "text": [
      "Driver,Abbreviation,No,Team,Country,Podiums,Points,GrandsPrixEntered,WorldChampionships,HighestRaceFinish,HighestGridPosition,DateOfBirth,PlaceOfBirth\n\n"
     ]
    }
   ],
   "source": [
    "%python\n",
    "with open('/Volumes/catalogo_gatuno_volumenes/esquema_gatuno_externo/mivolumengatuno/Formula1_2024season_drivers.csv', 'r') as f:\n",
    "\tprint(f.readline())"
   ]
  },
  {
   "cell_type": "code",
   "execution_count": 0,
   "metadata": {
    "application/vnd.databricks.v1+cell": {
     "cellMetadata": {
      "byteLimit": 2048000,
      "rowLimit": 10000
     },
     "inputWidgets": {},
     "nuid": "b52b1fd8-71f0-4560-bd2a-eb2146910ad4",
     "showTitle": false,
     "tableResultSettingsMap": {},
     "title": ""
    }
   },
   "outputs": [
    {
     "output_type": "execute_result",
     "data": {
      "text/plain": [
       "<pyspark.sql.connect.streaming.query.StreamingQuery at 0xffff32d0c530>"
      ]
     },
     "execution_count": 16,
     "metadata": {},
     "output_type": "execute_result"
    }
   ],
   "source": [
    "((spark.readStream \\\n",
    "\t\t.format('cloudFiles') \\\n",
    "\t\t.option('cloudFiles.format', 'csv') \\\n",
    "\t\t.option('cloudFiles.schemaLocation','abfss://gatovolume@gatouswestorage20250811.dfs.core.windows.net/Schemas/') \\\n",
    "\t\t.option('header', True) \\\n",
    "\t\t.option('inferSchema', True) \\\n",
    "\t\t.load('/Volumes/catalogo_gatuno_volumenes/esquema_gatuno_externo/mivolumengatuno/')) \\\n",
    "\t.writeStream.format('delta') \\\n",
    "\t\t.option('checkpointLocation','abfss://gatovolume@gatouswestorage20250811.dfs.core.windows.net/Checkpoint/') \\\n",
    "\t\t.outputMode('append') \\\n",
    "\t\t.trigger(once=True) \\\n",
    "\t\t.toTable('catalogo_gatuno_volumenes.esquema_gatuno_externo.FormulaUnoDrivers2024'))"
   ]
  },
  {
   "cell_type": "code",
   "execution_count": 0,
   "metadata": {
    "application/vnd.databricks.v1+cell": {
     "cellMetadata": {
      "byteLimit": 2048000,
      "implicitDf": true,
      "rowLimit": 10000
     },
     "inputWidgets": {},
     "nuid": "c8457956-381a-4289-aa47-33fbab7531a7",
     "showTitle": false,
     "tableResultSettingsMap": {},
     "title": ""
    }
   },
   "outputs": [
    {
     "output_type": "display_data",
     "data": {
      "text/html": [
       "<style scoped>\n",
       "  .table-result-container {\n",
       "    max-height: 300px;\n",
       "    overflow: auto;\n",
       "  }\n",
       "  table, th, td {\n",
       "    border: 1px solid black;\n",
       "    border-collapse: collapse;\n",
       "  }\n",
       "  th, td {\n",
       "    padding: 5px;\n",
       "  }\n",
       "  th {\n",
       "    text-align: left;\n",
       "  }\n",
       "</style><div class='table-result-container'><table class='table-result'><thead style='background-color: white'><tr><th>Driver</th><th>Abbreviation</th><th>No</th><th>Team</th><th>Country</th><th>Podiums</th><th>Points</th><th>GrandsPrixEntered</th><th>WorldChampionships</th><th>HighestRaceFinish</th><th>HighestGridPosition</th><th>DateOfBirth</th><th>PlaceOfBirth</th><th>_rescued_data</th></tr></thead><tbody><tr><td>Max Verstappen</td><td>VER</td><td>1</td><td>Red Bull Racing</td><td>Netherlands</td><td>112</td><td>3023.5</td><td>209</td><td>4</td><td>1(x63)</td><td>1</td><td>30/09/1997</td><td>Hasselt, Belgium</td><td>null</td></tr><tr><td>Charles Leclerc</td><td>LEC</td><td>16</td><td>Ferrari</td><td>Monaco</td><td>43</td><td>1430</td><td>149</td><td>0</td><td>1(x8)</td><td>1</td><td>16/10/1997</td><td>Monte Carlo, Monaco</td><td>null</td></tr><tr><td>Oscar Piastri</td><td>PIA</td><td>81</td><td>McLaren</td><td>Australia</td><td>10</td><td>389</td><td>46</td><td>0</td><td>1(x2)</td><td>2</td><td>06/04/2001</td><td>Melbourne, Victoria</td><td>null</td></tr><tr><td>Carlos Sainz</td><td>SAI</td><td>55</td><td>Ferrari</td><td>Spain</td><td>27</td><td>1272.5</td><td>208</td><td>0</td><td>1(x4)</td><td>1</td><td>01/09/1994</td><td>Madrid, Spain</td><td>null</td></tr><tr><td>Lewis Hamilton</td><td>HAM</td><td>44</td><td>Mercedes</td><td>United Kingdom</td><td>202</td><td>4862.5</td><td>356</td><td>7</td><td>1(x105)</td><td>1</td><td>07/01/1985</td><td>Stevenage, England</td><td>null</td></tr></tbody></table></div>"
      ]
     },
     "metadata": {
      "application/vnd.databricks.v1+output": {
       "addedWidgets": {},
       "aggData": [],
       "aggError": "",
       "aggOverflow": false,
       "aggSchema": [],
       "aggSeriesLimitReached": false,
       "aggType": "",
       "arguments": {},
       "columnCustomDisplayInfos": {},
       "data": [
        [
         "Max Verstappen",
         "VER",
         "1",
         "Red Bull Racing",
         "Netherlands",
         "112",
         "3023.5",
         "209",
         "4",
         "1(x63)",
         "1",
         "30/09/1997",
         "Hasselt, Belgium",
         null
        ],
        [
         "Charles Leclerc",
         "LEC",
         "16",
         "Ferrari",
         "Monaco",
         "43",
         "1430",
         "149",
         "0",
         "1(x8)",
         "1",
         "16/10/1997",
         "Monte Carlo, Monaco",
         null
        ],
        [
         "Oscar Piastri",
         "PIA",
         "81",
         "McLaren",
         "Australia",
         "10",
         "389",
         "46",
         "0",
         "1(x2)",
         "2",
         "06/04/2001",
         "Melbourne, Victoria",
         null
        ],
        [
         "Carlos Sainz",
         "SAI",
         "55",
         "Ferrari",
         "Spain",
         "27",
         "1272.5",
         "208",
         "0",
         "1(x4)",
         "1",
         "01/09/1994",
         "Madrid, Spain",
         null
        ],
        [
         "Lewis Hamilton",
         "HAM",
         "44",
         "Mercedes",
         "United Kingdom",
         "202",
         "4862.5",
         "356",
         "7",
         "1(x105)",
         "1",
         "07/01/1985",
         "Stevenage, England",
         null
        ]
       ],
       "datasetInfos": [
        {
         "name": "_sqldf",
         "schema": {
          "fields": [
           {
            "metadata": {},
            "name": "Driver",
            "nullable": true,
            "type": "string"
           },
           {
            "metadata": {},
            "name": "Abbreviation",
            "nullable": true,
            "type": "string"
           },
           {
            "metadata": {},
            "name": "No",
            "nullable": true,
            "type": "string"
           },
           {
            "metadata": {},
            "name": "Team",
            "nullable": true,
            "type": "string"
           },
           {
            "metadata": {},
            "name": "Country",
            "nullable": true,
            "type": "string"
           },
           {
            "metadata": {},
            "name": "Podiums",
            "nullable": true,
            "type": "string"
           },
           {
            "metadata": {},
            "name": "Points",
            "nullable": true,
            "type": "string"
           },
           {
            "metadata": {},
            "name": "GrandsPrixEntered",
            "nullable": true,
            "type": "string"
           },
           {
            "metadata": {},
            "name": "WorldChampionships",
            "nullable": true,
            "type": "string"
           },
           {
            "metadata": {},
            "name": "HighestRaceFinish",
            "nullable": true,
            "type": "string"
           },
           {
            "metadata": {},
            "name": "HighestGridPosition",
            "nullable": true,
            "type": "string"
           },
           {
            "metadata": {
             "__detected_date_formats": "d/M/yyyy"
            },
            "name": "DateOfBirth",
            "nullable": true,
            "type": "string"
           },
           {
            "metadata": {},
            "name": "PlaceOfBirth",
            "nullable": true,
            "type": "string"
           },
           {
            "metadata": {},
            "name": "_rescued_data",
            "nullable": true,
            "type": "string"
           }
          ],
          "type": "struct"
         },
         "tableIdentifier": null,
         "typeStr": "pyspark.sql.connect.dataframe.DataFrame"
        }
       ],
       "dbfsResultPath": null,
       "isJsonSchema": true,
       "metadata": {
        "createTempViewForImplicitDf": true,
        "dataframeName": "_sqldf",
        "executionCount": 22
       },
       "overflow": false,
       "plotOptions": {
        "customPlotOptions": {},
        "displayType": "table",
        "pivotAggregation": null,
        "pivotColumns": null,
        "xColumns": null,
        "yColumns": null
       },
       "removedWidgets": [],
       "schema": [
        {
         "metadata": "{}",
         "name": "Driver",
         "type": "\"string\""
        },
        {
         "metadata": "{}",
         "name": "Abbreviation",
         "type": "\"string\""
        },
        {
         "metadata": "{}",
         "name": "No",
         "type": "\"string\""
        },
        {
         "metadata": "{}",
         "name": "Team",
         "type": "\"string\""
        },
        {
         "metadata": "{}",
         "name": "Country",
         "type": "\"string\""
        },
        {
         "metadata": "{}",
         "name": "Podiums",
         "type": "\"string\""
        },
        {
         "metadata": "{}",
         "name": "Points",
         "type": "\"string\""
        },
        {
         "metadata": "{}",
         "name": "GrandsPrixEntered",
         "type": "\"string\""
        },
        {
         "metadata": "{}",
         "name": "WorldChampionships",
         "type": "\"string\""
        },
        {
         "metadata": "{}",
         "name": "HighestRaceFinish",
         "type": "\"string\""
        },
        {
         "metadata": "{}",
         "name": "HighestGridPosition",
         "type": "\"string\""
        },
        {
         "metadata": "{\"__detected_date_formats\":\"d/M/yyyy\"}",
         "name": "DateOfBirth",
         "type": "\"string\""
        },
        {
         "metadata": "{}",
         "name": "PlaceOfBirth",
         "type": "\"string\""
        },
        {
         "metadata": "{}",
         "name": "_rescued_data",
         "type": "\"string\""
        }
       ],
       "type": "table"
      }
     },
     "output_type": "display_data"
    }
   ],
   "source": [
    "%sql\n",
    "SELECT\n",
    "\t*\n",
    "FROM\n",
    "\tcatalogo_gatuno_volumenes.esquema_gatuno_externo.FormulaUnoDrivers2024\n",
    "WHERE\n",
    "\tNo NOT IN (4,63)\n",
    "LIMIT 5;"
   ]
  },
  {
   "cell_type": "code",
   "execution_count": 0,
   "metadata": {
    "application/vnd.databricks.v1+cell": {
     "cellMetadata": {
      "byteLimit": 2048000,
      "implicitDf": true,
      "rowLimit": 10000
     },
     "inputWidgets": {},
     "nuid": "0cdba71d-94fd-48a7-be5f-e71a1c6022bc",
     "showTitle": false,
     "tableResultSettingsMap": {},
     "title": ""
    }
   },
   "outputs": [
    {
     "output_type": "display_data",
     "data": {
      "text/html": [
       "<style scoped>\n",
       "  .table-result-container {\n",
       "    max-height: 300px;\n",
       "    overflow: auto;\n",
       "  }\n",
       "  table, th, td {\n",
       "    border: 1px solid black;\n",
       "    border-collapse: collapse;\n",
       "  }\n",
       "  th, td {\n",
       "    padding: 5px;\n",
       "  }\n",
       "  th {\n",
       "    text-align: left;\n",
       "  }\n",
       "</style><div class='table-result-container'><table class='table-result'><thead style='background-color: white'><tr><th>_c0</th><th>_c1</th><th>_c2</th><th>_c3</th><th>_c4</th><th>_c5</th><th>_c6</th><th>_c7</th><th>_c8</th><th>_c9</th><th>_c10</th><th>_c11</th><th>_c12</th></tr></thead><tbody><tr><td>Driver</td><td>Abbreviation</td><td>No</td><td>Team</td><td>Country</td><td>Podiums</td><td>Points</td><td>GrandsPrixEntered</td><td>WorldChampionships</td><td>HighestRaceFinish</td><td>HighestGridPosition</td><td>DateOfBirth</td><td>PlaceOfBirth</td></tr><tr><td>Max Verstappen</td><td>VER</td><td>1</td><td>Red Bull Racing</td><td>Netherlands</td><td>112</td><td>3023.5</td><td>209</td><td>4</td><td>1(x63)</td><td>1</td><td>30/09/1997</td><td>Hasselt, Belgium</td></tr></tbody></table></div>"
      ]
     },
     "metadata": {
      "application/vnd.databricks.v1+output": {
       "addedWidgets": {},
       "aggData": [],
       "aggError": "",
       "aggOverflow": false,
       "aggSchema": [],
       "aggSeriesLimitReached": false,
       "aggType": "",
       "arguments": {},
       "columnCustomDisplayInfos": {},
       "data": [
        [
         "Driver",
         "Abbreviation",
         "No",
         "Team",
         "Country",
         "Podiums",
         "Points",
         "GrandsPrixEntered",
         "WorldChampionships",
         "HighestRaceFinish",
         "HighestGridPosition",
         "DateOfBirth",
         "PlaceOfBirth"
        ],
        [
         "Max Verstappen",
         "VER",
         "1",
         "Red Bull Racing",
         "Netherlands",
         "112",
         "3023.5",
         "209",
         "4",
         "1(x63)",
         "1",
         "30/09/1997",
         "Hasselt, Belgium"
        ]
       ],
       "datasetInfos": [
        {
         "name": "_sqldf",
         "schema": {
          "fields": [
           {
            "metadata": {},
            "name": "_c0",
            "nullable": true,
            "type": "string"
           },
           {
            "metadata": {},
            "name": "_c1",
            "nullable": true,
            "type": "string"
           },
           {
            "metadata": {},
            "name": "_c2",
            "nullable": true,
            "type": "string"
           },
           {
            "metadata": {},
            "name": "_c3",
            "nullable": true,
            "type": "string"
           },
           {
            "metadata": {},
            "name": "_c4",
            "nullable": true,
            "type": "string"
           },
           {
            "metadata": {},
            "name": "_c5",
            "nullable": true,
            "type": "string"
           },
           {
            "metadata": {},
            "name": "_c6",
            "nullable": true,
            "type": "string"
           },
           {
            "metadata": {},
            "name": "_c7",
            "nullable": true,
            "type": "string"
           },
           {
            "metadata": {},
            "name": "_c8",
            "nullable": true,
            "type": "string"
           },
           {
            "metadata": {},
            "name": "_c9",
            "nullable": true,
            "type": "string"
           },
           {
            "metadata": {},
            "name": "_c10",
            "nullable": true,
            "type": "string"
           },
           {
            "metadata": {},
            "name": "_c11",
            "nullable": true,
            "type": "string"
           },
           {
            "metadata": {},
            "name": "_c12",
            "nullable": true,
            "type": "string"
           }
          ],
          "type": "struct"
         },
         "tableIdentifier": null,
         "typeStr": "pyspark.sql.connect.dataframe.DataFrame"
        }
       ],
       "dbfsResultPath": null,
       "isJsonSchema": true,
       "metadata": {
        "createTempViewForImplicitDf": true,
        "dataframeName": "_sqldf",
        "executionCount": 29
       },
       "overflow": false,
       "plotOptions": {
        "customPlotOptions": {},
        "displayType": "table",
        "pivotAggregation": null,
        "pivotColumns": null,
        "xColumns": null,
        "yColumns": null
       },
       "removedWidgets": [],
       "schema": [
        {
         "metadata": "{}",
         "name": "_c0",
         "type": "\"string\""
        },
        {
         "metadata": "{}",
         "name": "_c1",
         "type": "\"string\""
        },
        {
         "metadata": "{}",
         "name": "_c2",
         "type": "\"string\""
        },
        {
         "metadata": "{}",
         "name": "_c3",
         "type": "\"string\""
        },
        {
         "metadata": "{}",
         "name": "_c4",
         "type": "\"string\""
        },
        {
         "metadata": "{}",
         "name": "_c5",
         "type": "\"string\""
        },
        {
         "metadata": "{}",
         "name": "_c6",
         "type": "\"string\""
        },
        {
         "metadata": "{}",
         "name": "_c7",
         "type": "\"string\""
        },
        {
         "metadata": "{}",
         "name": "_c8",
         "type": "\"string\""
        },
        {
         "metadata": "{}",
         "name": "_c9",
         "type": "\"string\""
        },
        {
         "metadata": "{}",
         "name": "_c10",
         "type": "\"string\""
        },
        {
         "metadata": "{}",
         "name": "_c11",
         "type": "\"string\""
        },
        {
         "metadata": "{}",
         "name": "_c12",
         "type": "\"string\""
        }
       ],
       "type": "table"
      }
     },
     "output_type": "display_data"
    }
   ],
   "source": [
    "%sql\n",
    "SELECT\n",
    "\t*\n",
    "FROM\n",
    "\tcsv.`/Volumes/catalogo_gatuno_volumenes/esquema_gatuno_externo/mivolumengatuno/`\n",
    "WHERE\n",
    "\t_c3 NOT IN (4, 63)\n",
    "LIMIT 2;"
   ]
  },
  {
   "cell_type": "code",
   "execution_count": 0,
   "metadata": {
    "application/vnd.databricks.v1+cell": {
     "cellMetadata": {
      "byteLimit": 2048000,
      "implicitDf": true,
      "rowLimit": 10000
     },
     "inputWidgets": {},
     "nuid": "311a3321-de32-4e0e-8901-5c97653aba29",
     "showTitle": false,
     "tableResultSettingsMap": {
      "0": {
       "dataGridStateBlob": "{\"version\":1,\"tableState\":{\"columnPinning\":{\"left\":[\"#row_number#\"],\"right\":[]},\"columnSizing\":{\"name\":203},\"columnVisibility\":{}},\"settings\":{\"columns\":{}},\"syncTimestamp\":1755807202341}",
       "filterBlob": null,
       "queryPlanFiltersBlob": null,
       "tableResultIndex": 0
      }
     },
     "title": ""
    }
   },
   "outputs": [
    {
     "output_type": "display_data",
     "data": {
      "text/html": [
       "<style scoped>\n",
       "  .table-result-container {\n",
       "    max-height: 300px;\n",
       "    overflow: auto;\n",
       "  }\n",
       "  table, th, td {\n",
       "    border: 1px solid black;\n",
       "    border-collapse: collapse;\n",
       "  }\n",
       "  th, td {\n",
       "    padding: 5px;\n",
       "  }\n",
       "  th {\n",
       "    text-align: left;\n",
       "  }\n",
       "</style><div class='table-result-container'><table class='table-result'><thead style='background-color: white'><tr><th>path</th><th>name</th><th>size</th><th>modification_time</th></tr></thead><tbody><tr><td>/Volumes/catalogo_gatuno_volumenes/esquema_gatuno_externo/mivolumengatuno/Formula1_2024season_drivers.csv</td><td>Formula1_2024season_drivers.csv</td><td>2377</td><td>1755805491000</td></tr></tbody></table></div>"
      ]
     },
     "metadata": {
      "application/vnd.databricks.v1+output": {
       "addedWidgets": {},
       "aggData": [],
       "aggError": "",
       "aggOverflow": false,
       "aggSchema": [],
       "aggSeriesLimitReached": false,
       "aggType": "",
       "arguments": {},
       "columnCustomDisplayInfos": {},
       "data": [
        [
         "/Volumes/catalogo_gatuno_volumenes/esquema_gatuno_externo/mivolumengatuno/Formula1_2024season_drivers.csv",
         "Formula1_2024season_drivers.csv",
         2377,
         1755805491000
        ]
       ],
       "datasetInfos": [
        {
         "name": "_sqldf",
         "schema": {
          "fields": [
           {
            "metadata": {},
            "name": "path",
            "nullable": false,
            "type": "string"
           },
           {
            "metadata": {},
            "name": "name",
            "nullable": false,
            "type": "string"
           },
           {
            "metadata": {},
            "name": "size",
            "nullable": false,
            "type": "long"
           },
           {
            "metadata": {},
            "name": "modification_time",
            "nullable": false,
            "type": "long"
           }
          ],
          "type": "struct"
         },
         "tableIdentifier": null,
         "typeStr": "pyspark.sql.connect.dataframe.DataFrame"
        }
       ],
       "dbfsResultPath": null,
       "isJsonSchema": true,
       "metadata": {
        "createTempViewForImplicitDf": true,
        "dataframeName": "_sqldf",
        "executionCount": 27
       },
       "overflow": false,
       "plotOptions": {
        "customPlotOptions": {},
        "displayType": "table",
        "pivotAggregation": null,
        "pivotColumns": null,
        "xColumns": null,
        "yColumns": null
       },
       "removedWidgets": [],
       "schema": [
        {
         "metadata": "{}",
         "name": "path",
         "type": "\"string\""
        },
        {
         "metadata": "{}",
         "name": "name",
         "type": "\"string\""
        },
        {
         "metadata": "{}",
         "name": "size",
         "type": "\"long\""
        },
        {
         "metadata": "{}",
         "name": "modification_time",
         "type": "\"long\""
        }
       ],
       "type": "table"
      }
     },
     "output_type": "display_data"
    }
   ],
   "source": [
    "%sql\n",
    "LIST '/Volumes/catalogo_gatuno_volumenes/esquema_gatuno_externo/mivolumengatuno/'"
   ]
  },
  {
   "cell_type": "code",
   "execution_count": 0,
   "metadata": {
    "application/vnd.databricks.v1+cell": {
     "cellMetadata": {
      "byteLimit": 2048000,
      "implicitDf": true,
      "rowLimit": 10000
     },
     "inputWidgets": {},
     "nuid": "e96f9ee3-422c-4ad7-b771-6cdc29f2ab62",
     "showTitle": false,
     "tableResultSettingsMap": {},
     "title": ""
    }
   },
   "outputs": [
    {
     "output_type": "display_data",
     "data": {
      "text/html": [
       "<style scoped>\n",
       "  .table-result-container {\n",
       "    max-height: 300px;\n",
       "    overflow: auto;\n",
       "  }\n",
       "  table, th, td {\n",
       "    border: 1px solid black;\n",
       "    border-collapse: collapse;\n",
       "  }\n",
       "  th, td {\n",
       "    padding: 5px;\n",
       "  }\n",
       "  th {\n",
       "    text-align: left;\n",
       "  }\n",
       "</style><div class='table-result-container'><table class='table-result'><thead style='background-color: white'><tr><th>_c0</th><th>_c1</th><th>_c2</th><th>_c3</th><th>_c4</th><th>_c5</th><th>_c6</th><th>_c7</th><th>_c8</th><th>_c9</th><th>_c10</th><th>_c11</th><th>_c12</th></tr></thead><tbody><tr><td>Driver</td><td>Abbreviation</td><td>No</td><td>Team</td><td>Country</td><td>Podiums</td><td>Points</td><td>GrandsPrixEntered</td><td>WorldChampionships</td><td>HighestRaceFinish</td><td>HighestGridPosition</td><td>DateOfBirth</td><td>PlaceOfBirth</td></tr><tr><td>Max Verstappen</td><td>VER</td><td>1</td><td>Red Bull Racing</td><td>Netherlands</td><td>112</td><td>3023.5</td><td>209</td><td>4</td><td>1(x63)</td><td>1</td><td>30/09/1997</td><td>Hasselt, Belgium</td></tr></tbody></table></div>"
      ]
     },
     "metadata": {
      "application/vnd.databricks.v1+output": {
       "addedWidgets": {},
       "aggData": [],
       "aggError": "",
       "aggOverflow": false,
       "aggSchema": [],
       "aggSeriesLimitReached": false,
       "aggType": "",
       "arguments": {},
       "columnCustomDisplayInfos": {},
       "data": [
        [
         "Driver",
         "Abbreviation",
         "No",
         "Team",
         "Country",
         "Podiums",
         "Points",
         "GrandsPrixEntered",
         "WorldChampionships",
         "HighestRaceFinish",
         "HighestGridPosition",
         "DateOfBirth",
         "PlaceOfBirth"
        ],
        [
         "Max Verstappen",
         "VER",
         "1",
         "Red Bull Racing",
         "Netherlands",
         "112",
         "3023.5",
         "209",
         "4",
         "1(x63)",
         "1",
         "30/09/1997",
         "Hasselt, Belgium"
        ]
       ],
       "datasetInfos": [
        {
         "name": "_sqldf",
         "schema": {
          "fields": [
           {
            "metadata": {},
            "name": "_c0",
            "nullable": true,
            "type": "string"
           },
           {
            "metadata": {},
            "name": "_c1",
            "nullable": true,
            "type": "string"
           },
           {
            "metadata": {},
            "name": "_c2",
            "nullable": true,
            "type": "string"
           },
           {
            "metadata": {},
            "name": "_c3",
            "nullable": true,
            "type": "string"
           },
           {
            "metadata": {},
            "name": "_c4",
            "nullable": true,
            "type": "string"
           },
           {
            "metadata": {},
            "name": "_c5",
            "nullable": true,
            "type": "string"
           },
           {
            "metadata": {},
            "name": "_c6",
            "nullable": true,
            "type": "string"
           },
           {
            "metadata": {},
            "name": "_c7",
            "nullable": true,
            "type": "string"
           },
           {
            "metadata": {},
            "name": "_c8",
            "nullable": true,
            "type": "string"
           },
           {
            "metadata": {},
            "name": "_c9",
            "nullable": true,
            "type": "string"
           },
           {
            "metadata": {},
            "name": "_c10",
            "nullable": true,
            "type": "string"
           },
           {
            "metadata": {},
            "name": "_c11",
            "nullable": true,
            "type": "string"
           },
           {
            "metadata": {},
            "name": "_c12",
            "nullable": true,
            "type": "string"
           }
          ],
          "type": "struct"
         },
         "tableIdentifier": null,
         "typeStr": "pyspark.sql.connect.dataframe.DataFrame"
        }
       ],
       "dbfsResultPath": null,
       "isJsonSchema": true,
       "metadata": {
        "createTempViewForImplicitDf": true,
        "dataframeName": "_sqldf",
        "executionCount": 30
       },
       "overflow": false,
       "plotOptions": {
        "customPlotOptions": {},
        "displayType": "table",
        "pivotAggregation": null,
        "pivotColumns": null,
        "xColumns": null,
        "yColumns": null
       },
       "removedWidgets": [],
       "schema": [
        {
         "metadata": "{}",
         "name": "_c0",
         "type": "\"string\""
        },
        {
         "metadata": "{}",
         "name": "_c1",
         "type": "\"string\""
        },
        {
         "metadata": "{}",
         "name": "_c2",
         "type": "\"string\""
        },
        {
         "metadata": "{}",
         "name": "_c3",
         "type": "\"string\""
        },
        {
         "metadata": "{}",
         "name": "_c4",
         "type": "\"string\""
        },
        {
         "metadata": "{}",
         "name": "_c5",
         "type": "\"string\""
        },
        {
         "metadata": "{}",
         "name": "_c6",
         "type": "\"string\""
        },
        {
         "metadata": "{}",
         "name": "_c7",
         "type": "\"string\""
        },
        {
         "metadata": "{}",
         "name": "_c8",
         "type": "\"string\""
        },
        {
         "metadata": "{}",
         "name": "_c9",
         "type": "\"string\""
        },
        {
         "metadata": "{}",
         "name": "_c10",
         "type": "\"string\""
        },
        {
         "metadata": "{}",
         "name": "_c11",
         "type": "\"string\""
        },
        {
         "metadata": "{}",
         "name": "_c12",
         "type": "\"string\""
        }
       ],
       "type": "table"
      }
     },
     "output_type": "display_data"
    }
   ],
   "source": [
    "%sql\n",
    "SELECT\n",
    "\t*\n",
    "FROM\n",
    "\tcsv.`dbfs:/Volumes/catalogo_gatuno_volumenes/esquema_gatuno_externo/mivolumengatuno/`\n",
    "WHERE\n",
    "\t_c3 NOT IN (4, 63)\n",
    "LIMIT 2"
   ]
  }
 ],
 "metadata": {
  "application/vnd.databricks.v1+notebook": {
   "computePreferences": null,
   "dashboards": [],
   "environmentMetadata": {
    "base_environment": "",
    "environment_version": "3"
   },
   "inputWidgetPreferences": null,
   "language": "python",
   "notebookMetadata": {
    "mostRecentlyExecutedCommandWithImplicitDF": {
     "commandId": 6831507194836461,
     "dataframes": [
      "_sqldf"
     ]
    },
    "pythonIndentUnit": 4
   },
   "notebookName": "Cuaderno.20250821",
   "widgets": {}
  },
  "language_info": {
   "name": "python"
  }
 },
 "nbformat": 4,
 "nbformat_minor": 0
}