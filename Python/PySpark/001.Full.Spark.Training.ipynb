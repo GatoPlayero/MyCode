{
 "cells": [
  {
   "cell_type": "markdown",
   "id": "3553d4a5",
   "metadata": {},
   "source": [
    "### Start Spark Session"
   ]
  },
  {
   "cell_type": "code",
   "execution_count": null,
   "id": "dc2913e7",
   "metadata": {},
   "outputs": [],
   "source": [
    "import pyspark\n",
    "from pyspark.sql import Row\n",
    "from pyspark.sql import SparkSession\n",
    "#\n",
    "import pandas as pd\n",
    "from datetime import datetime, date\n",
    "#\n",
    "\n",
    "_spark = SparkSession.builder.master('local[1]').getOrCreate()"
   ]
  },
  {
   "cell_type": "markdown",
   "id": "b57afad3",
   "metadata": {},
   "source": [
    "### View Spark Session UI"
   ]
  },
  {
   "cell_type": "code",
   "execution_count": null,
   "id": "706bae91",
   "metadata": {},
   "outputs": [
    {
     "data": {
      "text/html": [
       "\n",
       "            <div>\n",
       "                <p><b>SparkSession - in-memory</b></p>\n",
       "                \n",
       "        <div>\n",
       "            <p><b>SparkContext</b></p>\n",
       "\n",
       "            <p><a href=\"http://host.docker.internal:4040\">Spark UI</a></p>\n",
       "\n",
       "            <dl>\n",
       "              <dt>Version</dt>\n",
       "                <dd><code>v4.0.0</code></dd>\n",
       "              <dt>Master</dt>\n",
       "                <dd><code>local[1]</code></dd>\n",
       "              <dt>AppName</dt>\n",
       "                <dd><code>pyspark-shell</code></dd>\n",
       "            </dl>\n",
       "        </div>\n",
       "        \n",
       "            </div>\n",
       "        "
      ],
      "text/plain": [
       "<pyspark.sql.session.SparkSession at 0x1e1c91faa90>"
      ]
     },
     "execution_count": 38,
     "metadata": {},
     "output_type": "execute_result"
    }
   ],
   "source": [
    "_spark"
   ]
  },
  {
   "cell_type": "markdown",
   "id": "ba97b11a",
   "metadata": {},
   "source": [
    "### Load Data from CSV"
   ]
  },
  {
   "cell_type": "code",
   "execution_count": null,
   "id": "fa7000a7",
   "metadata": {},
   "outputs": [],
   "source": [
    "_csvDF001 = _spark.read.format('csv').option('inferSchema', True).option('header',True).load(\"file:///C:/Users/Administrator/Documents/Code/Python/Spark/BigMart.Sales.csv\")"
   ]
  },
  {
   "cell_type": "code",
   "execution_count": null,
   "id": "2eb40414",
   "metadata": {},
   "outputs": [
    {
     "name": "stdout",
     "output_type": "stream",
     "text": [
      "+---------------+-----------+----------------+---------------+-----------+--------+-----------------+-------------------------+-----------+--------------------+-----------------+-----------------+\n",
      "|Item_Identifier|Item_Weight|Item_Fat_Content|Item_Visibility|  Item_Type|Item_MRP|Outlet_Identifier|Outlet_Establishment_Year|Outlet_Size|Outlet_Location_Type|      Outlet_Type|Item_Outlet_Sales|\n",
      "+---------------+-----------+----------------+---------------+-----------+--------+-----------------+-------------------------+-----------+--------------------+-----------------+-----------------+\n",
      "|          FDA15|        9.3|         Low Fat|    0.016047301|      Dairy|249.8092|           OUT049|                     1999|     Medium|              Tier 1|Supermarket Type1|         3735.138|\n",
      "|          DRC01|       5.92|         Regular|    0.019278216|Soft Drinks| 48.2692|           OUT018|                     2009|     Medium|              Tier 3|Supermarket Type2|         443.4228|\n",
      "|          FDN15|       17.5|         Low Fat|    0.016760075|       Meat| 141.618|           OUT049|                     1999|     Medium|              Tier 1|Supermarket Type1|          2097.27|\n",
      "+---------------+-----------+----------------+---------------+-----------+--------+-----------------+-------------------------+-----------+--------------------+-----------------+-----------------+\n",
      "only showing top 3 rows\n"
     ]
    }
   ],
   "source": [
    "_csvDF001.show(3)"
   ]
  },
  {
   "cell_type": "markdown",
   "id": "cff755c2",
   "metadata": {},
   "source": [
    "### Load Data from Json"
   ]
  },
  {
   "cell_type": "code",
   "execution_count": null,
   "id": "c00d980f",
   "metadata": {},
   "outputs": [],
   "source": [
    "_dfJson = _spark.read \\\n",
    "\t\t\t\t.format('json') \\\n",
    "\t\t\t\t.option('inferSchema',True) \\\n",
    "\t\t\t\t.option('header',True) \\\n",
    "\t\t\t\t.option('multiline',False) \\\n",
    "\t\t\t\t.load(\"file:///C:/Users/Administrator/Documents/Code/Python/Spark/drivers.json\")"
   ]
  },
  {
   "cell_type": "code",
   "execution_count": null,
   "id": "2d98748e",
   "metadata": {},
   "outputs": [
    {
     "name": "stdout",
     "output_type": "stream",
     "text": [
      "+----+----------+--------+----------+--------------------+-----------+------+--------------------+\n",
      "|code|       dob|driverId| driverRef|                name|nationality|number|                 url|\n",
      "+----+----------+--------+----------+--------------------+-----------+------+--------------------+\n",
      "| HAM|1985-01-07|       1|  hamilton|   {Lewis, Hamilton}|    British|    44|http://en.wikiped...|\n",
      "| HEI|1977-05-10|       2|  heidfeld|    {Nick, Heidfeld}|     German|    \\N|http://en.wikiped...|\n",
      "| ROS|1985-06-27|       3|   rosberg|     {Nico, Rosberg}|     German|     6|http://en.wikiped...|\n",
      "| ALO|1981-07-29|       4|    alonso|  {Fernando, Alonso}|    Spanish|    14|http://en.wikiped...|\n",
      "| KOV|1981-10-19|       5|kovalainen|{Heikki, Kovalainen}|    Finnish|    \\N|http://en.wikiped...|\n",
      "+----+----------+--------+----------+--------------------+-----------+------+--------------------+\n",
      "only showing top 5 rows\n"
     ]
    }
   ],
   "source": [
    "_dfJson.show(5)"
   ]
  },
  {
   "cell_type": "markdown",
   "id": "c006ade2",
   "metadata": {},
   "source": [
    "### Schema Definition"
   ]
  },
  {
   "cell_type": "code",
   "execution_count": null,
   "id": "6366c45c",
   "metadata": {},
   "outputs": [
    {
     "name": "stdout",
     "output_type": "stream",
     "text": [
      "root\n",
      " |-- Item_Identifier: string (nullable = true)\n",
      " |-- Item_Weight: double (nullable = true)\n",
      " |-- Item_Fat_Content: string (nullable = true)\n",
      " |-- Item_Visibility: double (nullable = true)\n",
      " |-- Item_Type: string (nullable = true)\n",
      " |-- Item_MRP: double (nullable = true)\n",
      " |-- Outlet_Identifier: string (nullable = true)\n",
      " |-- Outlet_Establishment_Year: integer (nullable = true)\n",
      " |-- Outlet_Size: string (nullable = true)\n",
      " |-- Outlet_Location_Type: string (nullable = true)\n",
      " |-- Outlet_Type: string (nullable = true)\n",
      " |-- Item_Outlet_Sales: double (nullable = true)\n",
      "\n"
     ]
    }
   ],
   "source": [
    "_csvDF001.printSchema()"
   ]
  },
  {
   "cell_type": "markdown",
   "id": "1a288a0f",
   "metadata": {},
   "source": [
    "### DDL Schema"
   ]
  },
  {
   "cell_type": "code",
   "execution_count": null,
   "id": "ba5c66f5",
   "metadata": {},
   "outputs": [],
   "source": [
    "_newCSV_DDL_Schema =\t'''\n",
    "\t\t\t\t\t\t\tItem_Identifier\t\t\t\tstring\n",
    "\t\t\t\t\t\t,\tItem_Weight\t\t\t\t\tdouble\n",
    "\t\t\t\t\t\t,\tItem_Fat_Content\t\t\tstring\n",
    "\t\t\t\t\t\t,\tItem_Visibility\t\t\t\tdouble\n",
    "\t\t\t\t\t\t,\tItem_Type\t\t\t\t\tstring\n",
    "\t\t\t\t\t\t,\tItem_MRP\t\t\t\t\tdouble\n",
    "\t\t\t\t\t\t,\tOutlet_Identifier\t\t\tstring\n",
    "\t\t\t\t\t\t,\tOutlet_Establishment_Year\tinteger\n",
    "\t\t\t\t\t\t,\tOutlet_Size\t\t\t\t\tstring\n",
    "\t\t\t\t\t\t,\tOutlet_Location_Type\t\tstring\n",
    "\t\t\t\t\t\t,\tOutlet_Type\t\t\t\t\tstring\n",
    "\t\t\t\t\t\t,\tItem_Outlet_Sales\t\t\tdouble\n",
    "\t\t\t\t\t\t'''\n",
    "##\n",
    "_csvDF001 = _spark.read.format('csv') \\\n",
    "\t\t\t\t\t.schema(_newCSV_DDL_Schema) \\\n",
    "\t\t\t\t\t.option('header',True) \\\n",
    "\t\t\t\t\t.load(\"file:///C:/Users/Administrator/Documents/Code/Python/Spark/BigMart.Sales.csv\")\n",
    "##"
   ]
  },
  {
   "cell_type": "code",
   "execution_count": null,
   "id": "3d83ee79",
   "metadata": {},
   "outputs": [
    {
     "name": "stdout",
     "output_type": "stream",
     "text": [
      "+---------------+-----------+----------------+---------------+--------------------+--------+-----------------+-------------------------+-----------+--------------------+-----------------+-----------------+\n",
      "|Item_Identifier|Item_Weight|Item_Fat_Content|Item_Visibility|           Item_Type|Item_MRP|Outlet_Identifier|Outlet_Establishment_Year|Outlet_Size|Outlet_Location_Type|      Outlet_Type|Item_Outlet_Sales|\n",
      "+---------------+-----------+----------------+---------------+--------------------+--------+-----------------+-------------------------+-----------+--------------------+-----------------+-----------------+\n",
      "|          FDA15|        9.3|         Low Fat|    0.016047301|               Dairy|249.8092|           OUT049|                     1999|     Medium|              Tier 1|Supermarket Type1|         3735.138|\n",
      "|          DRC01|       5.92|         Regular|    0.019278216|         Soft Drinks| 48.2692|           OUT018|                     2009|     Medium|              Tier 3|Supermarket Type2|         443.4228|\n",
      "|          FDN15|       17.5|         Low Fat|    0.016760075|                Meat| 141.618|           OUT049|                     1999|     Medium|              Tier 1|Supermarket Type1|          2097.27|\n",
      "|          FDX07|       19.2|         Regular|            0.0|Fruits and Vegeta...| 182.095|           OUT010|                     1998|       NULL|              Tier 3|    Grocery Store|           732.38|\n",
      "|          NCD19|       8.93|         Low Fat|            0.0|           Household| 53.8614|           OUT013|                     1987|       High|              Tier 3|Supermarket Type1|         994.7052|\n",
      "+---------------+-----------+----------------+---------------+--------------------+--------+-----------------+-------------------------+-----------+--------------------+-----------------+-----------------+\n",
      "only showing top 5 rows\n"
     ]
    }
   ],
   "source": [
    "_csvDF001.show(5)"
   ]
  },
  {
   "cell_type": "code",
   "execution_count": null,
   "id": "b2c89ffc",
   "metadata": {},
   "outputs": [
    {
     "name": "stdout",
     "output_type": "stream",
     "text": [
      "root\n",
      " |-- Item_Identifier: string (nullable = true)\n",
      " |-- Item_Weight: double (nullable = true)\n",
      " |-- Item_Fat_Content: string (nullable = true)\n",
      " |-- Item_Visibility: double (nullable = true)\n",
      " |-- Item_Type: string (nullable = true)\n",
      " |-- Item_MRP: double (nullable = true)\n",
      " |-- Outlet_Identifier: string (nullable = true)\n",
      " |-- Outlet_Establishment_Year: integer (nullable = true)\n",
      " |-- Outlet_Size: string (nullable = true)\n",
      " |-- Outlet_Location_Type: string (nullable = true)\n",
      " |-- Outlet_Type: string (nullable = true)\n",
      " |-- Item_Outlet_Sales: double (nullable = true)\n",
      "\n"
     ]
    }
   ],
   "source": [
    "## let's check the schema again\n",
    "_csvDF001.printSchema()"
   ]
  },
  {
   "cell_type": "markdown",
   "id": "7b1178e2",
   "metadata": {},
   "source": [
    "### StructType Schema"
   ]
  },
  {
   "cell_type": "code",
   "execution_count": null,
   "id": "9d2456ca",
   "metadata": {},
   "outputs": [
    {
     "name": "stdout",
     "output_type": "stream",
     "text": [
      "+---------------+-----------+----------------+---------------+--------------------+--------+-----------------+-------------------------+-----------+--------------------+-----------------+-----------------+\n",
      "|Item_Identifier|Item_Weight|Item_Fat_Content|Item_Visibility|           Item_Type|Item_MRP|Outlet_Identifier|Outlet_Establishment_Year|Outlet_Size|Outlet_Location_Type|      Outlet_Type|Item_Outlet_Sales|\n",
      "+---------------+-----------+----------------+---------------+--------------------+--------+-----------------+-------------------------+-----------+--------------------+-----------------+-----------------+\n",
      "|          FDA15|        9.3|         Low Fat|    0.016047301|               Dairy|249.8092|           OUT049|                     1999|     Medium|              Tier 1|Supermarket Type1|         3735.138|\n",
      "|          DRC01|       5.92|         Regular|    0.019278216|         Soft Drinks| 48.2692|           OUT018|                     2009|     Medium|              Tier 3|Supermarket Type2|         443.4228|\n",
      "|          FDN15|       17.5|         Low Fat|    0.016760075|                Meat| 141.618|           OUT049|                     1999|     Medium|              Tier 1|Supermarket Type1|          2097.27|\n",
      "|          FDX07|       19.2|         Regular|            0.0|Fruits and Vegeta...| 182.095|           OUT010|                     1998|       NULL|              Tier 3|    Grocery Store|           732.38|\n",
      "|          NCD19|       8.93|         Low Fat|            0.0|           Household| 53.8614|           OUT013|                     1987|       High|              Tier 3|Supermarket Type1|         994.7052|\n",
      "+---------------+-----------+----------------+---------------+--------------------+--------+-----------------+-------------------------+-----------+--------------------+-----------------+-----------------+\n",
      "only showing top 5 rows\n"
     ]
    }
   ],
   "source": [
    "from pyspark.sql.types import *\n",
    "from pyspark.sql.functions import *\n",
    "#\n",
    "_structSchema = StructType([\t\\\n",
    "\t\t\t\t\t\t\t\tStructField('Item_Identifier',\t\t\t\tStringType(),\tTrue)\t\\\n",
    "\t\t\t\t\t\t\t,\tStructField('Item_Weight',\t\t\t\t\tDoubleType(),\tTrue)\t\\\n",
    "\t\t\t\t\t\t\t,\tStructField('Item_Fat_Content',\t\t\t\tStringType(),\tTrue)\t\\\n",
    "\t\t\t\t\t\t\t,\tStructField('Item_Visibility',\t\t\t\tDoubleType(),\tTrue)\t\\\n",
    "\t\t\t\t\t\t\t,\tStructField('Item_Type',\t\t\t\t\tStringType(),\tTrue)\t\\\n",
    "\t\t\t\t\t\t\t,\tStructField('Item_MRP',\t\t\t\t\t\tDoubleType(),\tTrue)\t\\\n",
    "\t\t\t\t\t\t\t,\tStructField('Outlet_Identifier',\t\t\tStringType(),\tTrue)\t\\\n",
    "\t\t\t\t\t\t\t,\tStructField('Outlet_Establishment_Year',\tIntegerType(),\tTrue)\t\\\n",
    "\t\t\t\t\t\t\t,\tStructField('Outlet_Size',\t\t\t\t\tStringType(),\tTrue)\t\\\n",
    "\t\t\t\t\t\t\t,\tStructField('Outlet_Location_Type',\t\t\tStringType(),\tTrue)\t\\\n",
    "\t\t\t\t\t\t\t,\tStructField('Outlet_Type',\t\t\t\t\tStringType(),\tTrue)\t\\\n",
    "\t\t\t\t\t\t\t,\tStructField('Item_Outlet_Sales',\t\t\tDoubleType(),\tTrue)\t\\\n",
    "\t\t\t\t\t\t\t])\n",
    "#\n",
    "#\n",
    "_csvDF002 = _spark.read.format('csv') \\\n",
    "\t\t\t\t\t.schema(_structSchema) \\\n",
    "\t\t\t\t\t.option('header',True) \\\n",
    "\t\t\t\t\t.load(\"file:///C:/Users/Administrator/Documents/Code/Python/Spark/BigMart.Sales.csv\")\n",
    "#\n",
    "_csvDF002.show(5)\n",
    "#"
   ]
  },
  {
   "cell_type": "code",
   "execution_count": null,
   "id": "d6bd4af9",
   "metadata": {},
   "outputs": [
    {
     "name": "stdout",
     "output_type": "stream",
     "text": [
      "root\n",
      " |-- Item_Identifier: string (nullable = true)\n",
      " |-- Item_Weight: double (nullable = true)\n",
      " |-- Item_Fat_Content: string (nullable = true)\n",
      " |-- Item_Visibility: double (nullable = true)\n",
      " |-- Item_Type: string (nullable = true)\n",
      " |-- Item_MRP: double (nullable = true)\n",
      " |-- Outlet_Identifier: string (nullable = true)\n",
      " |-- Outlet_Establishment_Year: integer (nullable = true)\n",
      " |-- Outlet_Size: string (nullable = true)\n",
      " |-- Outlet_Location_Type: string (nullable = true)\n",
      " |-- Outlet_Type: string (nullable = true)\n",
      " |-- Item_Outlet_Sales: double (nullable = true)\n",
      "\n"
     ]
    }
   ],
   "source": [
    "## let's check the schema again\n",
    "_csvDF002.printSchema()\n",
    "#"
   ]
  },
  {
   "cell_type": "markdown",
   "id": "205070dc",
   "metadata": {},
   "source": [
    "### SELECT"
   ]
  },
  {
   "cell_type": "code",
   "execution_count": null,
   "id": "6c0a0190",
   "metadata": {},
   "outputs": [
    {
     "name": "stdout",
     "output_type": "stream",
     "text": [
      "+---------------+-----------+----------------+\n",
      "|Item_Identifier|Item_Weight|Item_Fat_Content|\n",
      "+---------------+-----------+----------------+\n",
      "|          FDA15|        9.3|         Low Fat|\n",
      "|          DRC01|       5.92|         Regular|\n",
      "|          FDN15|       17.5|         Low Fat|\n",
      "|          FDX07|       19.2|         Regular|\n",
      "|          NCD19|       8.93|         Low Fat|\n",
      "+---------------+-----------+----------------+\n",
      "only showing top 5 rows\n"
     ]
    }
   ],
   "source": [
    "_newDataFrame_fromSelect001 = \\\n",
    "\t_csvDF002.select(\t\\\n",
    "\t\t\t\t\t\t'Item_Identifier'\n",
    "\t\t\t\t\t,\t'Item_Weight'\n",
    "\t\t\t\t\t,\t'Item_Fat_Content').show(5)"
   ]
  },
  {
   "cell_type": "code",
   "execution_count": null,
   "id": "b78472fb",
   "metadata": {},
   "outputs": [
    {
     "name": "stdout",
     "output_type": "stream",
     "text": [
      "+---------------+-----------+----------------+\n",
      "|Item_Identifier|Item_Weight|Item_Fat_Content|\n",
      "+---------------+-----------+----------------+\n",
      "|          FDA15|        9.3|         Low Fat|\n",
      "|          DRC01|       5.92|         Regular|\n",
      "|          FDN15|       17.5|         Low Fat|\n",
      "|          FDX07|       19.2|         Regular|\n",
      "|          NCD19|       8.93|         Low Fat|\n",
      "+---------------+-----------+----------------+\n",
      "only showing top 5 rows\n"
     ]
    }
   ],
   "source": [
    "_newDataFrame_fromSelect002 = \\\n",
    "\t_csvDF002.select(\t\\\n",
    "\t\t\t\t\t\tcol('Item_Identifier')\n",
    "\t\t\t\t\t,\tcol('Item_Weight')\n",
    "\t\t\t\t\t,\tcol('Item_Fat_Content')).show(5)"
   ]
  },
  {
   "cell_type": "code",
   "execution_count": null,
   "id": "79a8cab0",
   "metadata": {},
   "outputs": [
    {
     "name": "stdout",
     "output_type": "stream",
     "text": [
      "+---------------+-----------+----------------+\n",
      "|Item_Identifier|Item_Weight|Item_Fat_Content|\n",
      "+---------------+-----------+----------------+\n",
      "|          FDA15|        9.3|         Low Fat|\n",
      "|          DRC01|       5.92|         Regular|\n",
      "|          FDN15|       17.5|         Low Fat|\n",
      "|          FDX07|       19.2|         Regular|\n",
      "|          NCD19|       8.93|         Low Fat|\n",
      "+---------------+-----------+----------------+\n",
      "only showing top 5 rows\n"
     ]
    }
   ],
   "source": [
    "_newDataFrame_fromSelect003 = \\\n",
    "\t_csvDF002.select(\t\\\n",
    "\t\t\t\t\t\tcol('Item_Identifier')\n",
    "\t\t\t\t\t,\tcol('Item_Weight')\n",
    "\t\t\t\t\t,\tcol('Item_Fat_Content')).show(5)"
   ]
  },
  {
   "cell_type": "markdown",
   "id": "71e405aa",
   "metadata": {},
   "source": [
    "### ALIAS"
   ]
  },
  {
   "cell_type": "code",
   "execution_count": null,
   "id": "0c9679f9",
   "metadata": {},
   "outputs": [
    {
     "name": "stdout",
     "output_type": "stream",
     "text": [
      "+-------+------+-------+\n",
      "|Item_Id|Item_W|Item_FT|\n",
      "+-------+------+-------+\n",
      "|  FDA15|   9.3|Low Fat|\n",
      "|  DRC01|  5.92|Regular|\n",
      "|  FDN15|  17.5|Low Fat|\n",
      "|  FDX07|  19.2|Regular|\n",
      "|  NCD19|  8.93|Low Fat|\n",
      "+-------+------+-------+\n",
      "only showing top 5 rows\n"
     ]
    }
   ],
   "source": [
    "_newDataFrame_fromSelect004 = \\\n",
    "\t_csvDF002.select(\t\\\n",
    "\t\t\t\t\t\tcol('Item_Identifier').alias('Item_Id')\n",
    "\t\t\t\t\t,\tcol('Item_Weight').alias('Item_W')\n",
    "\t\t\t\t\t,\tcol('Item_Fat_Content').alias('Item_FT')).show(5)"
   ]
  },
  {
   "cell_type": "markdown",
   "id": "fbf0ea0b",
   "metadata": {},
   "source": [
    "### FILTER/WHERE"
   ]
  },
  {
   "cell_type": "code",
   "execution_count": null,
   "id": "b426da71",
   "metadata": {},
   "outputs": [
    {
     "name": "stdout",
     "output_type": "stream",
     "text": [
      "+---------------+-----------+----------------+---------------+--------------------+--------+-----------------+-------------------------+-----------+--------------------+-----------------+-----------------+\n",
      "|Item_Identifier|Item_Weight|Item_Fat_Content|Item_Visibility|           Item_Type|Item_MRP|Outlet_Identifier|Outlet_Establishment_Year|Outlet_Size|Outlet_Location_Type|      Outlet_Type|Item_Outlet_Sales|\n",
      "+---------------+-----------+----------------+---------------+--------------------+--------+-----------------+-------------------------+-----------+--------------------+-----------------+-----------------+\n",
      "|          DRC01|       5.92|         Regular|    0.019278216|         Soft Drinks| 48.2692|           OUT018|                     2009|     Medium|              Tier 3|Supermarket Type2|         443.4228|\n",
      "|          FDX07|       19.2|         Regular|            0.0|Fruits and Vegeta...| 182.095|           OUT010|                     1998|       NULL|              Tier 3|    Grocery Store|           732.38|\n",
      "|          FDP36|     10.395|         Regular|            0.0|        Baking Goods| 51.4008|           OUT018|                     2009|     Medium|              Tier 3|Supermarket Type2|         556.6088|\n",
      "|          FDO10|      13.65|         Regular|    0.012741089|         Snack Foods| 57.6588|           OUT013|                     1987|       High|              Tier 3|Supermarket Type1|         343.5528|\n",
      "|          FDH17|       16.2|         Regular|    0.016687114|        Frozen Foods| 96.9726|           OUT045|                     2002|       NULL|              Tier 2|Supermarket Type1|        1076.5986|\n",
      "|          FDU28|       19.2|         Regular|     0.09444959|        Frozen Foods|187.8214|           OUT017|                     2007|       NULL|              Tier 2|Supermarket Type1|         4710.535|\n",
      "|          FDA03|       18.5|         Regular|    0.045463773|               Dairy|144.1102|           OUT046|                     1997|      Small|              Tier 1|Supermarket Type1|         2187.153|\n",
      "|          FDX32|       15.1|         Regular|      0.1000135|Fruits and Vegeta...|145.4786|           OUT049|                     1999|     Medium|              Tier 1|Supermarket Type1|        1589.2646|\n",
      "|          FDS46|       17.6|         Regular|    0.047257328|         Snack Foods|119.6782|           OUT046|                     1997|      Small|              Tier 1|Supermarket Type1|        2145.2076|\n",
      "|          FDP49|        9.0|         Regular|    0.069088961|           Breakfast| 56.3614|           OUT046|                     1997|      Small|              Tier 1|Supermarket Type1|        1547.3192|\n",
      "+---------------+-----------+----------------+---------------+--------------------+--------+-----------------+-------------------------+-----------+--------------------+-----------------+-----------------+\n",
      "only showing top 10 rows\n"
     ]
    }
   ],
   "source": [
    "_newDataFrame_fromSelect005 = \\\n",
    "\t_csvDF002.filter(col('Item_Fat_Content')=='Regular').show(10)"
   ]
  },
  {
   "cell_type": "code",
   "execution_count": null,
   "id": "11c4b150",
   "metadata": {},
   "outputs": [
    {
     "name": "stdout",
     "output_type": "stream",
     "text": [
      "+---------------+-----------+----------------+---------------+-----------+--------+-----------------+-------------------------+-----------+--------------------+-----------------+-----------------+\n",
      "|Item_Identifier|Item_Weight|Item_Fat_Content|Item_Visibility|  Item_Type|Item_MRP|Outlet_Identifier|Outlet_Establishment_Year|Outlet_Size|Outlet_Location_Type|      Outlet_Type|Item_Outlet_Sales|\n",
      "+---------------+-----------+----------------+---------------+-----------+--------+-----------------+-------------------------+-----------+--------------------+-----------------+-----------------+\n",
      "|          DRC01|       5.92|         Regular|    0.019278216|Soft Drinks| 48.2692|           OUT018|                     2009|     Medium|              Tier 3|Supermarket Type2|         443.4228|\n",
      "|          DRZ11|       8.85|         Regular|    0.113123893|Soft Drinks|122.5388|           OUT018|                     2009|     Medium|              Tier 3|Supermarket Type2|        1609.9044|\n",
      "|          DRF49|       7.27|         Low Fat|    0.071077939|Soft Drinks|114.2518|           OUT046|                     1997|      Small|              Tier 1|Supermarket Type1|        2618.5914|\n",
      "|          DRK12|        9.5|              LF|    0.041878397|Soft Drinks|   32.99|           OUT035|                     2004|      Small|              Tier 2|Supermarket Type1|           133.16|\n",
      "|          DRK01|       7.63|         Low Fat|     0.06105276|Soft Drinks| 95.4436|           OUT035|                     2004|      Small|              Tier 2|Supermarket Type1|         1418.154|\n",
      "|          DRF49|       7.27|         Low Fat|    0.071222087|Soft Drinks|113.5518|           OUT045|                     2002|       NULL|              Tier 2|Supermarket Type1|          569.259|\n",
      "|          DRE60|      9.395|         Low Fat|    0.159657596|Soft Drinks| 224.972|           OUT045|                     2002|       NULL|              Tier 2|Supermarket Type1|         7696.648|\n",
      "|          DRI01|       7.97|         Low Fat|    0.034452949|Soft Drinks|174.0422|           OUT046|                     1997|      Small|              Tier 1|Supermarket Type1|         2586.633|\n",
      "|          DRD37|        9.8|         Low Fat|    0.013898123|Soft Drinks|  46.506|           OUT018|                     2009|     Medium|              Tier 3|Supermarket Type2|          372.848|\n",
      "|          DRH13|      8.575|         Low Fat|    0.023983258|Soft Drinks| 106.328|           OUT018|                     2009|     Medium|              Tier 3|Supermarket Type2|          958.752|\n",
      "+---------------+-----------+----------------+---------------+-----------+--------+-----------------+-------------------------+-----------+--------------------+-----------------+-----------------+\n",
      "only showing top 10 rows\n"
     ]
    }
   ],
   "source": [
    "_newDataFrame_fromSelect006 = \\\n",
    "\t_csvDF002.filter(\t\t(col('Item_Weight')<10)\n",
    "\t\t\t\t  \t\t&\t(col('Item_Type')=='Soft Drinks')).show(10)"
   ]
  },
  {
   "cell_type": "code",
   "execution_count": null,
   "id": "f3063c7b",
   "metadata": {},
   "outputs": [
    {
     "name": "stdout",
     "output_type": "stream",
     "text": [
      "+-------+-----------+\n",
      "|Item_Id|Outlet_Size|\n",
      "+-------+-----------+\n",
      "| Tier 2|       NULL|\n",
      "| Tier 2|       NULL|\n",
      "| Tier 2|       NULL|\n",
      "| Tier 2|       NULL|\n",
      "| Tier 2|       NULL|\n",
      "| Tier 2|       NULL|\n",
      "| Tier 2|       NULL|\n",
      "| Tier 2|       NULL|\n",
      "| Tier 2|       NULL|\n",
      "| Tier 2|       NULL|\n",
      "+-------+-----------+\n",
      "only showing top 10 rows\n"
     ]
    }
   ],
   "source": [
    "_newDataFrame_fromSelect007 = \\\n",
    "\t_csvDF002.filter(\t\t(col('Outlet_Location_Type').isin('Tier 1','Tier 2'))\n",
    "\t\t\t\t  \t\t&\t(col('Outlet_Size').isNull() == True)) \\\n",
    "\t\t\t.select(\tcol('Outlet_Location_Type').alias('Item_Id')\n",
    "\t\t\t\t\t,\tcol('Outlet_Size')) \\\n",
    "\t\t\t.show(10)"
   ]
  },
  {
   "cell_type": "markdown",
   "id": "1bc30281",
   "metadata": {},
   "source": [
    "### withColumnRenamed"
   ]
  },
  {
   "cell_type": "code",
   "execution_count": null,
   "id": "86654828",
   "metadata": {},
   "outputs": [
    {
     "name": "stdout",
     "output_type": "stream",
     "text": [
      "+-------+------+\n",
      "|Item_Id|Item_W|\n",
      "+-------+------+\n",
      "|  FDA15|   9.3|\n",
      "|  DRC01|  5.92|\n",
      "|  FDN15|  17.5|\n",
      "|  FDX07|  19.2|\n",
      "|  NCD19|  8.93|\n",
      "|  FDP36|10.395|\n",
      "|  FDO10| 13.65|\n",
      "|  FDP10|  NULL|\n",
      "|  FDH17|  16.2|\n",
      "|  FDU28|  19.2|\n",
      "+-------+------+\n",
      "only showing top 10 rows\n"
     ]
    }
   ],
   "source": [
    "_newDataFrame_fromSelect008 = \\\n",
    "\t_csvDF002.withColumnRenamed('Item_Weight','Item_W') \\\n",
    "\t\t\t.select(\tcol('Item_Identifier').alias('Item_Id')\n",
    "\t\t\t\t\t,\tcol('Item_W')) \\\n",
    "\t\t\t.show(10)"
   ]
  },
  {
   "cell_type": "markdown",
   "id": "82408c84",
   "metadata": {},
   "source": [
    "### withColumn"
   ]
  },
  {
   "cell_type": "code",
   "execution_count": null,
   "id": "28b161a6",
   "metadata": {},
   "outputs": [
    {
     "name": "stdout",
     "output_type": "stream",
     "text": [
      "+-------+------+----+------------+------+--------+------+---------------+\n",
      "|Item_Id|Item_W|Year|         IFC| New_W|     Add|Minus3|RemueveMinusOne|\n",
      "+-------+------+----+------------+------+--------+------+---------------+\n",
      "|  FDA15|   9.3|1999|BajoEnGrasas|   9.3|  2008.3|    -3|            9.3|\n",
      "|  DRC01|  5.92|2009|   Normalito|  5.92| 2014.92|    -3|           5.92|\n",
      "|  FDN15|  17.5|1999|BajoEnGrasas|  17.5|  2016.5|    -3|           17.5|\n",
      "|  FDX07|  19.2|1998|   Normalito|  19.2|  2017.2|    -3|           19.2|\n",
      "|  NCD19|  8.93|1987|BajoEnGrasas|  8.93| 1995.93|    -3|           8.93|\n",
      "|  FDP36|10.395|2009|   Normalito|10.395|2019.395|    -3|         10.395|\n",
      "|  FDO10| 13.65|1987|   Normalito| 13.65| 2000.65|    -3|          13.65|\n",
      "|  FDP10|  NULL|1985|BajoEnGrasas|  -1.0|  1984.0|    -3|           NULL|\n",
      "|  FDH17|  16.2|2002|   Normalito|  16.2|  2018.2|    -3|           16.2|\n",
      "|  FDU28|  19.2|2007|   Normalito|  19.2|  2026.2|    -3|           19.2|\n",
      "+-------+------+----+------------+------+--------+------+---------------+\n",
      "only showing top 10 rows\n"
     ]
    }
   ],
   "source": [
    "#\n",
    "def reemplaza(column, value):\n",
    "\treturn when(column != value, column).otherwise(lit(None))\n",
    "#\n",
    "### for constant values use lit()\n",
    "_newDataFrame_fromSelect009 = \\\n",
    "\t_csvDF002.withColumnRenamed('Item_Weight','Item_W') \\\n",
    "\t\t\t.select(\tcol('Item_Identifier').alias('Item_Id')\n",
    "\t\t\t\t\t,\tcol('Item_W') \\\n",
    "\t\t\t\t\t,\tcol('Outlet_Establishment_Year').alias('Year')\n",
    "\t\t\t\t\t,\tcol('Item_Fat_Content').alias('IFC')) \\\n",
    "\t\t\t.withColumn('New_W', ifnull('Item_W', lit(-1))) \\\n",
    "\t\t\t.withColumn('Add',col('New_W')+col('Year')) \\\n",
    "\t\t\t.withColumn('Minus3',lit(-3)) \\\n",
    "\t\t\t.withColumn('RemueveMinusOne', reemplaza(col('New_W'), -1)) \\\n",
    "\t\t\t.withColumn('IFC', regexp_replace(col('IFC'), 'Regular', 'Normalito')) \\\n",
    "\t\t\t.withColumn('IFC', regexp_replace(col('IFC'), 'Low Fat', 'BajoEnGrasas')) \\\n",
    "\t\t\t.show(10)"
   ]
  },
  {
   "cell_type": "markdown",
   "id": "d16662b3",
   "metadata": {},
   "source": [
    "### Type Casting"
   ]
  },
  {
   "cell_type": "code",
   "execution_count": null,
   "id": "a6c5443e",
   "metadata": {},
   "outputs": [
    {
     "name": "stdout",
     "output_type": "stream",
     "text": [
      "+---------------+-----------+----------------+---------------+--------------------+--------+-----------------+-------------------------+-----------+--------------------+-----------------+-----------------+\n",
      "|Item_Identifier|Item_Weight|Item_Fat_Content|Item_Visibility|           Item_Type|Item_MRP|Outlet_Identifier|Outlet_Establishment_Year|Outlet_Size|Outlet_Location_Type|      Outlet_Type|Item_Outlet_Sales|\n",
      "+---------------+-----------+----------------+---------------+--------------------+--------+-----------------+-------------------------+-----------+--------------------+-----------------+-----------------+\n",
      "|          FDA15|        9.3|         Low Fat|    0.016047301|               Dairy|249.8092|           OUT049|                     1999|     Medium|              Tier 1|Supermarket Type1|         3735.138|\n",
      "|          DRC01|       5.92|         Regular|    0.019278216|         Soft Drinks| 48.2692|           OUT018|                     2009|     Medium|              Tier 3|Supermarket Type2|         443.4228|\n",
      "|          FDN15|       17.5|         Low Fat|    0.016760075|                Meat| 141.618|           OUT049|                     1999|     Medium|              Tier 1|Supermarket Type1|          2097.27|\n",
      "|          FDX07|       19.2|         Regular|            0.0|Fruits and Vegeta...| 182.095|           OUT010|                     1998|       NULL|              Tier 3|    Grocery Store|           732.38|\n",
      "|          NCD19|       8.93|         Low Fat|            0.0|           Household| 53.8614|           OUT013|                     1987|       High|              Tier 3|Supermarket Type1|         994.7052|\n",
      "+---------------+-----------+----------------+---------------+--------------------+--------+-----------------+-------------------------+-----------+--------------------+-----------------+-----------------+\n",
      "only showing top 5 rows\n",
      "root\n",
      " |-- Item_Identifier: string (nullable = true)\n",
      " |-- Item_Weight: string (nullable = true)\n",
      " |-- Item_Fat_Content: string (nullable = true)\n",
      " |-- Item_Visibility: double (nullable = true)\n",
      " |-- Item_Type: string (nullable = true)\n",
      " |-- Item_MRP: double (nullable = true)\n",
      " |-- Outlet_Identifier: string (nullable = true)\n",
      " |-- Outlet_Establishment_Year: integer (nullable = true)\n",
      " |-- Outlet_Size: string (nullable = true)\n",
      " |-- Outlet_Location_Type: string (nullable = true)\n",
      " |-- Outlet_Type: string (nullable = true)\n",
      " |-- Item_Outlet_Sales: double (nullable = true)\n",
      "\n"
     ]
    }
   ],
   "source": [
    "_newDataFrame_fromSelect010 = \\\n",
    "\t_csvDF002.withColumn('Item_Weight', col('Item_Weight').cast(StringType()))\n",
    "_newDataFrame_fromSelect010.show(5)\n",
    "_newDataFrame_fromSelect010.printSchema()\n",
    "#"
   ]
  },
  {
   "cell_type": "markdown",
   "id": "a20af370",
   "metadata": {},
   "source": [
    "### Save as Parquet & overwrite"
   ]
  },
  {
   "cell_type": "code",
   "execution_count": null,
   "id": "c8552fb1",
   "metadata": {},
   "outputs": [],
   "source": [
    "#\n",
    "_newDataFrame_fromSelect010.write \\\n",
    "\t\t\t.partitionBy('Outlet_Establishment_Year') \\\n",
    "\t\t\t.mode('overwrite') \\\n",
    "\t\t\t.parquet('file:///C:/Users/Administrator/Documents/Code/Python/Spark/BigMart.Sales.010.parquet')\n",
    "#"
   ]
  },
  {
   "cell_type": "markdown",
   "id": "3714a016",
   "metadata": {},
   "source": [
    "### Sort/orderBY"
   ]
  },
  {
   "cell_type": "code",
   "execution_count": null,
   "id": "e5b3bdc4",
   "metadata": {},
   "outputs": [
    {
     "name": "stdout",
     "output_type": "stream",
     "text": [
      "+---------------+-----------+----------------+---------------+--------------------+--------+-----------------+-------------------------+-----------+--------------------+-----------------+-----------------+\n",
      "|Item_Identifier|Item_Weight|Item_Fat_Content|Item_Visibility|           Item_Type|Item_MRP|Outlet_Identifier|Outlet_Establishment_Year|Outlet_Size|Outlet_Location_Type|      Outlet_Type|Item_Outlet_Sales|\n",
      "+---------------+-----------+----------------+---------------+--------------------+--------+-----------------+-------------------------+-----------+--------------------+-----------------+-----------------+\n",
      "|          FDC02|      21.35|         Low Fat|    0.069102831|              Canned|259.9278|           OUT018|                     2009|     Medium|              Tier 3|Supermarket Type2|        6768.5228|\n",
      "|          FDC02|      21.35|         Low Fat|    0.115194717|              Canned|258.3278|           OUT010|                     1998|       NULL|              Tier 3|    Grocery Store|         520.6556|\n",
      "|          FDC02|      21.35|         Low Fat|    0.068809463|              Canned|258.5278|           OUT035|                     2004|      Small|              Tier 2|Supermarket Type1|         5206.556|\n",
      "|          FDC02|      21.35|         Low Fat|    0.068765205|              Canned|260.4278|           OUT013|                     1987|       High|              Tier 3|Supermarket Type1|        3644.5892|\n",
      "|          FDR07|      21.35|         Low Fat|    0.130127365|Fruits and Vegeta...| 96.2094|           OUT010|                     1998|       NULL|              Tier 3|    Grocery Store|         190.4188|\n",
      "+---------------+-----------+----------------+---------------+--------------------+--------+-----------------+-------------------------+-----------+--------------------+-----------------+-----------------+\n",
      "only showing top 5 rows\n"
     ]
    }
   ],
   "source": [
    "_csvDF002.sort(col('Item_Weight').desc()) \\\n",
    "\t\t.show(5)"
   ]
  },
  {
   "cell_type": "code",
   "execution_count": null,
   "id": "d75433fe",
   "metadata": {},
   "outputs": [
    {
     "name": "stdout",
     "output_type": "stream",
     "text": [
      "+---------------+-----------+----------------+---------------+--------------------+--------+-----------------+-------------------------+-----------+--------------------+-----------------+-----------------+\n",
      "|Item_Identifier|Item_Weight|Item_Fat_Content|Item_Visibility|           Item_Type|Item_MRP|Outlet_Identifier|Outlet_Establishment_Year|Outlet_Size|Outlet_Location_Type|      Outlet_Type|Item_Outlet_Sales|\n",
      "+---------------+-----------+----------------+---------------+--------------------+--------+-----------------+-------------------------+-----------+--------------------+-----------------+-----------------+\n",
      "|          FDO23|      17.85|         Low Fat|            0.0|              Breads| 93.1436|           OUT045|                     2002|       NULL|              Tier 2|Supermarket Type1|        2174.5028|\n",
      "|          FDY07|       11.8|         Low Fat|            0.0|Fruits and Vegeta...| 45.5402|           OUT049|                     1999|     Medium|              Tier 1|Supermarket Type1|        1516.0266|\n",
      "|          FDX07|       19.2|         Regular|            0.0|Fruits and Vegeta...| 182.095|           OUT010|                     1998|       NULL|              Tier 3|    Grocery Store|           732.38|\n",
      "|          FDP33|       18.7|         Low Fat|            0.0|         Snack Foods|256.6672|           OUT018|                     2009|     Medium|              Tier 3|Supermarket Type2|        3068.0064|\n",
      "|          NCD19|       8.93|         Low Fat|            0.0|           Household| 53.8614|           OUT013|                     1987|       High|              Tier 3|Supermarket Type1|         994.7052|\n",
      "+---------------+-----------+----------------+---------------+--------------------+--------+-----------------+-------------------------+-----------+--------------------+-----------------+-----------------+\n",
      "only showing top 5 rows\n"
     ]
    }
   ],
   "source": [
    "_csvDF002.sort(col('Item_Visibility').asc()) \\\n",
    "\t\t\t.show(5)"
   ]
  },
  {
   "cell_type": "code",
   "execution_count": null,
   "id": "acaf53ef",
   "metadata": {},
   "outputs": [
    {
     "name": "stdout",
     "output_type": "stream",
     "text": [
      "+---------------+-----------+----------------+---------------+--------------------+--------+-----------------+-------------------------+-----------+--------------------+-----------------+-----------------+\n",
      "|Item_Identifier|Item_Weight|Item_Fat_Content|Item_Visibility|           Item_Type|Item_MRP|Outlet_Identifier|Outlet_Establishment_Year|Outlet_Size|Outlet_Location_Type|      Outlet_Type|Item_Outlet_Sales|\n",
      "+---------------+-----------+----------------+---------------+--------------------+--------+-----------------+-------------------------+-----------+--------------------+-----------------+-----------------+\n",
      "|          FDC02|      21.35|         Low Fat|    0.068765205|              Canned|260.4278|           OUT013|                     1987|       High|              Tier 3|Supermarket Type1|        3644.5892|\n",
      "|          FDC02|      21.35|         Low Fat|    0.068809463|              Canned|258.5278|           OUT035|                     2004|      Small|              Tier 2|Supermarket Type1|         5206.556|\n",
      "|          FDC02|      21.35|         Low Fat|    0.068822477|              Canned|258.3278|           OUT046|                     1997|      Small|              Tier 1|Supermarket Type1|        7028.8506|\n",
      "|          FDC02|      21.35|         Low Fat|    0.069102831|              Canned|259.9278|           OUT018|                     2009|     Medium|              Tier 3|Supermarket Type2|        6768.5228|\n",
      "|          FDR07|      21.35|         Low Fat|    0.078060605|Fruits and Vegeta...| 96.0094|           OUT018|                     2009|     Medium|              Tier 3|Supermarket Type2|         380.8376|\n",
      "|          FDC02|      21.35|         Low Fat|    0.115194717|              Canned|258.3278|           OUT010|                     1998|       NULL|              Tier 3|    Grocery Store|         520.6556|\n",
      "|          FDR07|      21.35|         Low Fat|    0.130127365|Fruits and Vegeta...| 96.2094|           OUT010|                     1998|       NULL|              Tier 3|    Grocery Store|         190.4188|\n",
      "|          FDT03|      21.25|         Low Fat|    0.009996872|                Meat|185.5608|           OUT035|                     2004|      Small|              Tier 2|Supermarket Type1|        3123.9336|\n",
      "|          FDT03|      21.25|         Low Fat|    0.009998763|                Meat|182.3608|           OUT046|                     1997|      Small|              Tier 1|Supermarket Type1|         551.2824|\n",
      "|          FDT03|      21.25|         Low Fat|     0.01001904|                Meat|184.6608|           OUT045|                     2002|       NULL|              Tier 2|Supermarket Type1|         367.5216|\n",
      "+---------------+-----------+----------------+---------------+--------------------+--------+-----------------+-------------------------+-----------+--------------------+-----------------+-----------------+\n",
      "only showing top 10 rows\n"
     ]
    }
   ],
   "source": [
    "_csvDF002.sort(\t\\\n",
    "\t\t\t\t\tcol('Item_Weight').desc()\n",
    "\t\t\t\t,\tcol('Item_Visibility').asc()) \\\n",
    "\t\t.show(10)"
   ]
  },
  {
   "cell_type": "code",
   "execution_count": null,
   "id": "a736b172",
   "metadata": {},
   "outputs": [
    {
     "name": "stdout",
     "output_type": "stream",
     "text": [
      "+---------------+-----------+----------------+---------------+-----------+--------+-----------------+-------------------------+-----------+--------------------+-----------------+-----------------+\n",
      "|Item_Identifier|Item_Weight|Item_Fat_Content|Item_Visibility|  Item_Type|Item_MRP|Outlet_Identifier|Outlet_Establishment_Year|Outlet_Size|Outlet_Location_Type|      Outlet_Type|Item_Outlet_Sales|\n",
      "+---------------+-----------+----------------+---------------+-----------+--------+-----------------+-------------------------+-----------+--------------------+-----------------+-----------------+\n",
      "|          FDT03|      21.25|         Low Fat|    0.009996872|       Meat|185.5608|           OUT035|                     2004|      Small|              Tier 2|Supermarket Type1|        3123.9336|\n",
      "|          FDT03|      21.25|         Low Fat|    0.009998763|       Meat|182.3608|           OUT046|                     1997|      Small|              Tier 1|Supermarket Type1|         551.2824|\n",
      "|          FDT03|      21.25|         Low Fat|     0.01001904|       Meat|184.6608|           OUT045|                     2002|       NULL|              Tier 2|Supermarket Type1|         367.5216|\n",
      "|          FDT03|      21.25|         Low Fat|    0.010039493|       Meat|181.7608|           OUT018|                     2009|     Medium|              Tier 3|Supermarket Type2|        1102.5648|\n",
      "|          FDT03|      21.25|         Low Fat|     0.01005532|       Meat|183.1608|           OUT017|                     2007|       NULL|              Tier 2|Supermarket Type1|         2756.412|\n",
      "|          FDT03|      21.25|         Low Fat|    0.016735879|       Meat|185.2608|           OUT010|                     1998|       NULL|              Tier 3|    Grocery Store|         183.7608|\n",
      "|          FDQ21|      21.25|         low fat|    0.019407069|Snack Foods|119.3756|           OUT013|                     1987|       High|              Tier 3|Supermarket Type1|        3271.7412|\n",
      "|          FDQ21|      21.25|         Low Fat|    0.019423232|Snack Foods|120.8756|           OUT046|                     1997|      Small|              Tier 1|Supermarket Type1|        3150.5656|\n",
      "|          FDQ21|      21.25|         Low Fat|     0.01945343|Snack Foods|120.8756|           OUT049|                     1999|     Medium|              Tier 1|Supermarket Type1|        1454.1072|\n",
      "|          FDQ21|      21.25|         Low Fat|    0.019462623|Snack Foods|120.8756|           OUT045|                     2002|       NULL|              Tier 2|Supermarket Type1|        1575.2828|\n",
      "+---------------+-----------+----------------+---------------+-----------+--------+-----------------+-------------------------+-----------+--------------------+-----------------+-----------------+\n",
      "only showing top 10 rows\n"
     ]
    }
   ],
   "source": [
    "## sending 0 means asc == false, which means that will be desc\n",
    "_csvDF002.filter(col('Item_Weight')<21.35) \\\n",
    "\t\t.sort(\t\\\n",
    "\t\t\t\t\t['Item_Weight','Item_Visibility']\n",
    "\t\t\t\t,\tascending = [0,1]) \\\n",
    "\t\t.show(10)"
   ]
  },
  {
   "cell_type": "markdown",
   "id": "4baee6ba",
   "metadata": {},
   "source": [
    "### Limit"
   ]
  },
  {
   "cell_type": "code",
   "execution_count": null,
   "id": "1ad64169",
   "metadata": {},
   "outputs": [
    {
     "name": "stdout",
     "output_type": "stream",
     "text": [
      "+---------------+-----------+----------------+---------------+------------+--------+-----------------+-------------------------+-----------+--------------------+-----------------+-----------------+\n",
      "|Item_Identifier|Item_Weight|Item_Fat_Content|Item_Visibility|   Item_Type|Item_MRP|Outlet_Identifier|Outlet_Establishment_Year|Outlet_Size|Outlet_Location_Type|      Outlet_Type|Item_Outlet_Sales|\n",
      "+---------------+-----------+----------------+---------------+------------+--------+-----------------+-------------------------+-----------+--------------------+-----------------+-----------------+\n",
      "|          FDP40|      4.555|         Regular|    0.034410585|Frozen Foods|111.3544|           OUT049|                     1999|     Medium|              Tier 1|Supermarket Type1|        1342.2528|\n",
      "|          FDP40|      4.555|         Regular|    0.034357169|Frozen Foods|112.6544|           OUT046|                     1997|      Small|              Tier 1|Supermarket Type1|        2684.5056|\n",
      "|          FDP40|      4.555|         Regular|    0.034350673|Frozen Foods|112.7544|           OUT035|                     2004|      Small|              Tier 2|Supermarket Type1|        1789.6704|\n",
      "|          FDP40|      4.555|         Regular|    0.034328578|Frozen Foods|110.1544|           OUT013|                     1987|       High|              Tier 3|Supermarket Type1|        1230.3984|\n",
      "|          DRE12|       4.59|         Low Fat|    0.070890602| Soft Drinks| 111.686|           OUT049|                     1999|     Medium|              Tier 1|Supermarket Type1|         1584.604|\n",
      "+---------------+-----------+----------------+---------------+------------+--------+-----------------+-------------------------+-----------+--------------------+-----------------+-----------------+\n",
      "\n"
     ]
    }
   ],
   "source": [
    "_csvDF002.filter(col('Item_Weight')<21.35) \\\n",
    "\t\t.sort(\t\\\n",
    "\t\t\t\t\t['Item_Weight','Item_Visibility']\n",
    "\t\t\t\t,\tascending = [1,0]) \\\n",
    "\t\t.limit(5) \\\n",
    "\t\t.show(10000)"
   ]
  },
  {
   "cell_type": "markdown",
   "id": "c1dec65b",
   "metadata": {},
   "source": [
    "### Drop [column]"
   ]
  },
  {
   "cell_type": "code",
   "execution_count": null,
   "id": "9166e116",
   "metadata": {},
   "outputs": [
    {
     "name": "stdout",
     "output_type": "stream",
     "text": [
      "+---------------+-----------+--------------------+-----------------+-------------------------+-----------+--------------------+-----------------+\n",
      "|Item_Identifier|Item_Weight|           Item_Type|Outlet_Identifier|Outlet_Establishment_Year|Outlet_Size|Outlet_Location_Type|      Outlet_Type|\n",
      "+---------------+-----------+--------------------+-----------------+-------------------------+-----------+--------------------+-----------------+\n",
      "|          FDA15|        9.3|               Dairy|           OUT049|                     1999|     Medium|              Tier 1|Supermarket Type1|\n",
      "|          DRC01|       5.92|         Soft Drinks|           OUT018|                     2009|     Medium|              Tier 3|Supermarket Type2|\n",
      "|          FDN15|       17.5|                Meat|           OUT049|                     1999|     Medium|              Tier 1|Supermarket Type1|\n",
      "|          FDX07|       19.2|Fruits and Vegeta...|           OUT010|                     1998|       NULL|              Tier 3|    Grocery Store|\n",
      "|          NCD19|       8.93|           Household|           OUT013|                     1987|       High|              Tier 3|Supermarket Type1|\n",
      "|          FDP36|     10.395|        Baking Goods|           OUT018|                     2009|     Medium|              Tier 3|Supermarket Type2|\n",
      "|          FDO10|      13.65|         Snack Foods|           OUT013|                     1987|       High|              Tier 3|Supermarket Type1|\n",
      "|          FDP10|       NULL|         Snack Foods|           OUT027|                     1985|     Medium|              Tier 3|Supermarket Type3|\n",
      "|          FDH17|       16.2|        Frozen Foods|           OUT045|                     2002|       NULL|              Tier 2|Supermarket Type1|\n",
      "|          FDU28|       19.2|        Frozen Foods|           OUT017|                     2007|       NULL|              Tier 2|Supermarket Type1|\n",
      "+---------------+-----------+--------------------+-----------------+-------------------------+-----------+--------------------+-----------------+\n",
      "only showing top 10 rows\n"
     ]
    }
   ],
   "source": [
    "_csvDF002.drop(col('Item_Fat_Content'), col('Item_Visibility')) \\\n",
    "\t\t.drop('Item_MRP','Item_Outlet_Sales') \\\n",
    "\t\t.show(10)"
   ]
  },
  {
   "cell_type": "markdown",
   "id": "bc1c5e86",
   "metadata": {},
   "source": [
    "### dropDuplicates/drop_duplicates"
   ]
  },
  {
   "cell_type": "code",
   "execution_count": null,
   "id": "b20053f9",
   "metadata": {},
   "outputs": [
    {
     "name": "stdout",
     "output_type": "stream",
     "text": [
      "+---------------+-----------+----------------+---------------+--------------------+--------+-----------------+-------------------------+-----------+--------------------+-----------------+-----------------+\n",
      "|Item_Identifier|Item_Weight|Item_Fat_Content|Item_Visibility|           Item_Type|Item_MRP|Outlet_Identifier|Outlet_Establishment_Year|Outlet_Size|Outlet_Location_Type|      Outlet_Type|Item_Outlet_Sales|\n",
      "+---------------+-----------+----------------+---------------+--------------------+--------+-----------------+-------------------------+-----------+--------------------+-----------------+-----------------+\n",
      "|          FDB57|      20.25|         Regular|    0.018801549|Fruits and Vegeta...|222.1772|           OUT035|                     2004|      Small|              Tier 2|Supermarket Type1|          5559.43|\n",
      "|          FDI27|       8.71|         Regular|     0.04605781|               Dairy| 43.8744|           OUT049|                     1999|     Medium|              Tier 1|Supermarket Type1|         633.8416|\n",
      "|          NCM41|       16.5|         Low Fat|    0.035801238|  Health and Hygiene|  92.612|           OUT018|                     2009|     Medium|              Tier 3|Supermarket Type2|          559.272|\n",
      "|          FDG16|      15.25|         Low Fat|    0.089742065|        Frozen Foods|213.7192|           OUT013|                     1987|       High|              Tier 3|Supermarket Type1|         1078.596|\n",
      "|          FDO58|       19.6|         Low Fat|    0.039544237|         Snack Foods|163.6526|           OUT013|                     1987|       High|              Tier 3|Supermarket Type1|        1151.1682|\n",
      "|          DRF36|       16.1|         Low Fat|    0.023577298|         Soft Drinks|192.6846|           OUT046|                     1997|      Small|              Tier 1|Supermarket Type1|         2866.269|\n",
      "|          FDC20|      10.65|              LF|    0.023971463|Fruits and Vegeta...| 54.0272|           OUT046|                     1997|      Small|              Tier 1|Supermarket Type1|         447.4176|\n",
      "|          FDJ16|      9.195|              LF|    0.114863923|        Frozen Foods| 59.0246|           OUT035|                     2004|      Small|              Tier 2|Supermarket Type1|        1853.5872|\n",
      "|          FDB12|      11.15|         Regular|    0.105287746|        Baking Goods|103.2648|           OUT035|                     2004|      Small|              Tier 2|Supermarket Type1|        2388.8904|\n",
      "|          FDM46|      7.365|         Low Fat|    0.159967845|         Snack Foods|  94.712|           OUT046|                     1997|      Small|              Tier 1|Supermarket Type1|         1304.968|\n",
      "+---------------+-----------+----------------+---------------+--------------------+--------+-----------------+-------------------------+-----------+--------------------+-----------------+-----------------+\n",
      "only showing top 10 rows\n"
     ]
    }
   ],
   "source": [
    "_csvDF002.dropDuplicates().show(10)"
   ]
  },
  {
   "cell_type": "code",
   "execution_count": null,
   "id": "1fede803",
   "metadata": {},
   "outputs": [
    {
     "name": "stdout",
     "output_type": "stream",
     "text": [
      "+---------------+-----------+----------------+---------------+------------+--------+-----------------+-------------------------+-----------+--------------------+-----------------+-----------------+\n",
      "|Item_Identifier|Item_Weight|Item_Fat_Content|Item_Visibility|   Item_Type|Item_MRP|Outlet_Identifier|Outlet_Establishment_Year|Outlet_Size|Outlet_Location_Type|      Outlet_Type|Item_Outlet_Sales|\n",
      "+---------------+-----------+----------------+---------------+------------+--------+-----------------+-------------------------+-----------+--------------------+-----------------+-----------------+\n",
      "|          FDP24|       20.6|              LF|    0.083133128|Baking Goods|120.1756|           OUT049|                     1999|     Medium|              Tier 1|Supermarket Type1|        1332.9316|\n",
      "|          FDC37|       NULL|         Low Fat|    0.057556998|Baking Goods|107.6938|           OUT019|                     1985|      Small|              Tier 1|    Grocery Store|         214.3876|\n",
      "|          FDP36|     10.395|         Regular|            0.0|Baking Goods| 51.4008|           OUT018|                     2009|     Medium|              Tier 3|Supermarket Type2|         556.6088|\n",
      "|          FDK48|      7.445|         low fat|            0.0|Baking Goods| 76.8354|           OUT046|                     1997|      Small|              Tier 1|Supermarket Type1|        2181.8266|\n",
      "|          FDF24|       15.5|             reg|    0.025513973|Baking Goods| 83.7934|           OUT017|                     2007|       NULL|              Tier 2|Supermarket Type1|        1474.0812|\n",
      "|          FDR47|      17.85|              LF|            0.0|      Breads|196.5794|           OUT010|                     1998|       NULL|              Tier 3|    Grocery Store|         585.2382|\n",
      "|          FDO23|      17.85|         Low Fat|            0.0|      Breads| 93.1436|           OUT045|                     2002|       NULL|              Tier 2|Supermarket Type1|        2174.5028|\n",
      "|          FDV11|        9.1|         Regular|            0.0|      Breads|173.2054|           OUT045|                     2002|       NULL|              Tier 2|Supermarket Type1|        3151.8972|\n",
      "|          FDW35|       NULL|         low fat|      0.0194158|      Breads| 41.6454|           OUT019|                     1985|      Small|              Tier 1|    Grocery Store|          83.8908|\n",
      "|          FDY47|        8.6|             reg|    0.054706408|      Breads| 128.931|           OUT018|                     2009|     Medium|              Tier 3|Supermarket Type2|         1428.141|\n",
      "+---------------+-----------+----------------+---------------+------------+--------+-----------------+-------------------------+-----------+--------------------+-----------------+-----------------+\n",
      "only showing top 10 rows\n"
     ]
    }
   ],
   "source": [
    "_csvDF002.drop_duplicates(subset=['Item_Type','Item_Fat_Content']).show(10)"
   ]
  },
  {
   "cell_type": "markdown",
   "id": "91c217ab",
   "metadata": {},
   "source": [
    "### distinct"
   ]
  },
  {
   "cell_type": "code",
   "execution_count": null,
   "id": "2527bdb9",
   "metadata": {},
   "outputs": [
    {
     "name": "stdout",
     "output_type": "stream",
     "text": [
      "+---------------+-----------+----------------+---------------+--------------------+--------+-----------------+-------------------------+-----------+--------------------+-----------------+-----------------+\n",
      "|Item_Identifier|Item_Weight|Item_Fat_Content|Item_Visibility|           Item_Type|Item_MRP|Outlet_Identifier|Outlet_Establishment_Year|Outlet_Size|Outlet_Location_Type|      Outlet_Type|Item_Outlet_Sales|\n",
      "+---------------+-----------+----------------+---------------+--------------------+--------+-----------------+-------------------------+-----------+--------------------+-----------------+-----------------+\n",
      "|          FDB57|      20.25|         Regular|    0.018801549|Fruits and Vegeta...|222.1772|           OUT035|                     2004|      Small|              Tier 2|Supermarket Type1|          5559.43|\n",
      "|          FDI27|       8.71|         Regular|     0.04605781|               Dairy| 43.8744|           OUT049|                     1999|     Medium|              Tier 1|Supermarket Type1|         633.8416|\n",
      "|          NCM41|       16.5|         Low Fat|    0.035801238|  Health and Hygiene|  92.612|           OUT018|                     2009|     Medium|              Tier 3|Supermarket Type2|          559.272|\n",
      "|          FDG16|      15.25|         Low Fat|    0.089742065|        Frozen Foods|213.7192|           OUT013|                     1987|       High|              Tier 3|Supermarket Type1|         1078.596|\n",
      "|          FDO58|       19.6|         Low Fat|    0.039544237|         Snack Foods|163.6526|           OUT013|                     1987|       High|              Tier 3|Supermarket Type1|        1151.1682|\n",
      "|          DRF36|       16.1|         Low Fat|    0.023577298|         Soft Drinks|192.6846|           OUT046|                     1997|      Small|              Tier 1|Supermarket Type1|         2866.269|\n",
      "|          FDC20|      10.65|              LF|    0.023971463|Fruits and Vegeta...| 54.0272|           OUT046|                     1997|      Small|              Tier 1|Supermarket Type1|         447.4176|\n",
      "|          FDJ16|      9.195|              LF|    0.114863923|        Frozen Foods| 59.0246|           OUT035|                     2004|      Small|              Tier 2|Supermarket Type1|        1853.5872|\n",
      "|          FDB12|      11.15|         Regular|    0.105287746|        Baking Goods|103.2648|           OUT035|                     2004|      Small|              Tier 2|Supermarket Type1|        2388.8904|\n",
      "|          FDM46|      7.365|         Low Fat|    0.159967845|         Snack Foods|  94.712|           OUT046|                     1997|      Small|              Tier 1|Supermarket Type1|         1304.968|\n",
      "+---------------+-----------+----------------+---------------+--------------------+--------+-----------------+-------------------------+-----------+--------------------+-----------------+-----------------+\n",
      "only showing top 10 rows\n"
     ]
    }
   ],
   "source": [
    "_csvDF002.distinct().show(10)"
   ]
  },
  {
   "cell_type": "markdown",
   "id": "64fe0504",
   "metadata": {},
   "source": [
    "### Union and Union By Name"
   ]
  },
  {
   "cell_type": "code",
   "execution_count": null,
   "id": "4e5c2b6f",
   "metadata": {},
   "outputs": [
    {
     "name": "stdout",
     "output_type": "stream",
     "text": [
      "+---+-------+\n",
      "| id|   name|\n",
      "+---+-------+\n",
      "|  1|   Gato|\n",
      "|  2|  Perro|\n",
      "|  5|   NULL|\n",
      "|  2|  Perro|\n",
      "|  3| Conejo|\n",
      "|  4|Ardilla|\n",
      "+---+-------+\n",
      "\n",
      "+---+-------+\n",
      "| id|   name|\n",
      "+---+-------+\n",
      "|  1|   Gato|\n",
      "|  2|  Perro|\n",
      "|  5|   NULL|\n",
      "|  2|  Perro|\n",
      "|  3| Conejo|\n",
      "|  4|Ardilla|\n",
      "+---+-------+\n",
      "\n"
     ]
    }
   ],
   "source": [
    "#\n",
    "_tableFour = [(1,'Gato'),(2,'Perro'),(5,None)]\n",
    "_schemaTableFour = 'id INTEGER, name STRING'\n",
    "_dfTableFour = _spark.createDataFrame(_tableFour, _schemaTableFour)\n",
    "#\n",
    "_tableTwo = [(2,'Perro'),(3,'Conejo'),(4,'Ardilla')]\n",
    "_schemaTableTwo = 'id INTEGER, name STRING'\n",
    "_dfTableTwo = _spark.createDataFrame(_tableTwo, _schemaTableTwo)\n",
    "#\n",
    "_dfTableFour.union(_dfTableTwo).show()\n",
    "_dfTableFour.unionAll(_dfTableTwo).show()\n",
    "#\n",
    "## Note: In other SQL languages, Union eliminates the duplicates but\n",
    "## UnionAll merges two datasets including duplicate records.\n",
    "## But, in PySpark both behave the same and recommend using DataFrame duplicate()\n",
    "## function to remove duplicate rows.\n",
    "#"
   ]
  },
  {
   "cell_type": "code",
   "execution_count": null,
   "id": "f1a54877",
   "metadata": {},
   "outputs": [
    {
     "name": "stdout",
     "output_type": "stream",
     "text": [
      "+---+-------+\n",
      "| id|   name|\n",
      "+---+-------+\n",
      "|  2|  Perro|\n",
      "|  1|   Gato|\n",
      "|  4|Ardilla|\n",
      "|  3| Conejo|\n",
      "|  5|   NULL|\n",
      "+---+-------+\n",
      "\n"
     ]
    }
   ],
   "source": [
    "_dfTableFour.union(_dfTableTwo).drop_duplicates().show()"
   ]
  },
  {
   "cell_type": "code",
   "execution_count": null,
   "id": "b44fdbc7",
   "metadata": {},
   "outputs": [],
   "source": [
    "#\n",
    "_tableFour = [('Gato',1),('Perro',2),(None,3)]\n",
    "_schemaTableFour = 'name STRING, id INTEGER'\n",
    "_dfTableFour = _spark.createDataFrame(_tableFour, _schemaTableFour)\n",
    "#\n",
    "_tableTwo = [(2,'Perro'),(3,'Conejo'),(4,'Ardilla')]\n",
    "_schemaTableTwo = 'id INTEGER, name STRING'\n",
    "_dfTableTwo = _spark.createDataFrame(_tableTwo, _schemaTableTwo)\n",
    "#\n",
    "_dfTableFour.union(_dfTableTwo).show()\n",
    "_dfTableFour.unionByName(_dfTableTwo).show()\n",
    "#"
   ]
  },
  {
   "cell_type": "code",
   "execution_count": null,
   "id": "02d876d4",
   "metadata": {},
   "outputs": [
    {
     "name": "stdout",
     "output_type": "stream",
     "text": [
      "+---+-------+------+\n",
      "| id|   name| color|\n",
      "+---+-------+------+\n",
      "| -1|   NULL| Pardo|\n",
      "|  1|   Gato|Blanco|\n",
      "|  2|  Perro|  NULL|\n",
      "|  2|  Perro| Negro|\n",
      "|  3| Conejo|  NULL|\n",
      "|  4|Ardilla|  NULL|\n",
      "+---+-------+------+\n",
      "\n"
     ]
    }
   ],
   "source": [
    "#\n",
    "_tableThree = [('Gato',1,'Blanco'),('Perro',2,'Negro'),(None,-1,'Pardo')]\n",
    "_schemaTableThree = 'name STRING, id INTEGER, color STRING'\n",
    "_dfTableThree = _spark.createDataFrame(_tableThree, _schemaTableThree)\n",
    "#\n",
    "_dfTableTwo.unionByName(_dfTableThree, allowMissingColumns=True) \\\n",
    "\t\t\t.sort(col('id').asc()).show(100)\n",
    "#"
   ]
  },
  {
   "cell_type": "markdown",
   "id": "0cff92bc",
   "metadata": {},
   "source": [
    "### initcap(), upper(), lower(), casefold()\n",
    "\n",
    "Why `casefold()` over `lower()` for comparisons?\n",
    "\n",
    "* `casefold()` is more aggressive than `lower()`, providing broader case-folding for case-insensitive comparisons and handling complex case mappings in languages like Turkish or German.\n",
    "* It's designed specifically to remove case distinctions for comparison purposes.\n",
    "* While `lower()` can work for basic case-insensitive comparisons, `casefold()` is recommended for greater accuracy, especially with international text.\n"
   ]
  },
  {
   "cell_type": "code",
   "execution_count": null,
   "id": "dd3c9ed4",
   "metadata": {},
   "outputs": [
    {
     "name": "stdout",
     "output_type": "stream",
     "text": [
      "+---+-------+----------+------------+----------+\n",
      "| id|   name|name_lower|name_initcap|name_upper|\n",
      "+---+-------+----------+------------+----------+\n",
      "|  1|   Gato|      gato|        Gato|      GATO|\n",
      "|  2|  PerrO|     perro|       Perro|   PERROTE|\n",
      "|  2|  perro|     perro|       Perro|    CONEJO|\n",
      "|  3| Conejo|    conejo|      Conejo|    LIEBRE|\n",
      "|  4|Ardilla|   ardilla|     Ardilla|   ARDILLA|\n",
      "|  5|ARDILLA|   ardilla|     Ardilla|      RATA|\n",
      "+---+-------+----------+------------+----------+\n",
      "\n"
     ]
    }
   ],
   "source": [
    "#\n",
    "_tableFour = [(1,'Gato','GATO'),(2,'perro','Conejo'),(5,'ARDILLA','Rata')]\n",
    "_schemaTableFour = 'id INTEGER, name STRING, alias STRING'\n",
    "_dfTableFour = _spark.createDataFrame(_tableFour, _schemaTableFour)\n",
    "#\n",
    "_tableTwo = [(2,'PerrO','PerroTE'),(3,'Conejo','Liebre'),(4,'Ardilla','ARdiLLA')]\n",
    "_schemaTableTwo = 'id INTEGER, name STRING, alias STRING'\n",
    "_dfTableTwo = _spark.createDataFrame(_tableTwo, _schemaTableTwo)\n",
    "#\n",
    "_dfTableFour.unionByName(_dfTableTwo, allowMissingColumns=True) \\\n",
    "\t\t.withColumn('name_lower',lower(col('name'))) \\\n",
    "\t\t.select(\t\tcol('id') \\\n",
    "\t\t  \t\t\t,\tcol('name') \\\n",
    "\t\t\t\t\t,\tcol('name_lower') \\\n",
    "\t\t  \t\t\t,\tinitcap(col('name')).alias('name_initcap') \\\n",
    "\t\t\t\t\t,\tupper('alias').alias('name_upper')) \\\n",
    "\t\t.sort(col('id').asc()) \\\n",
    "\t\t.show()\n",
    "\t\t##.filter(col('name').casefold() == col('alias').casefold()) \\"
   ]
  },
  {
   "cell_type": "markdown",
   "id": "c66e2be3",
   "metadata": {},
   "source": [
    "### current_date(), date_add(), date_sub()"
   ]
  },
  {
   "cell_type": "code",
   "execution_count": null,
   "id": "262723ae",
   "metadata": {},
   "outputs": [
    {
     "name": "stdout",
     "output_type": "stream",
     "text": [
      "+-------+---+--------------------+----------+----------+--------------------+--------------------+-------------------+\n",
      "|   name| id|                  dt|  currentD|    minusD|            currentT|            new_time|           currentZ|\n",
      "+-------+---+--------------------+----------+----------+--------------------+--------------------+-------------------+\n",
      "|   Gato|  1|2025-07-17 10:36:...|2025-07-18|2025-07-16|2025-07-18 10:36:...|2025-07-18 12:44:...|America/Los_Angeles|\n",
      "|  Perro|  2|2025-07-18 10:36:...|2025-07-18|2025-07-16|2025-07-18 10:36:...|2025-07-18 12:44:...|America/Los_Angeles|\n",
      "|  Perro|  2|2025-07-17 10:36:...|2025-07-18|2025-07-16|2025-07-18 10:36:...|2025-07-18 12:44:...|America/Los_Angeles|\n",
      "| Conejo|  3|2025-07-18 10:36:...|2025-07-18|2025-07-16|2025-07-18 10:36:...|2025-07-18 12:44:...|America/Los_Angeles|\n",
      "|   NULL|  3|2025-07-17 10:36:...|2025-07-18|2025-07-16|2025-07-18 10:36:...|2025-07-18 12:44:...|America/Los_Angeles|\n",
      "|Ardilla|  4|2025-07-18 10:36:...|2025-07-18|2025-07-16|2025-07-18 10:36:...|2025-07-18 12:44:...|America/Los_Angeles|\n",
      "+-------+---+--------------------+----------+----------+--------------------+--------------------+-------------------+\n",
      "\n"
     ]
    }
   ],
   "source": [
    "from datetime import datetime, timezone, timedelta\n",
    "#\n",
    "_utcTimeNow = datetime.now(timezone.utc) + timedelta(hours=-24)\n",
    "#\n",
    "_tableFour = [('Gato',1,_utcTimeNow),('Perro',2,_utcTimeNow),(None,3,_utcTimeNow)]\n",
    "_schemaTableFour = 'name STRING, id INTEGER, dt TIMESTAMP'\n",
    "_dfTableFour = _spark.createDataFrame(_tableFour, _schemaTableFour)\n",
    "#\n",
    "_offset = timedelta(hours=-7) ## UTC-7 offset\n",
    "_tz = timezone(_offset)\n",
    "_pdtTimeNow = datetime.now(_tz)\n",
    "#\n",
    "_tableTwo = [(2,'Perro',_pdtTimeNow),(3,'Conejo',_pdtTimeNow),(4,'Ardilla',_pdtTimeNow)]\n",
    "_schemaTableTwo = 'id INTEGER, name STRING, dt TIMESTAMP'\n",
    "_dfTableTwo = _spark.createDataFrame(_tableTwo, _schemaTableTwo)\n",
    "#\n",
    "_newDataFrame_fromSelect011 = \\\n",
    "\t_dfTableFour \\\n",
    "\t\t.unionByName(_dfTableTwo, allowMissingColumns=True) \\\n",
    "\t\t.withColumn('currentD', current_date()) \\\n",
    "\t\t.withColumn('minusD', date_add('currentD', -2)) \\\n",
    "\t\t.withColumn('currentT', current_timestamp()) \\\n",
    "\t\t.withColumn('new_time', col('currentT') + expr('INTERVAL -3 HOURS -25 MINUTES 20000 SECONDS')) \\\n",
    "\t\t.withColumn('currentZ', current_timezone()) \\\n",
    "\t\t.sort(col('id').asc())\t\t\n",
    "#\n",
    "_newDataFrame_fromSelect011.show()\n",
    "#"
   ]
  },
  {
   "cell_type": "markdown",
   "id": "f15f5055",
   "metadata": {},
   "source": [
    "### DateDiff"
   ]
  },
  {
   "cell_type": "code",
   "execution_count": null,
   "id": "a887775a",
   "metadata": {},
   "outputs": [
    {
     "name": "stdout",
     "output_type": "stream",
     "text": [
      "+-------+---+--------------------+----------+-----------+------------+-------------+--------------------+-------------------+------------+\n",
      "|   name| id|            start_DT|week_after|week_before|_AFTER_DIFF_|_BEFORE_DIFF_|          start_time|           end_time|DIFF_MINUTES|\n",
      "+-------+---+--------------------+----------+-----------+------------+-------------+--------------------+-------------------+------------+\n",
      "|   Gato|  1|2025-07-17 10:36:...|2025-07-24| 2025-07-10|           7|           -7|2025-07-17 10:36:...|2025-07-10 00:00:00|    -10716.3|\n",
      "|  Perro|  2|2025-07-18 11:36:...|2025-07-25| 2025-07-11|           7|           -7|2025-07-18 11:36:...|2025-07-11 00:00:00|    -10776.3|\n",
      "|Ardilla|  3|2025-07-18 09:36:...|2025-07-25| 2025-07-11|           7|           -7|2025-07-18 09:36:...|2025-07-11 00:00:00|    -10656.3|\n",
      "+-------+---+--------------------+----------+-----------+------------+-------------+--------------------+-------------------+------------+\n",
      "\n"
     ]
    }
   ],
   "source": [
    "from datetime import datetime, timezone, timedelta\n",
    "#\n",
    "_utcTimeNow = datetime.now(timezone.utc) + timedelta(hours=-24)\n",
    "_utcTimeNowPlusOne = datetime.now(timezone.utc) + timedelta(hours=1)\n",
    "_utcTimeNowMinusOne = datetime.now(timezone.utc) + timedelta(hours=-1)\n",
    "#\n",
    "_tableFour = [('Gato',1,_utcTimeNow),('Perro',2,_utcTimeNowPlusOne),('Ardilla',3,_utcTimeNowMinusOne)]\n",
    "_schemaTableFour = 'name STRING, id INTEGER, start_DT TIMESTAMP'\n",
    "_dfTableFour = _spark.createDataFrame(_tableFour, _schemaTableFour)\n",
    "#\n",
    "## end-date , star-date\n",
    "#\n",
    "_dfTableFour \\\n",
    "\t.withColumn('week_after', (col('start_DT') + expr('INTERVAL 168 HOURS')).cast('date')) \\\n",
    "\t.withColumn('week_before', (col('start_DT') + expr('INTERVAL -168 HOURS')).cast('date')) \\\n",
    "\t.withColumn('_AFTER_DIFF_', datediff(col('week_after'), col('start_DT'))) \\\n",
    "\t.withColumn('_BEFORE_DIFF_', datediff(col('week_before'), col('start_DT'))) \\\n",
    "\t.withColumn('start_time', to_timestamp('start_DT')) \\\n",
    "\t.withColumn('end_time', to_timestamp('week_before')) \\\n",
    "\t.withColumn('DIFF_MINUTES', (unix_timestamp('week_before') - unix_timestamp('start_DT')) / 60) \\\n",
    "\t.show()\n",
    "#"
   ]
  },
  {
   "cell_type": "markdown",
   "id": "128e5077",
   "metadata": {},
   "source": [
    "### date_format"
   ]
  },
  {
   "cell_type": "code",
   "execution_count": null,
   "id": "5df36438",
   "metadata": {},
   "outputs": [
    {
     "name": "stdout",
     "output_type": "stream",
     "text": [
      "+-------+---+--------------------------+--------------------------------------+\n",
      "|name   |id |start_DT                  |date_format                           |\n",
      "+-------+---+--------------------------+--------------------------------------+\n",
      "|Gato   |1  |2025-07-17 10:36:19.527708|Thu, 2025-07-17 10:36:19.52770 (-0700)|\n",
      "|Perro  |2  |2025-07-18 11:36:19.527708|Fri, 2025-07-18 11:36:19.52770 (-0700)|\n",
      "|Ardilla|3  |2025-07-18 09:36:19.527708|Fri, 2025-07-18 09:36:19.52770 (-0700)|\n",
      "+-------+---+--------------------------+--------------------------------------+\n",
      "\n"
     ]
    }
   ],
   "source": [
    "from datetime import datetime, timezone, timedelta\n",
    "#\n",
    "_utcTimeNow = datetime.now(timezone.utc) + timedelta(hours=-24)\n",
    "_utcTimeNowPlusOne = datetime.now(timezone.utc) + timedelta(hours=1)\n",
    "_utcTimeNowMinusOne = datetime.now(timezone.utc) + timedelta(hours=-1)\n",
    "#\n",
    "_tableFour = [('Gato',1,_utcTimeNow),('Perro',2,_utcTimeNowPlusOne),('Ardilla',3,_utcTimeNowMinusOne)]\n",
    "_schemaTableFour = 'name STRING, id INTEGER, start_DT TIMESTAMP'\n",
    "_dfTableFour = _spark.createDataFrame(_tableFour, _schemaTableFour)\n",
    "#\n",
    "_dfTableFour \\\n",
    "\t\t.withColumn('date_format', date_format('start_DT','E, yyyy-MM-dd HH:mm:ss.SSSSS (Z)').cast(StringType())) \\\n",
    "\t\t.show(_dfTableFour.count(), False)\n",
    "#"
   ]
  },
  {
   "cell_type": "markdown",
   "id": "03500775",
   "metadata": {},
   "source": [
    "### Handle NULL(s)\n",
    "\n",
    "* `.dropna('all')` remove rows with ALL columns with value in NULL\n",
    "* `.dropna('any')` remove rows with ANY columns with value in NULL\n",
    "* `.dropna(col('<ReplaceWithColumnName>'))` remove rows with columns with name <ReplaceWithColumnName> and value in NULL\n",
    "* `dropna(subset=['ColumnName01','ColumnName02'])` remove rows with columns with names `['ColumnName01','ColumnName02']` and value in NULL"
   ]
  },
  {
   "cell_type": "code",
   "execution_count": null,
   "id": "1023833e",
   "metadata": {},
   "outputs": [
    {
     "name": "stdout",
     "output_type": "stream",
     "text": [
      "+---------------+-----------+----------------+---------------+--------------------+--------+-----------------+-------------------------+-----------+--------------------+-----------------+-----------------+\n",
      "|Item_Identifier|Item_Weight|Item_Fat_Content|Item_Visibility|           Item_Type|Item_MRP|Outlet_Identifier|Outlet_Establishment_Year|Outlet_Size|Outlet_Location_Type|      Outlet_Type|Item_Outlet_Sales|\n",
      "+---------------+-----------+----------------+---------------+--------------------+--------+-----------------+-------------------------+-----------+--------------------+-----------------+-----------------+\n",
      "|          FDA15|        9.3|         Low Fat|    0.016047301|               Dairy|249.8092|           OUT049|                     1999|     Medium|              Tier 1|Supermarket Type1|         3735.138|\n",
      "|          DRC01|       5.92|         Regular|    0.019278216|         Soft Drinks| 48.2692|           OUT018|                     2009|     Medium|              Tier 3|Supermarket Type2|         443.4228|\n",
      "|          FDN15|       17.5|         Low Fat|    0.016760075|                Meat| 141.618|           OUT049|                     1999|     Medium|              Tier 1|Supermarket Type1|          2097.27|\n",
      "|          NCD19|       8.93|         Low Fat|            0.0|           Household| 53.8614|           OUT013|                     1987|       High|              Tier 3|Supermarket Type1|         994.7052|\n",
      "|          FDP36|     10.395|         Regular|            0.0|        Baking Goods| 51.4008|           OUT018|                     2009|     Medium|              Tier 3|Supermarket Type2|         556.6088|\n",
      "|          FDO10|      13.65|         Regular|    0.012741089|         Snack Foods| 57.6588|           OUT013|                     1987|       High|              Tier 3|Supermarket Type1|         343.5528|\n",
      "|          FDP10|       NULL|         Low Fat|    0.127469857|         Snack Foods|107.7622|           OUT027|                     1985|     Medium|              Tier 3|Supermarket Type3|        4022.7636|\n",
      "|          FDY07|       11.8|         Low Fat|            0.0|Fruits and Vegeta...| 45.5402|           OUT049|                     1999|     Medium|              Tier 1|Supermarket Type1|        1516.0266|\n",
      "|          FDA03|       18.5|         Regular|    0.045463773|               Dairy|144.1102|           OUT046|                     1997|      Small|              Tier 1|Supermarket Type1|         2187.153|\n",
      "|          FDX32|       15.1|         Regular|      0.1000135|Fruits and Vegeta...|145.4786|           OUT049|                     1999|     Medium|              Tier 1|Supermarket Type1|        1589.2646|\n",
      "+---------------+-----------+----------------+---------------+--------------------+--------+-----------------+-------------------------+-----------+--------------------+-----------------+-----------------+\n",
      "only showing top 10 rows\n"
     ]
    }
   ],
   "source": [
    "#\n",
    "_csvDF002 \\\n",
    "\t.dropna('all') \\\n",
    "\t.dropna(subset=['Outlet_Size']) \\\n",
    "\t.show(10)\n",
    "#"
   ]
  },
  {
   "cell_type": "markdown",
   "id": "dda79dcc",
   "metadata": {},
   "source": [
    "### fill NULL values"
   ]
  },
  {
   "cell_type": "code",
   "execution_count": null,
   "id": "3c041840",
   "metadata": {},
   "outputs": [
    {
     "name": "stdout",
     "output_type": "stream",
     "text": [
      "+---------------+-----------+----------------+---------------+--------------------+--------+-----------------+-------------------------+-----------+--------------------+-----------------+-----------------+---------------+\n",
      "|Item_Identifier|Item_Weight|Item_Fat_Content|Item_Visibility|           Item_Type|Item_MRP|Outlet_Identifier|Outlet_Establishment_Year|Outlet_Size|Outlet_Location_Type|      Outlet_Type|Item_Outlet_Sales|New_Item_Weight|\n",
      "+---------------+-----------+----------------+---------------+--------------------+--------+-----------------+-------------------------+-----------+--------------------+-----------------+-----------------+---------------+\n",
      "|          FDA15|        9.3|         Low Fat|    0.016047301|               Dairy|249.8092|           OUT049|                     1999|     Medium|              Tier 1|Supermarket Type1|         3735.138|            9.3|\n",
      "|          DRC01|       5.92|         Regular|    0.019278216|         Soft Drinks| 48.2692|           OUT018|                     2009|     Medium|              Tier 3|Supermarket Type2|         443.4228|           5.92|\n",
      "|          FDN15|       17.5|         Low Fat|    0.016760075|                Meat| 141.618|           OUT049|                     1999|     Medium|              Tier 1|Supermarket Type1|          2097.27|           17.5|\n",
      "|          FDX07|       19.2|         Regular|            0.0|Fruits and Vegeta...| 182.095|           OUT010|                     1998| es un NULL|              Tier 3|    Grocery Store|           732.38|           19.2|\n",
      "|          NCD19|       8.93|         Low Fat|            0.0|           Household| 53.8614|           OUT013|                     1987|       High|              Tier 3|Supermarket Type1|         994.7052|           8.93|\n",
      "|          FDP36|     10.395|         Regular|            0.0|        Baking Goods| 51.4008|           OUT018|                     2009|     Medium|              Tier 3|Supermarket Type2|         556.6088|         10.395|\n",
      "|          FDO10|      13.65|         Regular|    0.012741089|         Snack Foods| 57.6588|           OUT013|                     1987|       High|              Tier 3|Supermarket Type1|         343.5528|          13.65|\n",
      "|          FDP10|       NULL|         Low Fat|    0.127469857|         Snack Foods|107.7622|           OUT027|                     1985|     Medium|              Tier 3|Supermarket Type3|        4022.7636|           -1.0|\n",
      "|          FDH17|       16.2|         Regular|    0.016687114|        Frozen Foods| 96.9726|           OUT045|                     2002| es un NULL|              Tier 2|Supermarket Type1|        1076.5986|           16.2|\n",
      "|          FDU28|       19.2|         Regular|     0.09444959|        Frozen Foods|187.8214|           OUT017|                     2007| es un NULL|              Tier 2|Supermarket Type1|         4710.535|           19.2|\n",
      "|          FDY07|       11.8|         Low Fat|            0.0|Fruits and Vegeta...| 45.5402|           OUT049|                     1999|     Medium|              Tier 1|Supermarket Type1|        1516.0266|           11.8|\n",
      "|          FDA03|       18.5|         Regular|    0.045463773|               Dairy|144.1102|           OUT046|                     1997|      Small|              Tier 1|Supermarket Type1|         2187.153|           18.5|\n",
      "|          FDX32|       15.1|         Regular|      0.1000135|Fruits and Vegeta...|145.4786|           OUT049|                     1999|     Medium|              Tier 1|Supermarket Type1|        1589.2646|           15.1|\n",
      "|          FDS46|       17.6|         Regular|    0.047257328|         Snack Foods|119.6782|           OUT046|                     1997|      Small|              Tier 1|Supermarket Type1|        2145.2076|           17.6|\n",
      "|          FDF32|      16.35|         Low Fat|      0.0680243|Fruits and Vegeta...|196.4426|           OUT013|                     1987|       High|              Tier 3|Supermarket Type1|         1977.426|          16.35|\n",
      "|          FDP49|        9.0|         Regular|    0.069088961|           Breakfast| 56.3614|           OUT046|                     1997|      Small|              Tier 1|Supermarket Type1|        1547.3192|            9.0|\n",
      "|          NCB42|       11.8|         Low Fat|    0.008596051|  Health and Hygiene|115.3492|           OUT018|                     2009|     Medium|              Tier 3|Supermarket Type2|        1621.8888|           11.8|\n",
      "|          FDP49|        9.0|         Regular|    0.069196376|           Breakfast| 54.3614|           OUT049|                     1999|     Medium|              Tier 1|Supermarket Type1|         718.3982|            9.0|\n",
      "|          DRI11|       NULL|         Low Fat|    0.034237682|         Hard Drinks|113.2834|           OUT027|                     1985|     Medium|              Tier 3|Supermarket Type3|         2303.668|           -1.0|\n",
      "|          FDU02|      13.35|         Low Fat|     0.10249212|               Dairy|230.5352|           OUT035|                     2004|      Small|              Tier 2|Supermarket Type1|        2748.4224|          13.35|\n",
      "|          FDN22|      18.85|         Regular|    0.138190277|         Snack Foods|250.8724|           OUT013|                     1987|       High|              Tier 3|Supermarket Type1|         3775.086|          18.85|\n",
      "|          FDW12|       NULL|         Regular|    0.035399923|        Baking Goods|144.5444|           OUT027|                     1985|     Medium|              Tier 3|Supermarket Type3|        4064.0432|           -1.0|\n",
      "|          NCB30|       14.6|         Low Fat|    0.025698134|           Household|196.5084|           OUT035|                     2004|      Small|              Tier 2|Supermarket Type1|        1587.2672|           14.6|\n",
      "|          FDC37|       NULL|         Low Fat|    0.057556998|        Baking Goods|107.6938|           OUT019|                     1985|      Small|              Tier 1|    Grocery Store|         214.3876|           -1.0|\n",
      "|          FDR28|      13.85|         Regular|    0.025896485|        Frozen Foods| 165.021|           OUT046|                     1997|      Small|              Tier 1|Supermarket Type1|         4078.025|          13.85|\n",
      "|          NCD06|       13.0|         Low Fat|    0.099887103|           Household|  45.906|           OUT017|                     2007| es un NULL|              Tier 2|Supermarket Type1|          838.908|           13.0|\n",
      "|          FDV10|      7.645|         Regular|    0.066693437|         Snack Foods| 42.3112|           OUT035|                     2004|      Small|              Tier 2|Supermarket Type1|          1065.28|          7.645|\n",
      "|          DRJ59|      11.65|         low fat|    0.019356132|         Hard Drinks| 39.1164|           OUT013|                     1987|       High|              Tier 3|Supermarket Type1|         308.9312|          11.65|\n",
      "|          FDE51|      5.925|         Regular|    0.161466534|               Dairy| 45.5086|           OUT010|                     1998| es un NULL|              Tier 3|    Grocery Store|         178.4344|          5.925|\n",
      "|          FDC14|       NULL|         Regular|    0.072221801|              Canned| 43.6454|           OUT019|                     1985|      Small|              Tier 1|    Grocery Store|         125.8362|           -1.0|\n",
      "|          FDV38|      19.25|         Low Fat|    0.170348551|               Dairy| 55.7956|           OUT010|                     1998| es un NULL|              Tier 3|    Grocery Store|         163.7868|          19.25|\n",
      "|          NCS17|       18.6|         Low Fat|    0.080829372|  Health and Hygiene| 96.4436|           OUT018|                     2009|     Medium|              Tier 3|Supermarket Type2|        2741.7644|           18.6|\n",
      "|          FDP33|       18.7|         Low Fat|            0.0|         Snack Foods|256.6672|           OUT018|                     2009|     Medium|              Tier 3|Supermarket Type2|        3068.0064|           18.7|\n",
      "|          FDO23|      17.85|         Low Fat|            0.0|              Breads| 93.1436|           OUT045|                     2002| es un NULL|              Tier 2|Supermarket Type1|        2174.5028|          17.85|\n",
      "|          DRH01|       17.5|         Low Fat|    0.097904029|         Soft Drinks|174.8738|           OUT046|                     1997|      Small|              Tier 1|Supermarket Type1|        2085.2856|           17.5|\n",
      "|          NCX29|       10.0|         Low Fat|    0.089291137|  Health and Hygiene|146.7102|           OUT049|                     1999|     Medium|              Tier 1|Supermarket Type1|        3791.0652|           10.0|\n",
      "|          FDV20|       NULL|         Regular|    0.059511812|Fruits and Vegeta...|128.0678|           OUT027|                     1985|     Medium|              Tier 3|Supermarket Type3|        2797.6916|           -1.0|\n",
      "|          DRZ11|       8.85|         Regular|    0.113123893|         Soft Drinks|122.5388|           OUT018|                     2009|     Medium|              Tier 3|Supermarket Type2|        1609.9044|           8.85|\n",
      "|          FDX10|       NULL|         Regular|    0.123111453|         Snack Foods| 36.9874|           OUT027|                     1985|     Medium|              Tier 3|Supermarket Type3|         388.1614|           -1.0|\n",
      "|          FDB34|       NULL|         Low Fat|    0.026480954|         Snack Foods| 87.6198|           OUT027|                     1985|     Medium|              Tier 3|Supermarket Type3|         2180.495|           -1.0|\n",
      "|          FDU02|      13.35|         Low Fat|    0.102511504|               Dairy|230.6352|           OUT046|                     1997|      Small|              Tier 1|Supermarket Type1|         3435.528|          13.35|\n",
      "|          FDK43|        9.8|         Low Fat|     0.02681843|                Meat| 126.002|           OUT013|                     1987|       High|              Tier 3|Supermarket Type1|         2150.534|            9.8|\n",
      "|          FDA46|       13.6|         Low Fat|    0.117818348|         Snack Foods|192.9136|           OUT049|                     1999|     Medium|              Tier 1|Supermarket Type1|        2527.3768|           13.6|\n",
      "|          FDC02|      21.35|         Low Fat|    0.069102831|              Canned|259.9278|           OUT018|                     2009|     Medium|              Tier 3|Supermarket Type2|        6768.5228|          21.35|\n",
      "|          FDL50|      12.15|         Regular|    0.042277867|              Canned|126.5046|           OUT013|                     1987|       High|              Tier 3|Supermarket Type1|         373.5138|          12.15|\n",
      "|          FDM39|       6.42|              LF|    0.089498926|               Dairy|178.1002|           OUT010|                     1998| es un NULL|              Tier 3|    Grocery Store|         358.2004|           6.42|\n",
      "|          NCP05|       19.6|         Low Fat|            0.0|  Health and Hygiene|153.3024|           OUT045|                     2002| es un NULL|              Tier 2|Supermarket Type1|        2428.8384|           19.6|\n",
      "|          FDV49|       10.0|         Low Fat|    0.025879577|              Canned|265.2226|           OUT045|                     2002| es un NULL|              Tier 2|Supermarket Type1|        5815.0972|           10.0|\n",
      "|          FDL12|      15.85|         Regular|    0.121632721|        Baking Goods|  60.622|           OUT046|                     1997|      Small|              Tier 1|Supermarket Type1|         2576.646|          15.85|\n",
      "|          FDS02|       NULL|         Regular|    0.255394896|               Dairy|196.8794|           OUT019|                     1985|      Small|              Tier 1|    Grocery Store|         780.3176|           -1.0|\n",
      "|          NCL17|       7.39|         Low Fat|    0.067779712|  Health and Hygiene|143.8812|           OUT046|                     1997|      Small|              Tier 1|Supermarket Type1|        3134.5864|           7.39|\n",
      "|          FDM40|     10.195|         Low Fat|    0.159803853|        Frozen Foods|141.5154|           OUT013|                     1987|       High|              Tier 3|Supermarket Type1|         850.8924|         10.195|\n",
      "|          FDR13|      9.895|         Regular|    0.028696932|              Canned|117.0492|           OUT013|                     1987|       High|              Tier 3|Supermarket Type1|         810.9444|          9.895|\n",
      "|          FDA43|     10.895|         Low Fat|    0.065041581|Fruits and Vegeta...|196.3794|           OUT017|                     2007| es un NULL|              Tier 2|Supermarket Type1|        3121.2704|         10.895|\n",
      "|          NCP18|      12.15|         Low Fat|    0.028760013|           Household|151.4708|           OUT017|                     2007| es un NULL|              Tier 2|Supermarket Type1|        4815.0656|          12.15|\n",
      "|          FDK21|      7.905|         Low Fat|    0.010053105|         Snack Foods|249.0408|           OUT018|                     2009|     Medium|              Tier 3|Supermarket Type2|          6258.52|          7.905|\n",
      "|          NCX54|      9.195|         Low Fat|    0.048157338|           Household|106.1622|           OUT045|                     2002| es un NULL|              Tier 2|Supermarket Type1|         2117.244|          9.195|\n",
      "|          DRK35|      8.365|         Low Fat|    0.071958197|         Hard Drinks| 38.0506|           OUT049|                     1999|     Medium|              Tier 1|Supermarket Type1|         796.9626|          8.365|\n",
      "|          FDY21|       15.1|         Low Fat|    0.173481304|         Snack Foods| 194.511|           OUT046|                     1997|      Small|              Tier 1|Supermarket Type1|         4910.275|           15.1|\n",
      "|          FDI26|       NULL|         Low Fat|    0.061082177|              Canned|180.0344|           OUT019|                     1985|      Small|              Tier 1|    Grocery Store|          892.172|           -1.0|\n",
      "|          FDM20|       10.0|         Low Fat|            0.0|Fruits and Vegeta...|246.9144|           OUT018|                     2009|     Medium|              Tier 3|Supermarket Type2|        3185.1872|           10.0|\n",
      "|          FDV27|       7.97|         Regular|    0.040071131|                Meat| 87.3514|           OUT045|                     2002| es un NULL|              Tier 2|Supermarket Type1|        1062.6168|           7.97|\n",
      "|          FDF09|       NULL|         Low Fat|    0.012090074|Fruits and Vegeta...| 38.2848|           OUT027|                     1985|     Medium|              Tier 3|Supermarket Type3|         484.7024|           -1.0|\n",
      "|          FDY40|       NULL|         Regular|     0.15028599|        Frozen Foods| 51.0692|           OUT019|                     1985|      Small|              Tier 1|    Grocery Store|         147.8076|           -1.0|\n",
      "|          FDY45|       NULL|         Low Fat|    0.026015519|         Snack Foods|255.8356|           OUT027|                     1985|     Medium|              Tier 3|Supermarket Type3|         2543.356|           -1.0|\n",
      "|          FDC46|       17.7|              LF|    0.195068226|         Snack Foods|185.4266|           OUT010|                     1998| es un NULL|              Tier 3|    Grocery Store|         184.4266|           17.7|\n",
      "|          FDH19|      19.35|         Low Fat|    0.033082215|                Meat|172.5738|           OUT035|                     2004|      Small|              Tier 2|Supermarket Type1|        4865.6664|          19.35|\n",
      "|          FDZ03|      13.65|         Regular|    0.078946455|               Dairy| 186.024|           OUT045|                     2002| es un NULL|              Tier 2|Supermarket Type1|         1118.544|          13.65|\n",
      "|          DRH37|       17.6|         Low Fat|    0.041700756|         Soft Drinks|164.8526|           OUT045|                     2002| es un NULL|              Tier 2|Supermarket Type1|        2302.3364|           17.6|\n",
      "|          NCI17|      8.645|         Low Fat|    0.143422643|  Health and Hygiene|  95.841|           OUT046|                     1997|      Small|              Tier 1|Supermarket Type1|         2027.361|          8.645|\n",
      "|          FDJ58|       15.6|         Regular|    0.105296072|         Snack Foods|170.1764|           OUT046|                     1997|      Small|              Tier 1|Supermarket Type1|         3435.528|           15.6|\n",
      "|          FDL12|      15.85|         Regular|    0.121531501|        Baking Goods|  59.222|           OUT013|                     1987|       High|              Tier 3|Supermarket Type1|           599.22|          15.85|\n",
      "|          FDH35|      18.25|         Low Fat|            0.0|       Starchy Foods|164.7526|           OUT045|                     2002| es un NULL|              Tier 2|Supermarket Type1|        4604.6728|          18.25|\n",
      "|          FDG02|      7.855|         Low Fat|    0.011324862|              Canned|189.6188|           OUT017|                     2007| es un NULL|              Tier 2|Supermarket Type1|        2285.0256|          7.855|\n",
      "|          NCZ18|      7.825|         low fat|    0.186357148|           Household|254.3698|           OUT049|                     1999|     Medium|              Tier 1|Supermarket Type1|        5580.7356|          7.825|\n",
      "|          FDC29|       8.39|         Regular|    0.024205661|        Frozen Foods|114.0176|           OUT046|                     1997|      Small|              Tier 1|Supermarket Type1|         2290.352|           8.39|\n",
      "|          FDQ10|      12.85|         Low Fat|    0.033230816|         Snack Foods|172.3422|           OUT049|                     1999|     Medium|              Tier 1|Supermarket Type1|        1207.0954|          12.85|\n",
      "|          FDN48|       NULL|         Low Fat|    0.113720344|        Baking Goods| 89.9804|           OUT019|                     1985|      Small|              Tier 1|    Grocery Store|         643.1628|           -1.0|\n",
      "|          FDL04|       19.0|         Low Fat|    0.112556507|        Frozen Foods|104.9622|           OUT017|                     2007| es un NULL|              Tier 2|Supermarket Type1|         1587.933|           19.0|\n",
      "|          FDV25|      5.905|         Low Fat|            0.0|              Canned|222.5456|           OUT045|                     2002| es un NULL|              Tier 2|Supermarket Type1|        5305.0944|          5.905|\n",
      "|          FDD58|       7.76|         Low Fat|    0.059352241|         Snack Foods|  101.87|           OUT046|                     1997|      Small|              Tier 1|Supermarket Type1|          1697.79|           7.76|\n",
      "|          FDN04|       11.8|             reg|    0.014087057|        Frozen Foods|180.3344|           OUT046|                     1997|      Small|              Tier 1|Supermarket Type1|        1427.4752|           11.8|\n",
      "|          FDV45|      16.75|         low fat|    0.045230944|         Snack Foods|187.9556|           OUT018|                     2009|     Medium|              Tier 3|Supermarket Type2|          4693.89|          16.75|\n",
      "|          NCL18|       NULL|         Low Fat|    0.293417759|           Household|194.6136|           OUT019|                     1985|      Small|              Tier 1|    Grocery Store|         583.2408|           -1.0|\n",
      "|          FDR12|       NULL|         Regular|    0.031382044|        Baking Goods|171.3764|           OUT027|                     1985|     Medium|              Tier 3|Supermarket Type3|        3091.9752|           -1.0|\n",
      "|          FDG20|       15.5|         Regular|     0.12639886|Fruits and Vegeta...|177.0028|           OUT017|                     2007| es un NULL|              Tier 2|Supermarket Type1|        2479.4392|           15.5|\n",
      "|          FDZ55|      6.055|         Low Fat|    0.025403898|Fruits and Vegeta...| 160.992|           OUT035|                     2004|      Small|              Tier 2|Supermarket Type1|         2716.464|          6.055|\n",
      "|          FDQ49|       NULL|         Regular|    0.039057677|           Breakfast| 155.963|           OUT027|                     1985|     Medium|              Tier 3|Supermarket Type3|         3285.723|           -1.0|\n",
      "|          FDN33|      6.305|         Regular|    0.123115764|         Snack Foods| 95.6436|           OUT046|                     1997|      Small|              Tier 1|Supermarket Type1|         661.8052|          6.305|\n",
      "|          FDN27|      20.85|         Low Fat|    0.039624006|                Meat|117.2808|           OUT049|                     1999|     Medium|              Tier 1|Supermarket Type1|        1523.3504|          20.85|\n",
      "|          FDW20|      20.75|         Low Fat|    0.040421193|Fruits and Vegeta...| 122.173|           OUT010|                     1998| es un NULL|              Tier 3|    Grocery Store|          369.519|          20.75|\n",
      "|          DRG27|      8.895|         Low Fat|    0.105274111|               Dairy| 39.9138|           OUT049|                     1999|     Medium|              Tier 1|Supermarket Type1|         690.4346|          8.895|\n",
      "|          DRI25|       19.6|         Low Fat|    0.033970195|         Soft Drinks| 55.1614|           OUT045|                     2002| es un NULL|              Tier 2|Supermarket Type1|         1381.535|           19.6|\n",
      "|          FDA44|       19.7|         Low Fat|    0.053212652|Fruits and Vegeta...|  57.893|           OUT035|                     2004|      Small|              Tier 2|Supermarket Type1|          622.523|           19.7|\n",
      "|          NCR17|        9.8|         Low Fat|    0.024378706|  Health and Hygiene|114.5492|           OUT035|                     2004|      Small|              Tier 2|Supermarket Type1|        1274.3412|            9.8|\n",
      "|          FDU04|       NULL|         Low Fat|    0.009714595|        Frozen Foods|120.0414|           OUT019|                     1985|      Small|              Tier 1|    Grocery Store|         487.3656|           -1.0|\n",
      "|          FDF41|      12.15|         Low Fat|    0.131383762|        Frozen Foods| 246.046|           OUT049|                     1999|     Medium|              Tier 1|Supermarket Type1|          1231.73|          12.15|\n",
      "|          FDB56|       8.75|         Regular|     0.07461309|Fruits and Vegeta...|187.4556|           OUT035|                     2004|      Small|              Tier 2|Supermarket Type1|         3755.112|           8.75|\n",
      "|          NCP18|       NULL|         Low Fat|    0.028459761|           Household|149.9708|           OUT027|                     1985|     Medium|              Tier 3|Supermarket Type3|        4363.6532|           -1.0|\n",
      "|          FDB56|       8.75|         Regular|    0.074627201|Fruits and Vegeta...|187.8556|           OUT046|                     1997|      Small|              Tier 1|Supermarket Type1|        1314.2892|           8.75|\n",
      "|          FDT28|       13.3|         Low Fat|    0.063695084|        Frozen Foods|151.0708|           OUT045|                     2002| es un NULL|              Tier 2|Supermarket Type1|        1805.6496|           13.3|\n",
      "|          FDD10|       NULL|         Regular|    0.045797829|         Snack Foods|178.5344|           OUT027|                     1985|     Medium|              Tier 3|Supermarket Type3|        2854.9504|           -1.0|\n",
      "|          FDW57|       8.31|         Regular|    0.115857223|         Snack Foods|179.1028|           OUT049|                     1999|     Medium|              Tier 1|Supermarket Type1|        3896.2616|           8.31|\n",
      "|          DRB48|      16.75|         Regular|    0.024832806|         Soft Drinks| 38.7822|           OUT013|                     1987|       High|              Tier 3|Supermarket Type1|         667.7974|          16.75|\n",
      "|          FDP09|      19.75|         Low Fat|    0.034027909|         Snack Foods|212.0902|           OUT018|                     2009|     Medium|              Tier 3|Supermarket Type2|         3185.853|          19.75|\n",
      "|          FDH14|       17.1|         Regular|      0.0467696|              Canned|141.1838|           OUT013|                     1987|       High|              Tier 3|Supermarket Type1|        2247.7408|           17.1|\n",
      "|          FDA47|       10.5|         Regular|    0.116576702|        Baking Goods| 163.121|           OUT013|                     1987|       High|              Tier 3|Supermarket Type1|         1794.331|           10.5|\n",
      "|          FDG12|      6.635|         Regular|            0.0|        Baking Goods|121.3098|           OUT045|                     2002| es un NULL|              Tier 2|Supermarket Type1|        2530.7058|          6.635|\n",
      "|          DRE60|       NULL|         low fat|    0.278974075|         Soft Drinks| 225.372|           OUT019|                     1985|      Small|              Tier 1|    Grocery Store|          679.116|           -1.0|\n",
      "|          DRK49|      14.15|         Low Fat|    0.035913805|         Soft Drinks| 41.4138|           OUT013|                     1987|       High|              Tier 3|Supermarket Type1|          812.276|          14.15|\n",
      "|          FDD03|       13.3|         Low Fat|    0.079806266|               Dairy|  232.53|           OUT046|                     1997|      Small|              Tier 1|Supermarket Type1|           699.09|           13.3|\n",
      "|          FDS52|       8.89|         low fat|    0.005505481|        Frozen Foods|102.4016|           OUT017|                     2007| es un NULL|              Tier 2|Supermarket Type1|        2732.4432|           8.89|\n",
      "|          FDW39|       NULL|         Regular|    0.064625342|                Meat| 176.937|           OUT019|                     1985|      Small|              Tier 1|    Grocery Store|          176.437|           -1.0|\n",
      "|          FDX34|       NULL|         Low Fat|    0.071636937|         Snack Foods|121.7098|           OUT027|                     1985|     Medium|              Tier 3|Supermarket Type3|        4097.3332|           -1.0|\n",
      "|          FDV11|        9.1|         Regular|            0.0|              Breads|173.2054|           OUT045|                     2002| es un NULL|              Tier 2|Supermarket Type1|        3151.8972|            9.1|\n",
      "|          FDD17|        7.5|         Low Fat|    0.032677678|        Frozen Foods|239.0906|           OUT049|                     1999|     Medium|              Tier 1|Supermarket Type1|         5942.265|            7.5|\n",
      "|          FDZ16|      16.85|         Regular|    0.160760054|        Frozen Foods|192.4478|           OUT017|                     2007| es un NULL|              Tier 2|Supermarket Type1|         4843.695|          16.85|\n",
      "|          FDZ46|      7.485|         Low Fat|     0.06911065|         Snack Foods|109.0228|           OUT035|                     2004|      Small|              Tier 2|Supermarket Type1|        2542.0244|          7.485|\n",
      "|          DRA12|       11.6|         Low Fat|    0.041177505|         Soft Drinks|140.3154|           OUT017|                     2007| es un NULL|              Tier 2|Supermarket Type1|        2552.6772|           11.6|\n",
      "|          FDY58|      11.65|         Low Fat|    0.040081193|         Snack Foods|227.0694|           OUT018|                     2009|     Medium|              Tier 3|Supermarket Type2|         1141.847|          11.65|\n",
      "|          NCF19|       13.0|         Low Fat|    0.035307322|           Household| 47.5034|           OUT017|                     2007| es un NULL|              Tier 2|Supermarket Type1|         680.4476|           13.0|\n",
      "|          DRJ13|      12.65|              LF|    0.063017847|         Soft Drinks|159.0578|           OUT045|                     2002| es un NULL|              Tier 2|Supermarket Type1|        2085.9514|          12.65|\n",
      "|          FDB14|      20.25|         Regular|    0.171938781|              Canned|  92.512|           OUT010|                     1998| es un NULL|              Tier 3|    Grocery Store|          186.424|          20.25|\n",
      "|          FDJ38|        8.6|         Regular|    0.040197932|              Canned| 190.153|           OUT035|                     2004|      Small|              Tier 2|Supermarket Type1|         3036.048|            8.6|\n",
      "|          FDW11|       12.6|         Low Fat|    0.049058014|              Breads| 62.7194|           OUT017|                     2007| es un NULL|              Tier 2|Supermarket Type1|         866.8716|           12.6|\n",
      "|          FDL40|       17.7|         Low Fat|     0.01161096|        Frozen Foods|  95.041|           OUT035|                     2004|      Small|              Tier 2|Supermarket Type1|          868.869|           17.7|\n",
      "|          DRI49|      14.15|         Low Fat|    0.183507295|         Soft Drinks| 82.4276|           OUT046|                     1997|      Small|              Tier 1|Supermarket Type1|        1137.1864|          14.15|\n",
      "|          FDV38|      19.25|         Low Fat|    0.102349519|               Dairy| 52.7956|           OUT017|                     2007| es un NULL|              Tier 2|Supermarket Type1|         928.1252|          19.25|\n",
      "|          DRG23|       8.88|         Low Fat|    0.086708987|         Hard Drinks|151.7682|           OUT013|                     1987|       High|              Tier 3|Supermarket Type1|          762.341|           8.88|\n",
      "|          NCP30|       20.5|         Low Fat|    0.032835147|           Household| 40.2822|           OUT045|                     2002| es un NULL|              Tier 2|Supermarket Type1|         707.0796|           20.5|\n",
      "|          FDY25|       NULL|         Low Fat|    0.033809913|              Canned|180.5976|           OUT027|                     1985|     Medium|              Tier 3|Supermarket Type3|        7968.2944|           -1.0|\n",
      "|          NCH54|       13.5|         Low Fat|     0.07266912|           Household| 160.292|           OUT046|                     1997|      Small|              Tier 1|Supermarket Type1|         1438.128|           13.5|\n",
      "|          NCR53|       NULL|         Low Fat|    0.144338493|  Health and Hygiene|224.4404|           OUT027|                     1985|     Medium|              Tier 3|Supermarket Type3|        6976.2524|           -1.0|\n",
      "|          FDS52|       8.89|         Low Fat|    0.009163216|        Frozen Foods|101.7016|           OUT010|                     1998| es un NULL|              Tier 3|    Grocery Store|         101.2016|           8.89|\n",
      "|          FDG02|      7.855|         Low Fat|    0.011307038|              Canned|188.5188|           OUT018|                     2009|     Medium|              Tier 3|Supermarket Type2|          952.094|          7.855|\n",
      "|          NCO26|      7.235|         Low Fat|    0.076855628|           Household|116.0492|           OUT046|                     1997|      Small|              Tier 1|Supermarket Type1|        1969.4364|          7.235|\n",
      "|          FDH35|       NULL|         Low Fat|    0.059956876|       Starchy Foods|165.4526|           OUT027|                     1985|     Medium|              Tier 3|Supermarket Type3|        5262.4832|           -1.0|\n",
      "|          FDB51|       6.92|         Low Fat|    0.038532062|               Dairy| 60.5852|           OUT045|                     2002| es un NULL|              Tier 2|Supermarket Type1|        1314.2892|           6.92|\n",
      "|          FDX44|        9.3|         Low Fat|    0.043209581|Fruits and Vegeta...| 90.8172|           OUT017|                     2007| es un NULL|              Tier 2|Supermarket Type1|         535.3032|            9.3|\n",
      "|          NCN07|       18.5|         Low Fat|    0.056816465|              Others|132.1284|           OUT010|                     1998| es un NULL|              Tier 3|    Grocery Store|         263.6568|           18.5|\n",
      "|          NCC31|       8.02|         Low Fat|    0.019866705|           Household|154.5972|           OUT035|                     2004|      Small|              Tier 2|Supermarket Type1|        1402.1748|           8.02|\n",
      "|          NCX54|      9.195|         Low Fat|    0.048331717|           Household|105.1622|           OUT017|                     2007| es un NULL|              Tier 2|Supermarket Type1|        1693.7952|          9.195|\n",
      "|          NCO55|       12.8|         Low Fat|    0.091221855|              Others|105.5938|           OUT045|                     2002| es un NULL|              Tier 2|Supermarket Type1|         2143.876|           12.8|\n",
      "|          NCC30|       16.6|         Low Fat|    0.027622076|           Household|177.6344|           OUT049|                     1999|     Medium|              Tier 1|Supermarket Type1|         2676.516|           16.6|\n",
      "|          FDI16|       14.0|         Regular|            0.0|        Frozen Foods|  53.064|           OUT035|                     2004|      Small|              Tier 2|Supermarket Type1|          905.488|           14.0|\n",
      "|          FDP16|       18.6|         Low Fat|    0.039355947|        Frozen Foods|246.3802|           OUT049|                     1999|     Medium|              Tier 1|Supermarket Type1|         7370.406|           18.6|\n",
      "|          FDB11|       16.0|         Low Fat|    0.060836524|       Starchy Foods|226.8404|           OUT035|                     2004|      Small|              Tier 2|Supermarket Type1|        6301.1312|           16.0|\n",
      "|          NCB06|       17.6|         Low Fat|    0.082316506|  Health and Hygiene| 160.692|           OUT035|                     2004|      Small|              Tier 2|Supermarket Type1|          1597.92|           17.6|\n",
      "|          FDA45|      21.25|         Low Fat|    0.155350299|         Snack Foods| 178.237|           OUT035|                     2004|      Small|              Tier 2|Supermarket Type1|          529.311|          21.25|\n",
      "|          NCO26|      7.235|         Low Fat|    0.076841095|           Household|117.5492|           OUT035|                     2004|      Small|              Tier 2|Supermarket Type1|        1969.4364|          7.235|\n",
      "|          DRJ25|       14.6|         Low Fat|    0.151419185|         Soft Drinks| 50.3692|           OUT017|                     2007| es un NULL|              Tier 2|Supermarket Type1|        1034.6532|           14.6|\n",
      "|          FDR28|      13.85|             reg|    0.026001976|        Frozen Foods| 161.521|           OUT018|                     2009|     Medium|              Tier 3|Supermarket Type2|         1794.331|          13.85|\n",
      "|          FDI04|      13.65|         Regular|    0.073209447|        Frozen Foods|197.6426|           OUT018|                     2009|     Medium|              Tier 3|Supermarket Type2|        2768.3964|          13.65|\n",
      "|          DRK12|       NULL|         Low Fat|    0.041683481|         Soft Drinks|   31.29|           OUT027|                     1985|     Medium|              Tier 3|Supermarket Type3|           898.83|           -1.0|\n",
      "|          FDX20|      7.365|         Low Fat|    0.042560252|Fruits and Vegeta...| 226.172|           OUT046|                     1997|      Small|              Tier 1|Supermarket Type1|         3169.208|          7.365|\n",
      "|          NCI18|      18.35|         Low Fat|    0.014081156|           Household|223.5746|           OUT018|                     2009|     Medium|              Tier 3|Supermarket Type2|        3589.9936|          18.35|\n",
      "|          FDB36|      5.465|         Regular|            0.0|        Baking Goods|132.5626|           OUT018|                     2009|     Medium|              Tier 3|Supermarket Type2|         262.3252|          5.465|\n",
      "|          FDN13|       18.6|         Low Fat|    0.152918384|           Breakfast| 99.8358|           OUT017|                     2007| es un NULL|              Tier 2|Supermarket Type1|        1910.1802|           18.6|\n",
      "|          DRD24|      13.85|         Low Fat|    0.030969274|         Soft Drinks|140.9154|           OUT017|                     2007| es un NULL|              Tier 2|Supermarket Type1|        1701.7848|          13.85|\n",
      "|          FDQ28|       14.0|         Regular|    0.060376776|        Frozen Foods|154.5656|           OUT013|                     1987|       High|              Tier 3|Supermarket Type1|        2471.4496|           14.0|\n",
      "|          FDM22|       14.0|         Regular|     0.04192285|         Snack Foods|  54.764|           OUT013|                     1987|       High|              Tier 3|Supermarket Type1|           1331.6|           14.0|\n",
      "|          FDR07|       NULL|         Low Fat|    0.077367431|Fruits and Vegeta...| 97.0094|           OUT027|                     1985|     Medium|              Tier 3|Supermarket Type3|        1808.9786|           -1.0|\n",
      "|          FDV25|      5.905|         Low Fat|    0.045838211|              Canned|222.5456|           OUT018|                     2009|     Medium|              Tier 3|Supermarket Type2|         3315.684|          5.905|\n",
      "|          DRF49|       7.27|         Low Fat|    0.071077939|         Soft Drinks|114.2518|           OUT046|                     1997|      Small|              Tier 1|Supermarket Type1|        2618.5914|           7.27|\n",
      "|          FDW51|      6.155|         Regular|    0.094659871|                Meat| 214.556|           OUT046|                     1997|      Small|              Tier 1|Supermarket Type1|         2769.728|          6.155|\n",
      "|          DRL01|       19.5|         Regular|    0.077608838|         Soft Drinks|233.4958|           OUT017|                     2007| es un NULL|              Tier 2|Supermarket Type1|        5375.0034|           19.5|\n",
      "|          FDP25|       15.2|         Low Fat|    0.021327477|              Canned|216.8824|           OUT017|                     2007| es un NULL|              Tier 2|Supermarket Type1|        2838.9712|           15.2|\n",
      "|          FDL50|      12.15|         Regular|    0.042485444|              Canned|125.0046|           OUT018|                     2009|     Medium|              Tier 3|Supermarket Type2|        1743.0644|          12.15|\n",
      "|          NCB30|       NULL|         Low Fat|    0.025578526|           Household|198.8084|           OUT027|                     1985|     Medium|              Tier 3|Supermarket Type3|        5555.4352|           -1.0|\n",
      "|          FDW11|       12.6|         Low Fat|      0.0489808|              Breads| 61.9194|           OUT018|                     2009|     Medium|              Tier 3|Supermarket Type2|          619.194|           12.6|\n",
      "|          NCM43|       14.5|         Low Fat|    0.019471688|              Others| 164.821|           OUT035|                     2004|      Small|              Tier 2|Supermarket Type1|         2120.573|           14.5|\n",
      "|          FDK44|       16.6|         Low Fat|    0.122918852|Fruits and Vegeta...|173.0738|           OUT017|                     2007| es un NULL|              Tier 2|Supermarket Type1|        3823.0236|           16.6|\n",
      "|          FDM15|       11.8|         Regular|    0.057373797|                Meat|151.4366|           OUT013|                     1987|       High|              Tier 3|Supermarket Type1|        1360.2294|           11.8|\n",
      "|          FDS31|       13.1|         Regular|    0.044155597|Fruits and Vegeta...|178.8318|           OUT013|                     1987|       High|              Tier 3|Supermarket Type1|        3969.4996|           13.1|\n",
      "|          FDI32|       17.7|         Low Fat|    0.291865402|Fruits and Vegeta...|115.1834|           OUT010|                     1998| es un NULL|              Tier 3|    Grocery Store|         345.5502|           17.7|\n",
      "|          FDR47|      17.85|              LF|            0.0|              Breads|196.5794|           OUT010|                     1998| es un NULL|              Tier 3|    Grocery Store|         585.2382|          17.85|\n",
      "|          FDB35|       12.3|         Regular|    0.064750025|       Starchy Foods| 92.6804|           OUT045|                     2002| es un NULL|              Tier 2|Supermarket Type1|        1010.6844|           12.3|\n",
      "|          NCU05|       11.8|         Low Fat|    0.098312421|  Health and Hygiene| 81.4618|           OUT010|                     1998| es un NULL|              Tier 3|    Grocery Store|         161.1236|           11.8|\n",
      "|          DRY23|       NULL|         Regular|    0.191013663|         Soft Drinks| 42.1112|           OUT019|                     1985|      Small|              Tier 1|    Grocery Store|          42.6112|           -1.0|\n",
      "|          FDO24|       11.1|         Low Fat|    0.176573035|        Baking Goods|157.4604|           OUT045|                     2002| es un NULL|              Tier 2|Supermarket Type1|        3010.7476|           11.1|\n",
      "|          FDQ28|       NULL|         Regular|    0.060134441|        Frozen Foods|153.0656|           OUT027|                     1985|     Medium|              Tier 3|Supermarket Type3|        6024.1584|           -1.0|\n",
      "|          FDV39|       11.3|         Low Fat|    0.007294652|                Meat|198.1426|           OUT045|                     2002| es un NULL|              Tier 2|Supermarket Type1|          988.713|           11.3|\n",
      "|          NCO17|       NULL|         Low Fat|    0.128478462|  Health and Hygiene| 117.944|           OUT019|                     1985|      Small|              Tier 1|    Grocery Store|          239.688|           -1.0|\n",
      "|          FDU50|       5.75|         Regular|    0.075107656|               Dairy|112.8176|           OUT013|                     1987|       High|              Tier 3|Supermarket Type1|        1374.2112|           5.75|\n",
      "|          FDT12|       NULL|         Regular|    0.049381406|        Baking Goods|226.8062|           OUT027|                     1985|     Medium|              Tier 3|Supermarket Type3|        4739.8302|           -1.0|\n",
      "|          FDK58|      11.35|         Regular|    0.045165796|         Snack Foods|100.0016|           OUT018|                     2009|     Medium|              Tier 3|Supermarket Type2|         1012.016|          11.35|\n",
      "|          FDO08|       NULL|         Regular|     0.09415375|Fruits and Vegeta...|165.7526|           OUT019|                     1985|      Small|              Tier 1|    Grocery Store|         657.8104|           -1.0|\n",
      "|          NCW29|       14.0|         Low Fat|    0.028907832|  Health and Hygiene| 130.431|           OUT049|                     1999|     Medium|              Tier 1|Supermarket Type1|          778.986|           14.0|\n",
      "|          FDE04|      19.75|         Regular|    0.018059621|        Frozen Foods| 179.766|           OUT045|                     2002| es un NULL|              Tier 2|Supermarket Type1|         2336.958|          19.75|\n",
      "|          NCB19|      6.525|         Low Fat|    0.090436094|           Household| 85.0882|           OUT049|                     1999|     Medium|              Tier 1|Supermarket Type1|        2233.0932|          6.525|\n",
      "|          FDV15|       10.3|         Low Fat|    0.146399712|                Meat|103.9648|           OUT049|                     1999|     Medium|              Tier 1|Supermarket Type1|        1661.8368|           10.3|\n",
      "|          FDL58|       5.78|         Regular|    0.074264356|         Snack Foods|264.7568|           OUT049|                     1999|     Medium|              Tier 1|Supermarket Type1|        4745.8224|           5.78|\n",
      "|          FDA08|      11.85|         Regular|    0.050186726|Fruits and Vegeta...|164.1526|           OUT045|                     2002| es un NULL|              Tier 2|Supermarket Type1|        3124.5994|          11.85|\n",
      "|          FDT43|      16.35|         Low Fat|    0.020631654|Fruits and Vegeta...| 50.1324|           OUT018|                     2009|     Medium|              Tier 3|Supermarket Type2|         467.3916|          16.35|\n",
      "|          NCX06|       NULL|         Low Fat|     0.01561108|           Household|182.5976|           OUT027|                     1985|     Medium|              Tier 3|Supermarket Type3|        5070.7328|           -1.0|\n",
      "|          FDT20|       10.5|         Low Fat|    0.041395445|Fruits and Vegeta...| 37.6164|           OUT046|                     1997|      Small|              Tier 1|Supermarket Type1|         540.6296|           10.5|\n",
      "|          FDB41|       19.0|         Regular|    0.097313129|        Frozen Foods| 48.0718|           OUT046|                     1997|      Small|              Tier 1|Supermarket Type1|         992.7078|           19.0|\n",
      "|          NCN55|       14.6|         Low Fat|    0.059582996|              Others|238.8538|           OUT049|                     1999|     Medium|              Tier 1|Supermarket Type1|         6008.845|           14.6|\n",
      "|          FDE40|       NULL|         Regular|    0.098663652|               Dairy| 62.9194|           OUT027|                     1985|     Medium|              Tier 3|Supermarket Type3|        2105.2596|           -1.0|\n",
      "|          FDX49|       NULL|             reg|    0.101338651|              Canned|  232.63|           OUT027|                     1985|     Medium|              Tier 3|Supermarket Type3|          5359.69|           -1.0|\n",
      "+---------------+-----------+----------------+---------------+--------------------+--------+-----------------+-------------------------+-----------+--------------------+-----------------+-----------------+---------------+\n",
      "only showing top 200 rows\n"
     ]
    }
   ],
   "source": [
    "#\n",
    "_csvDF002 \\\n",
    "\t.withColumn('New_Item_Weight', ifnull(col('Item_Weight'), lit(-1))) \\\n",
    "\t.fillna('es un NULL', subset=['Outlet_Size']) \\\n",
    "\t.show(200)\n",
    "#"
   ]
  },
  {
   "cell_type": "markdown",
   "id": "149e0f62",
   "metadata": {},
   "source": [
    "### split and indexing (ALL indexes start in ZERO) "
   ]
  },
  {
   "cell_type": "code",
   "execution_count": null,
   "id": "ec8b3283",
   "metadata": {},
   "outputs": [
    {
     "name": "stdout",
     "output_type": "stream",
     "text": [
      "+-----------------+--------------------+------+-----------+------+\n",
      "|      Outlet_Type|   SPLIT_Outlet_Type|Index1|     Index0|Index2|\n",
      "+-----------------+--------------------+------+-----------+------+\n",
      "|Supermarket Type1|[Supermarket, Type1]| Type1|Supermarket|  NULL|\n",
      "|Supermarket Type2|[Supermarket, Type2]| Type2|Supermarket|  NULL|\n",
      "|Supermarket Type1|[Supermarket, Type1]| Type1|Supermarket|  NULL|\n",
      "|    Grocery Store|    [Grocery, Store]| Store|    Grocery|  NULL|\n",
      "|Supermarket Type1|[Supermarket, Type1]| Type1|Supermarket|  NULL|\n",
      "|Supermarket Type2|[Supermarket, Type2]| Type2|Supermarket|  NULL|\n",
      "|Supermarket Type1|[Supermarket, Type1]| Type1|Supermarket|  NULL|\n",
      "|Supermarket Type3|[Supermarket, Type3]| Type3|Supermarket|  NULL|\n",
      "|Supermarket Type1|[Supermarket, Type1]| Type1|Supermarket|  NULL|\n",
      "|Supermarket Type1|[Supermarket, Type1]| Type1|Supermarket|  NULL|\n",
      "+-----------------+--------------------+------+-----------+------+\n",
      "only showing top 10 rows\n",
      "\n"
     ]
    }
   ],
   "source": [
    "#\n",
    "_csvDF002 \\\n",
    "\t.withColumn('SPLIT_Outlet_Type', split(col('Outlet_Type'), ' ')) \\\n",
    "\t.withColumn('Index1', (split(col('Outlet_Type'), ' '))[1]) \\\n",
    "\t.withColumn('Index0', (col('SPLIT_Outlet_Type'))[0]) \\\n",
    "\t.withColumn('Index2', (col('SPLIT_Outlet_Type'))[2]) \\\n",
    "\t.select(\tcol('Outlet_Type') \\\n",
    "\t\t\t,\tcol('SPLIT_Outlet_Type') \\\n",
    "\t\t\t,\tcol('Index1') \\\n",
    "\t\t\t,\tcol('Index0') \\\n",
    "\t\t\t,\tcol('Index2')) \\\n",
    "\t.show(10)\n",
    "#"
   ]
  },
  {
   "cell_type": "markdown",
   "id": "12befc08",
   "metadata": {},
   "source": [
    "### explode *(transform list items into rows)*"
   ]
  },
  {
   "cell_type": "code",
   "execution_count": null,
   "id": "0363a1ab",
   "metadata": {},
   "outputs": [
    {
     "name": "stdout",
     "output_type": "stream",
     "text": [
      "+-----------------+--------------------+-----------+\n",
      "|      Outlet_Type|               SPLIT|  EXPLOSIÓN|\n",
      "+-----------------+--------------------+-----------+\n",
      "|Supermarket Type1|[Supermarket, Type1]|Supermarket|\n",
      "|Supermarket Type1|[Supermarket, Type1]|      Type1|\n",
      "|Supermarket Type2|[Supermarket, Type2]|Supermarket|\n",
      "|Supermarket Type2|[Supermarket, Type2]|      Type2|\n",
      "|Supermarket Type1|[Supermarket, Type1]|Supermarket|\n",
      "|Supermarket Type1|[Supermarket, Type1]|      Type1|\n",
      "|    Grocery Store|    [Grocery, Store]|    Grocery|\n",
      "|    Grocery Store|    [Grocery, Store]|      Store|\n",
      "|Supermarket Type1|[Supermarket, Type1]|Supermarket|\n",
      "|Supermarket Type1|[Supermarket, Type1]|      Type1|\n",
      "+-----------------+--------------------+-----------+\n",
      "only showing top 10 rows\n",
      "\n"
     ]
    }
   ],
   "source": [
    "#\n",
    "_csvDF002 \\\n",
    "\t.withColumn('SPLIT', split(col('Outlet_Type'), ' ')) \\\n",
    "\t.withColumn('EXPLOSIÓN', explode(col('SPLIT'))) \\\n",
    "\t.select(\tcol('Outlet_Type') \\\n",
    "\t\t\t,\tcol('SPLIT') \\\n",
    "\t\t\t,\tcol('EXPLOSIÓN')) \\\n",
    "\t.show(10)\n",
    "#"
   ]
  },
  {
   "cell_type": "markdown",
   "id": "9b5b6231",
   "metadata": {},
   "source": [
    "### array_contains"
   ]
  },
  {
   "cell_type": "code",
   "execution_count": null,
   "id": "8fb6ef29",
   "metadata": {},
   "outputs": [
    {
     "name": "stdout",
     "output_type": "stream",
     "text": [
      "+-----------------+--------------------+---------+---------+\n",
      "|      Outlet_Type|               SPLIT|   FILTRO|CONTIENE?|\n",
      "+-----------------+--------------------+---------+---------+\n",
      "|Supermarket Type1|[Supermarket, Type1]|       []|     true|\n",
      "|Supermarket Type2|[Supermarket, Type2]|       []|    false|\n",
      "|Supermarket Type1|[Supermarket, Type1]|       []|     true|\n",
      "|    Grocery Store|    [Grocery, Store]|[Grocery]|    false|\n",
      "|Supermarket Type1|[Supermarket, Type1]|       []|     true|\n",
      "|Supermarket Type2|[Supermarket, Type2]|       []|    false|\n",
      "|Supermarket Type1|[Supermarket, Type1]|       []|     true|\n",
      "|Supermarket Type3|[Supermarket, Type3]|       []|    false|\n",
      "|Supermarket Type1|[Supermarket, Type1]|       []|     true|\n",
      "|Supermarket Type1|[Supermarket, Type1]|       []|     true|\n",
      "+-----------------+--------------------+---------+---------+\n",
      "only showing top 10 rows\n",
      "\n"
     ]
    }
   ],
   "source": [
    "#\n",
    "_csvDF002 \\\n",
    "\t.withColumn('SPLIT', split(col('Outlet_Type'), ' ')) \\\n",
    "\t.withColumn('CONTIENE?', array_contains(col('SPLIT'), 'Type1')) \\\n",
    "\t.withColumn('FILTRO', filter(col('SPLIT'), lambda x: x == 'Grocery')) \\\n",
    "\t.select(\tcol('Outlet_Type') \\\n",
    "\t\t\t,\tcol('SPLIT') \\\n",
    "\t\t\t,\tcol('FILTRO') \\\n",
    "\t\t\t,\tcol('CONTIENE?')) \\\n",
    "\t.show(10)\n",
    "#"
   ]
  },
  {
   "cell_type": "markdown",
   "id": "302b3a7c",
   "metadata": {},
   "source": [
    "### group by"
   ]
  },
  {
   "cell_type": "code",
   "execution_count": null,
   "id": "5e71ba46",
   "metadata": {},
   "outputs": [
    {
     "name": "stdout",
     "output_type": "stream",
     "text": [
      "+---+----------+----------+----------+--------+\n",
      "| id|      name|     color|      date|fraction|\n",
      "+---+----------+----------+----------+--------+\n",
      "|  1|      Gato|      Café|2025-06-01|     1.2|\n",
      "|  2|     Perro|     Negro|2025-06-02|     1.5|\n",
      "|  5|   Ardilla|      Café|2025-06-02|     3.0|\n",
      "|  6|       Pez|Anaranjado|2025-06-01|    4.25|\n",
      "|  7|Hipopótamo|      Gris|2025-06-01|     8.7|\n",
      "|  8|    Jirafa|  Amarillo|2025-06-03|     9.2|\n",
      "|  9|      León|  Amarillo|2025-06-03|    10.2|\n",
      "| 10|  Elefante|      Gris|2025-06-03|   0.005|\n",
      "| 13|      Rata|      Gris|2025-06-03|    -2.8|\n",
      "| 14|   Caballo|      Café|2025-06-01|    -2.2|\n",
      "+---+----------+----------+----------+--------+\n",
      "\n",
      "+----------+----------+----------------+-------------------+------+------+--------+\n",
      "|color     |date      |nombres         |sumatoria          |min_id|max_id|count_id|\n",
      "+----------+----------+----------------+-------------------+------+------+--------+\n",
      "|Anaranjado|2025-06-01|[Pez]           |4.25               |6     |6     |1       |\n",
      "|Gris      |2025-06-01|[Hipopótamo]    |8.7                |7     |7     |1       |\n",
      "|Gris      |2025-06-03|[Elefante, Rata]|-2.795             |10    |13    |2       |\n",
      "|Café      |2025-06-01|[Gato, Caballo] |-1.0000000000000002|1     |14    |2       |\n",
      "|Amarillo  |2025-06-03|[Jirafa, León]  |19.4               |8     |9     |2       |\n",
      "|Negro     |2025-06-02|[Perro]         |1.5                |2     |2     |1       |\n",
      "|Café      |2025-06-02|[Ardilla]       |3.0                |5     |5     |1       |\n",
      "+----------+----------+----------------+-------------------+------+------+--------+\n",
      "\n"
     ]
    }
   ],
   "source": [
    "#\n",
    "_formatAsSring = '%Y-%m-%d'\n",
    "#\n",
    "_tableFour = [\n",
    "\t\t\t\t\t(1,\t\t'Gato',\t\t\t'Café',\t\t\tdatetime.strptime('2025-06-01', _formatAsSring),\t1.2)\n",
    "\t\t\t\t,\t(2,\t\t'Perro',\t\t'Negro',\t\tdatetime.strptime('2025-06-02', _formatAsSring),\t1.5)\n",
    "\t\t\t\t,\t(5,\t\t'Ardilla',\t\t'Café',\t\t\tdatetime.strptime('2025-06-02', _formatAsSring),\t3.0)\n",
    "\t\t\t\t,\t(6,\t\t'Pez',\t\t\t'Anaranjado',\tdatetime.strptime('2025-06-01', _formatAsSring),\t4.25)\n",
    "\t\t\t\t,\t(7,\t\t'Hipopótamo',\t'Gris',\t\t\tdatetime.strptime('2025-06-01', _formatAsSring),\t8.7)\n",
    "\t\t\t\t,\t(8,\t\t'Jirafa',\t\t'Amarillo',\t\tdatetime.strptime('2025-06-03', _formatAsSring),\t9.2)\n",
    "\t\t\t\t,\t(9,\t\t'León',\t\t\t'Amarillo',\t\tdatetime.strptime('2025-06-03', _formatAsSring),\t10.2)\n",
    "\t\t\t\t,\t(10,\t'Elefante',\t\t'Gris',\t\t\tdatetime.strptime('2025-06-03', _formatAsSring),\t0.005)\n",
    "\t\t\t\t,\t(13,\t'Rata',\t\t\t'Gris',\t\t\tdatetime.strptime('2025-06-03', _formatAsSring),\t-2.8)\n",
    "\t\t\t\t,\t(14,\t'Caballo',\t\t'Café',\t\t\tdatetime.strptime('2025-06-01', _formatAsSring),\t-2.2)\n",
    "\t\t\t]\n",
    "_schemaTableFour = StructType([\t\\\n",
    "\t\t\t\t\t\t\t\tStructField('id',\t\tIntegerType(),\tTrue)\t\\\n",
    "\t\t\t\t\t\t\t,\tStructField('name',\t\tStringType(),\tTrue)\t\\\n",
    "\t\t\t\t\t\t\t,\tStructField('color',\tStringType(),\tTrue)\t\\\n",
    "\t\t\t\t\t\t\t,\tStructField('date',\t\tDateType(),\t\tTrue)\t\\\n",
    "\t\t\t\t\t\t\t,\tStructField('fraction',\tDoubleType(),\tTrue)\t\\\n",
    "\t\t\t\t\t\t\t])\n",
    "_dfTableFour = _spark.createDataFrame(_tableFour, _schemaTableFour)\n",
    "#\n",
    "_dfTableFour.show()\n",
    "#\n",
    "_dfTableFour \\\n",
    "\t\t.groupBy(\n",
    "\t\t\t\t\t\tcol('color')\n",
    "\t\t\t\t\t,\tcol('date')\n",
    "\t\t\t\t) \\\n",
    "\t\t.agg(\n",
    "\t\t\t\t\tcollect_list(col('name')).alias('nombres') \\\n",
    "\t\t\t\t,\tsum(col('fraction')).alias('sumatoria') \\\n",
    "\t\t\t\t,\tmin(col('id')).alias('min_id') \\\n",
    "\t\t\t\t,\tmax(col('id')).alias('max_id') \\\n",
    "\t\t\t\t,\tcount(col('id')).alias('count_id') \\\n",
    "\t\t\t) \\\n",
    "\t\t.show(truncate=False)\n",
    "#"
   ]
  },
  {
   "cell_type": "markdown",
   "id": "b0c57018",
   "metadata": {},
   "source": [
    "### collect_list"
   ]
  },
  {
   "cell_type": "code",
   "execution_count": 94,
   "id": "94f13b3e",
   "metadata": {},
   "outputs": [
    {
     "name": "stdout",
     "output_type": "stream",
     "text": [
      "+---+----------+----------+----------+--------+\n",
      "|id |name      |color     |date      |fraction|\n",
      "+---+----------+----------+----------+--------+\n",
      "|1  |Gato      |Café      |2025-06-01|1.2     |\n",
      "|2  |Perro     |Negro     |2025-06-02|1.5     |\n",
      "|5  |Ardilla   |Café      |2025-06-02|3.0     |\n",
      "|6  |Pez       |Anaranjado|2025-06-01|4.25    |\n",
      "|7  |Hipopótamo|Gris      |2025-06-01|8.7     |\n",
      "|8  |Jirafa    |Amarillo  |2025-06-03|9.2     |\n",
      "|9  |León      |Amarillo  |2025-06-03|10.2    |\n",
      "|10 |Elefante  |Gris      |2025-06-03|0.005   |\n",
      "|13 |Rata      |Gris      |2025-06-03|-2.8    |\n",
      "|14 |Caballo   |Café      |2025-06-01|-2.2    |\n",
      "+---+----------+----------+----------+--------+\n",
      "\n",
      "+----------+----------------------------+\n",
      "|color     |nombres_en_lista            |\n",
      "+----------+----------------------------+\n",
      "|Negro     |[Perro]                     |\n",
      "|Café      |[Gato, Ardilla, Caballo]    |\n",
      "|Anaranjado|[Pez]                       |\n",
      "|Amarillo  |[Jirafa, León]              |\n",
      "|Gris      |[Hipopótamo, Elefante, Rata]|\n",
      "+----------+----------------------------+\n",
      "\n"
     ]
    }
   ],
   "source": [
    "#\n",
    "_formatAsSring = '%Y-%m-%d'\n",
    "#\n",
    "_tableFour = [\n",
    "\t\t\t\t\t(1,\t\t'Gato',\t\t\t'Café',\t\t\tdatetime.strptime('2025-06-01', _formatAsSring),\t1.2)\n",
    "\t\t\t\t,\t(2,\t\t'Perro',\t\t'Negro',\t\tdatetime.strptime('2025-06-02', _formatAsSring),\t1.5)\n",
    "\t\t\t\t,\t(5,\t\t'Ardilla',\t\t'Café',\t\t\tdatetime.strptime('2025-06-02', _formatAsSring),\t3.0)\n",
    "\t\t\t\t,\t(6,\t\t'Pez',\t\t\t'Anaranjado',\tdatetime.strptime('2025-06-01', _formatAsSring),\t4.25)\n",
    "\t\t\t\t,\t(7,\t\t'Hipopótamo',\t'Gris',\t\t\tdatetime.strptime('2025-06-01', _formatAsSring),\t8.7)\n",
    "\t\t\t\t,\t(8,\t\t'Jirafa',\t\t'Amarillo',\t\tdatetime.strptime('2025-06-03', _formatAsSring),\t9.2)\n",
    "\t\t\t\t,\t(9,\t\t'León',\t\t\t'Amarillo',\t\tdatetime.strptime('2025-06-03', _formatAsSring),\t10.2)\n",
    "\t\t\t\t,\t(10,\t'Elefante',\t\t'Gris',\t\t\tdatetime.strptime('2025-06-03', _formatAsSring),\t0.005)\n",
    "\t\t\t\t,\t(13,\t'Rata',\t\t\t'Gris',\t\t\tdatetime.strptime('2025-06-03', _formatAsSring),\t-2.8)\n",
    "\t\t\t\t,\t(14,\t'Caballo',\t\t'Café',\t\t\tdatetime.strptime('2025-06-01', _formatAsSring),\t-2.2)\n",
    "\t\t\t]\n",
    "_schemaTableFour = StructType([\t\\\n",
    "\t\t\t\t\t\t\t\tStructField('id',\t\tIntegerType(),\tTrue)\t\\\n",
    "\t\t\t\t\t\t\t,\tStructField('name',\t\tStringType(),\tTrue)\t\\\n",
    "\t\t\t\t\t\t\t,\tStructField('color',\tStringType(),\tTrue)\t\\\n",
    "\t\t\t\t\t\t\t,\tStructField('date',\t\tDateType(),\t\tTrue)\t\\\n",
    "\t\t\t\t\t\t\t,\tStructField('fraction',\tDoubleType(),\tTrue)\t\\\n",
    "\t\t\t\t\t\t\t])\n",
    "_dfTableFour = _spark.createDataFrame(_tableFour, _schemaTableFour)\n",
    "#\n",
    "_dfTableFour.show(truncate=False)\n",
    "#\n",
    "_dfTableFour \\\n",
    "\t\t.groupBy(\n",
    "\t\t\t\t\tcol('color')\n",
    "\t\t\t\t) \\\n",
    "\t\t.agg(\n",
    "\t\t\t\tcollect_list(col('name')).alias('nombres_en_lista') \\\n",
    "\t\t\t) \\\n",
    "\t\t.show(truncate=False)\n",
    "#\n"
   ]
  },
  {
   "cell_type": "markdown",
   "id": "d72823e5",
   "metadata": {},
   "source": [
    "### PIVOT"
   ]
  },
  {
   "cell_type": "code",
   "execution_count": 95,
   "id": "be692887",
   "metadata": {},
   "outputs": [
    {
     "name": "stdout",
     "output_type": "stream",
     "text": [
      "+---+----------+----------+----------+--------+\n",
      "| id|      name|     color|      date|fraction|\n",
      "+---+----------+----------+----------+--------+\n",
      "|  1|      Gato|      Café|2025-06-01|     1.2|\n",
      "|  2|     Perro|     Negro|2025-06-02|     1.5|\n",
      "|  5|   Ardilla|      Café|2025-06-02|     3.0|\n",
      "|  6|       Pez|Anaranjado|2025-06-01|    4.25|\n",
      "|  7|Hipopótamo|      Gris|2025-06-01|     8.7|\n",
      "|  8|    Jirafa|  Amarillo|2025-06-03|     9.2|\n",
      "|  9|      León|  Amarillo|2025-06-03|    10.2|\n",
      "| 10|  Elefante|      Gris|2025-06-03|   0.005|\n",
      "| 13|      Rata|      Gris|2025-06-03|    -2.8|\n",
      "| 14|   Caballo|      Café|2025-06-01|    -2.2|\n",
      "+---+----------+----------+----------+--------+\n",
      "\n",
      "+----------+--------------+----------------+----------------+------------------+----------+------------+----------+------------+-----------+-------------+\n",
      "|name      |Amarillo_Total|Amarillo_FirstId|Anaranjado_Total|Anaranjado_FirstId|Café_Total|Café_FirstId|Gris_Total|Gris_FirstId|Negro_Total|Negro_FirstId|\n",
      "+----------+--------------+----------------+----------------+------------------+----------+------------+----------+------------+-----------+-------------+\n",
      "|Caballo   |NULL          |NULL            |NULL            |NULL              |1         |14          |NULL      |NULL        |NULL       |NULL         |\n",
      "|Perro     |NULL          |NULL            |NULL            |NULL              |NULL      |NULL        |NULL      |NULL        |1          |2            |\n",
      "|Pez       |NULL          |NULL            |1               |6                 |NULL      |NULL        |NULL      |NULL        |NULL       |NULL         |\n",
      "|Jirafa    |1             |8               |NULL            |NULL              |NULL      |NULL        |NULL      |NULL        |NULL       |NULL         |\n",
      "|Hipopótamo|NULL          |NULL            |NULL            |NULL              |NULL      |NULL        |1         |7           |NULL       |NULL         |\n",
      "|Elefante  |NULL          |NULL            |NULL            |NULL              |NULL      |NULL        |1         |10          |NULL       |NULL         |\n",
      "|Gato      |NULL          |NULL            |NULL            |NULL              |2         |1           |NULL      |NULL        |NULL       |NULL         |\n",
      "|León      |1             |9               |NULL            |NULL              |NULL      |NULL        |NULL      |NULL        |NULL       |NULL         |\n",
      "|Rata      |NULL          |NULL            |NULL            |NULL              |NULL      |NULL        |1         |13          |NULL       |NULL         |\n",
      "|Ardilla   |NULL          |NULL            |NULL            |NULL              |2         |5           |NULL      |NULL        |NULL       |NULL         |\n",
      "+----------+--------------+----------------+----------------+------------------+----------+------------+----------+------------+-----------+-------------+\n",
      "\n"
     ]
    }
   ],
   "source": [
    "#\n",
    "_dfTableFour.show()\n",
    "#\n",
    "#define multiple new rows to add\n",
    "_new_animal_rows = \\\n",
    "\t_spark.createDataFrame( \\\n",
    "\t\t\t\t\t\t[\t(15,'Gato','Café',datetime.strptime('2025-06-03',_formatAsSring),10.0) \\\n",
    "\t\t\t\t\t\t,\t(16,'Ardilla','Café',datetime.strptime('2025-06-04',_formatAsSring),20.0)] \\\n",
    "\t\t\t\t\t,\t_schemaTableFour)\n",
    "#add new rows to DataFrame\n",
    "_dfTableFour = _dfTableFour.union(_new_animal_rows)\n",
    "#\n",
    "_dfTableFour \\\n",
    "\t\t.groupBy(\n",
    "\t\t\t\t\tcol('name')\n",
    "\t\t\t\t) \\\n",
    "\t\t.pivot( \\\n",
    "\t\t\t\t'color'\n",
    "\t\t\t\t) \\\n",
    "\t\t.agg(\t\tcount(col('id')).alias('Total')\n",
    "\t\t\t\t,\tmin(col('id')).alias('FirstId')\n",
    "\t\t\t) \\\n",
    "\t\t.show(truncate=False)\n",
    "#"
   ]
  },
  {
   "cell_type": "markdown",
   "id": "95828691",
   "metadata": {},
   "source": [
    "### when - otherwise"
   ]
  },
  {
   "cell_type": "code",
   "execution_count": 96,
   "id": "494ee1f1",
   "metadata": {},
   "outputs": [
    {
     "name": "stdout",
     "output_type": "stream",
     "text": [
      "+---+--------+----------+----------+-------------+---------+\n",
      "|id |fraction|name      |color     |Color-English|Negative?|\n",
      "+---+--------+----------+----------+-------------+---------+\n",
      "|1  |1.2     |Gato      |Café      |Brown        |NULL     |\n",
      "|2  |1.5     |Perro     |Negro     |NULL         |NULL     |\n",
      "|5  |3.0     |Ardilla   |Café      |Brown        |NULL     |\n",
      "|6  |4.25    |Pez       |Anaranjado|NULL         |NULL     |\n",
      "|7  |8.7     |Hipopótamo|Gris      |NULL         |NULL     |\n",
      "|8  |9.2     |Jirafa    |Amarillo  |Yellow       |NULL     |\n",
      "|9  |10.2    |León      |Amarillo  |Yellow       |NULL     |\n",
      "|10 |0.005   |Elefante  |Gris      |NULL         |NULL     |\n",
      "|13 |-2.8    |Rata      |Gris      |NULL         |true     |\n",
      "|14 |-2.2    |Caballo   |Café      |Brown        |true     |\n",
      "|15 |10.0    |Gato      |Café      |Brown        |NULL     |\n",
      "|16 |20.0    |Ardilla   |Café      |Brown        |NULL     |\n",
      "+---+--------+----------+----------+-------------+---------+\n",
      "\n"
     ]
    }
   ],
   "source": [
    "#\n",
    "_dfTableFour \\\n",
    "\t\t.withColumn(\t'Color-English'\n",
    "\t\t\t\t\t,\twhen(col('color')=='Café', 'Brown') \\\n",
    "\t\t\t\t\t\t.when(col('color')=='Amarillo','Yellow') \\\n",
    "\t\t\t\t\t\t.otherwise(None)) \\\n",
    "\t\t.withColumn(\t'Negative?'\n",
    "\t\t\t\t\t,\twhen(((col('color') == 'Gris') | (col('color') == 'Café')) & (col('fraction') <= 0.0), True) \\\n",
    "\t\t\t\t\t\t.otherwise(None).cast(BooleanType())) \\\n",
    "\t\t.select(\t\tcol('id')\n",
    "\t\t\t\t\t,\tcol('fraction') \\\n",
    "\t\t\t\t\t,\tcol('name')\n",
    "\t\t\t\t\t,\tcol('color')\n",
    "\t\t\t\t\t,\tcol('Color-English')\n",
    "\t\t\t\t\t,\tcol('Negative?')) \\\n",
    "\t\t.show(truncate=False)\n",
    "#"
   ]
  },
  {
   "cell_type": "markdown",
   "id": "79de48d8",
   "metadata": {},
   "source": [
    "### JOIN\n",
    "* inner join\n",
    "* left join\n",
    "* right join\n",
    "* full join\n",
    "* <font color='dark-pink'>anti join</font>"
   ]
  },
  {
   "cell_type": "code",
   "execution_count": 97,
   "id": "e72d32e8",
   "metadata": {},
   "outputs": [],
   "source": [
    "#\n",
    "_tableAnimals = [\n",
    "\t\t\t\t\t(1,\t\t'Gato',\t\t\t1,\t\t101)\n",
    "\t\t\t\t,\t(2,\t\t'Perro',\t\t2,\t\t102)\n",
    "\t\t\t\t,\t(3,\t\t'Ardilla',\t\t1,\t\t103)\n",
    "\t\t\t\t,\t(4,\t\t'Pez',\t\t\t3,\t\t104)\n",
    "\t\t\t\t,\t(5,\t\t'Hipopótamo',\t4,\t\t105)\n",
    "\t\t\t\t,\t(6,\t\t'Jirafa',\t\t5,\t\t106)\n",
    "\t\t\t\t,\t(7,\t\t'León',\t\t\t5,\t\t200)\n",
    "\t\t\t\t,\t(8,\t\t'Elefante',\t\t4,\t\t200)\n",
    "\t\t\t\t,\t(9,\t\t'Rata',\t\t\t4,\t\t-100)\n",
    "\t\t\t\t,\t(10,\t'Caballo',\t\t1,\t\t-100)\n",
    "\t\t\t\t,\t(11,\t'Guacamaya',\t500,\t100)\n",
    "\t\t\t\t,\t(12,\t'Perico',\t\t500,\t100)\n",
    "\t\t\t\t,\t(13,\t'Rata',\t\t\t500,\t50)\n",
    "\t\t\t\t,\t(14,\t'Rata',\t\t\t0,\t\t-100)\n",
    "\t\t\t]\n",
    "_schemaTableAnimals = StructType([\t\\\n",
    "\t\t\t\t\t\t\t\t\tStructField('id',\t\tIntegerType(),\tTrue)\t\\\n",
    "\t\t\t\t\t\t\t\t,\tStructField('name',\t\tStringType(),\tTrue)\t\\\n",
    "\t\t\t\t\t\t\t\t,\tStructField('colorId',\tStringType(),\tTrue)\t\\\n",
    "\t\t\t\t\t\t\t\t,\tStructField('fraccion',\tIntegerType(),\tTrue)\t\\\n",
    "\t\t\t\t\t\t\t\t])\n",
    "#\n",
    "_tableColors = [\n",
    "\t\t\t\t\t(1,\t'Café')\n",
    "\t\t\t\t,\t(2,\t'Negro')\n",
    "\t\t\t\t,\t(3,\t'Anaranjado')\n",
    "\t\t\t\t,\t(4,\t'Gris')\n",
    "\t\t\t\t,\t(5,\t'Amarillo')\n",
    "\t\t\t\t,   (6,\t'Morado')\n",
    "\t\t\t\t,   (7,\t'Rosa')\n",
    "\t\t\t]\n",
    "_schemaTableColors = StructType([\t\\\n",
    "\t\t\t\t\t\t\t\t\tStructField('colorId',\t\tIntegerType(),\tTrue)\t\\\n",
    "\t\t\t\t\t\t\t\t,\tStructField('colorName',\tStringType(),\tTrue)\t\\\n",
    "\t\t\t\t\t\t\t\t])\n",
    "#\n",
    "_dfTableAnimals = _spark.createDataFrame(_tableAnimals, _schemaTableAnimals)\n",
    "_dfTableColors = _spark.createDataFrame(_tableColors, _schemaTableColors)\n",
    "#\n",
    "_tableNumbers = [\n",
    "\t\t\t\t\t(100,\t'Cien')\n",
    "\t\t\t\t,\t(200,\t'DosCientos')\n",
    "\t\t\t\t,\t(-100,\t'MenosCien')\n",
    "\t\t\t]\n",
    "_schemaTableNumbers = StructType([\t\\\n",
    "\t\t\t\t\t\t\t\t\tStructField('fraccion',\tIntegerType(),\tTrue)\t\\\n",
    "\t\t\t\t\t\t\t\t,\tStructField('valor',\tStringType(),\tTrue)\t\\\n",
    "\t\t\t\t\t\t\t\t])\n",
    "#\n",
    "_dfTableNumbers = _spark.createDataFrame(_tableNumbers, _schemaTableNumbers)\n",
    "#"
   ]
  },
  {
   "cell_type": "markdown",
   "id": "bd597b07",
   "metadata": {},
   "source": [
    "### inner join"
   ]
  },
  {
   "cell_type": "code",
   "execution_count": 98,
   "id": "a1c91a48",
   "metadata": {},
   "outputs": [
    {
     "name": "stdout",
     "output_type": "stream",
     "text": [
      "+---+----------+----------+\n",
      "|id |name      |colorName |\n",
      "+---+----------+----------+\n",
      "|1  |Gato      |Café      |\n",
      "|3  |Ardilla   |Café      |\n",
      "|10 |Caballo   |Café      |\n",
      "|2  |Perro     |Negro     |\n",
      "|4  |Pez       |Anaranjado|\n",
      "|5  |Hipopótamo|Gris      |\n",
      "|8  |Elefante  |Gris      |\n",
      "|9  |Rata      |Gris      |\n",
      "|6  |Jirafa    |Amarillo  |\n",
      "|7  |León      |Amarillo  |\n",
      "+---+----------+----------+\n",
      "\n"
     ]
    }
   ],
   "source": [
    "_dfTableAnimals \\\n",
    "\t\t\t.join(\t\t_dfTableColors \\\n",
    "\t\t\t\t\t,\t_dfTableAnimals['colorId'] == _dfTableColors['colorId']) \\\n",
    "\t\t\t.select(\tcol('id')\n",
    "\t\t\t\t\t,\tcol('name')\n",
    "\t\t\t\t\t,\tcol('colorName')\n",
    "\t\t\t\t\t) \\\n",
    "\t\t\t.show(truncate=False)"
   ]
  },
  {
   "cell_type": "markdown",
   "id": "ed6bf1db",
   "metadata": {},
   "source": [
    "### how : *optional*\n",
    "\n",
    "default ``inner``. Must be one of: ``inner``, ``cross``, ``outer``, ``full``, ``fullouter``, ``full_outer``, ``left``, ``leftouter``, ``left_outer``, ``right``, ``rightouter``, ``right_outer``, ``semi``, ``leftsemi``, ``left_semi``, ``anti``, ``leftanti`` and ``left_anti``.\n"
   ]
  },
  {
   "cell_type": "code",
   "execution_count": 99,
   "id": "d929731e",
   "metadata": {},
   "outputs": [
    {
     "name": "stdout",
     "output_type": "stream",
     "text": [
      "+---+----------+----------+\n",
      "|id |name      |colorName |\n",
      "+---+----------+----------+\n",
      "|14 |Rata      |NULL      |\n",
      "|6  |Jirafa    |Amarillo  |\n",
      "|7  |León      |Amarillo  |\n",
      "|1  |Gato      |Café      |\n",
      "|3  |Ardilla   |Café      |\n",
      "|10 |Caballo   |Café      |\n",
      "|11 |Guacamaya |NULL      |\n",
      "|12 |Perico    |NULL      |\n",
      "|13 |Rata      |NULL      |\n",
      "|4  |Pez       |Anaranjado|\n",
      "|2  |Perro     |Negro     |\n",
      "|5  |Hipopótamo|Gris      |\n",
      "|8  |Elefante  |Gris      |\n",
      "|9  |Rata      |Gris      |\n",
      "+---+----------+----------+\n",
      "\n"
     ]
    }
   ],
   "source": [
    "_dfTableAnimals \\\n",
    "\t\t\t.join(\t\t_dfTableColors \\\n",
    "\t\t\t\t\t,\t_dfTableAnimals['colorId'] == _dfTableColors['colorId']\n",
    "\t\t\t\t\t,\thow='left') \\\n",
    "\t\t\t.select(\tcol('id')\n",
    "\t\t\t\t\t,\tcol('name')\n",
    "\t\t\t\t\t,\tcol('colorName')\n",
    "\t\t\t\t\t) \\\n",
    "\t\t\t.show(truncate=False)"
   ]
  },
  {
   "cell_type": "code",
   "execution_count": null,
   "id": "6048734e",
   "metadata": {},
   "outputs": [
    {
     "name": "stdout",
     "output_type": "stream",
     "text": [
      "+---+----------+-------+--------+\n",
      "|id |name      |colorId|fraccion|\n",
      "+---+----------+-------+--------+\n",
      "|1  |Gato      |1      |101     |\n",
      "|3  |Ardilla   |1      |103     |\n",
      "|2  |Perro     |2      |102     |\n",
      "|13 |Rata      |500    |50      |\n",
      "|5  |Hipopótamo|4      |105     |\n",
      "|6  |Jirafa    |5      |106     |\n",
      "|4  |Pez       |3      |104     |\n",
      "+---+----------+-------+--------+\n",
      "\n"
     ]
    }
   ],
   "source": [
    "#\n",
    "#_dfTableAnimals.show(truncate=False)\n",
    "#\n",
    "#_dfTableNumbers.show(truncate=False)\n",
    "#\n",
    "_dfTableAnimals \\\n",
    "\t\t\t.join(\t\t_dfTableNumbers \\\n",
    "\t\t\t\t\t,\t(_dfTableAnimals['fraccion'] == _dfTableNumbers['fraccion'])\n",
    "\t\t\t\t\t\t& (isnull(_dfTableAnimals['fraccion']) == False)\n",
    "\t\t\t\t\t\t& (isnull(_dfTableNumbers['fraccion']) == False)\n",
    "\t\t\t\t\t,\thow='anti') \\\n",
    "\t\t\t.show(truncate=False)\n",
    "# \n",
    "#"
   ]
  },
  {
   "cell_type": "markdown",
   "id": "193ff4cf",
   "metadata": {},
   "source": [
    "### row_number()"
   ]
  },
  {
   "cell_type": "code",
   "execution_count": 112,
   "id": "a2fcdf51",
   "metadata": {},
   "outputs": [
    {
     "name": "stdout",
     "output_type": "stream",
     "text": [
      "+---+----------+-------+--------+---------+\n",
      "|id |name      |colorId|fraccion|RowNumber|\n",
      "+---+----------+-------+--------+---------+\n",
      "|3  |Ardilla   |1      |103     |1        |\n",
      "|10 |Caballo   |1      |-100    |2        |\n",
      "|8  |Elefante  |4      |200     |3        |\n",
      "|1  |Gato      |1      |101     |4        |\n",
      "|11 |Guacamaya |500    |100     |5        |\n",
      "|5  |Hipopótamo|4      |105     |6        |\n",
      "|6  |Jirafa    |5      |106     |7        |\n",
      "|7  |León      |5      |200     |8        |\n",
      "|12 |Perico    |500    |100     |9        |\n",
      "|2  |Perro     |2      |102     |10       |\n",
      "|4  |Pez       |3      |104     |11       |\n",
      "|9  |Rata      |4      |-100    |12       |\n",
      "|13 |Rata      |500    |50      |13       |\n",
      "|14 |Rata      |0      |-100    |14       |\n",
      "+---+----------+-------+--------+---------+\n",
      "\n"
     ]
    }
   ],
   "source": [
    "from pyspark.sql import Window\n",
    "#\n",
    "_dfTableAnimals \\\n",
    " \t\t\t.withColumn('RowNumber', row_number().over(Window.orderBy(col('name').asc()))) \\\n",
    "\t\t\t.show(truncate=False)\n",
    "#"
   ]
  },
  {
   "cell_type": "markdown",
   "id": "d7d6429d",
   "metadata": {},
   "source": [
    "### rank() / dense_rank()"
   ]
  },
  {
   "cell_type": "code",
   "execution_count": 122,
   "id": "0078ad50",
   "metadata": {},
   "outputs": [
    {
     "name": "stdout",
     "output_type": "stream",
     "text": [
      "+---+----------+-------+---------+----+---------+--------+\n",
      "|id |name      |colorId|RowNumber|Rank|DenseRank|fraccion|\n",
      "+---+----------+-------+---------+----+---------+--------+\n",
      "|11 |Guacamaya |500    |1        |1   |1        |100     |\n",
      "|12 |Perico    |500    |2        |1   |1        |100     |\n",
      "|13 |Rata      |500    |3        |1   |1        |50      |\n",
      "|6  |Jirafa    |5      |4        |4   |2        |106     |\n",
      "|7  |León      |5      |5        |4   |2        |200     |\n",
      "|5  |Hipopótamo|4      |6        |6   |3        |105     |\n",
      "|8  |Elefante  |4      |7        |6   |3        |200     |\n",
      "|9  |Rata      |4      |8        |6   |3        |-100    |\n",
      "|4  |Pez       |3      |9        |9   |4        |104     |\n",
      "|2  |Perro     |2      |10       |10  |5        |102     |\n",
      "|1  |Gato      |1      |11       |11  |6        |101     |\n",
      "|3  |Ardilla   |1      |12       |11  |6        |103     |\n",
      "|10 |Caballo   |1      |13       |11  |6        |-100    |\n",
      "|14 |Rata      |0      |14       |14  |7        |-100    |\n",
      "+---+----------+-------+---------+----+---------+--------+\n",
      "\n"
     ]
    }
   ],
   "source": [
    "from pyspark.sql import Window\n",
    "#\n",
    "_dfTableAnimals \\\n",
    " \t\t\t.withColumn('RowNumber',\trow_number().over(Window.orderBy(col('colorId').desc()))) \\\n",
    "\t\t\t.withColumn('Rank',\t\t\trank().over(Window.orderBy(col('colorId').desc()))) \\\n",
    "\t\t\t.withColumn('DenseRank',\tdense_rank().over(Window.orderBy(col('colorId').desc()))) \\\n",
    "\t\t\t.select(\tcol('id')\n",
    "\t\t\t\t\t,\tcol('name')\n",
    "\t\t\t\t\t,\tcol('colorId')\n",
    "\t\t\t\t\t,\tcol('RowNumber')\n",
    "\t\t\t\t\t,\tcol('Rank')\n",
    "\t\t\t\t\t,\tcol('DenseRank')\n",
    "\t\t\t\t\t,\tcol('fraccion')\n",
    "\t\t\t\t\t) \\\n",
    "\t\t\t.show(truncate=False)\n",
    "#"
   ]
  },
  {
   "cell_type": "markdown",
   "id": "1c2fcd98",
   "metadata": {},
   "source": [
    "###  (cumulative sum)"
   ]
  },
  {
   "cell_type": "code",
   "execution_count": null,
   "id": "36d599dd",
   "metadata": {},
   "outputs": [
    {
     "name": "stdout",
     "output_type": "stream",
     "text": [
      "+---+----------+-------+--------+------------------+-------------------+\n",
      "|id |name      |colorId|fraccion|CumSumByColorIdAsc|CumSumByColorIdDesc|\n",
      "+---+----------+-------+--------+------------------+-------------------+\n",
      "|14 |Rata      |0      |-100    |-100              |-100               |\n",
      "|1  |Gato      |1      |101     |101               |104                |\n",
      "|3  |Ardilla   |1      |103     |204               |3                  |\n",
      "|10 |Caballo   |1      |-100    |104               |-100               |\n",
      "|2  |Perro     |2      |102     |102               |102                |\n",
      "|4  |Pez       |3      |104     |104               |104                |\n",
      "|5  |Hipopótamo|4      |105     |105               |205                |\n",
      "|8  |Elefante  |4      |200     |305               |100                |\n",
      "|9  |Rata      |4      |-100    |205               |-100               |\n",
      "|6  |Jirafa    |5      |106     |106               |306                |\n",
      "|7  |León      |5      |200     |306               |200                |\n",
      "|11 |Guacamaya |500    |100     |100               |250                |\n",
      "|12 |Perico    |500    |100     |200               |150                |\n",
      "|13 |Rata      |500    |50      |250               |50                 |\n",
      "+---+----------+-------+--------+------------------+-------------------+\n",
      "\n"
     ]
    }
   ],
   "source": [
    "from pyspark.sql import Window\n",
    "from pyspark.sql import functions\n",
    "#\n",
    "_partitionBy = (Window.partitionBy(col('colorId')).orderBy(col('id')))\n",
    "_dfTableAnimals \\\n",
    " \t\t\t.withColumn('CumSumByColorIdAsc', sum(col('fraccion')).over(_partitionBy)) \\\n",
    "\t\t\t.withColumn('CumSumByColorIdDesc', sum(col('fraccion')).over(Window.partitionBy(col('colorId')).orderBy(desc(col('id'))))) \\\n",
    "\t\t\t.orderBy(\tcol('colorId').asc()\n",
    "\t\t\t\t\t,\tcol('id').asc()) \\\n",
    "\t\t\t.show(truncate=False)\n",
    "#"
   ]
  },
  {
   "cell_type": "code",
   "execution_count": 114,
   "id": "986550f1",
   "metadata": {},
   "outputs": [
    {
     "name": "stdout",
     "output_type": "stream",
     "text": [
      "+---+----------+-------+--------+---------------------------+------------------------+\n",
      "|id |name      |colorId|fraccion|CumSumByColorIdAscRowPerRow|TotalSumByColorIdAllRows|\n",
      "+---+----------+-------+--------+---------------------------+------------------------+\n",
      "|14 |Rata      |0      |-100    |-100                       |-100                    |\n",
      "|1  |Gato      |1      |101     |101                        |104                     |\n",
      "|3  |Ardilla   |1      |103     |204                        |104                     |\n",
      "|10 |Caballo   |1      |-100    |104                        |104                     |\n",
      "|2  |Perro     |2      |102     |102                        |102                     |\n",
      "|4  |Pez       |3      |104     |104                        |104                     |\n",
      "|5  |Hipopótamo|4      |105     |105                        |205                     |\n",
      "|8  |Elefante  |4      |200     |305                        |205                     |\n",
      "|9  |Rata      |4      |-100    |205                        |205                     |\n",
      "|6  |Jirafa    |5      |106     |106                        |306                     |\n",
      "|7  |León      |5      |200     |306                        |306                     |\n",
      "|11 |Guacamaya |500    |100     |100                        |250                     |\n",
      "|12 |Perico    |500    |100     |200                        |250                     |\n",
      "|13 |Rata      |500    |50      |250                        |250                     |\n",
      "+---+----------+-------+--------+---------------------------+------------------------+\n",
      "\n"
     ]
    }
   ],
   "source": [
    "###  .rowsBetween(Window.unboundedPreceding, Window.currentRow)\n",
    "from pyspark.sql import Window\n",
    "from pyspark.sql import functions\n",
    "#\n",
    "_dfTableAnimals \\\n",
    "\t\t\t.withColumn('CumSumByColorIdAscRowPerRow', sum(col('fraccion')).over(Window.partitionBy(col('colorId')).rowsBetween(Window.unboundedPreceding, Window.currentRow).orderBy(asc(col('id'))))) \\\n",
    "\t\t\t.withColumn('TotalSumByColorIdAllRows', sum(col('fraccion')).over(Window.partitionBy(col('colorId')).rowsBetween(Window.unboundedPreceding, Window.unboundedFollowing))) \\\n",
    "\t\t\t.orderBy(\tcol('colorId').asc()\n",
    "\t\t\t\t\t,\tcol('id').asc()) \\\n",
    "\t\t\t.show(truncate=False)\n",
    "#"
   ]
  },
  {
   "cell_type": "markdown",
   "id": "751d8849",
   "metadata": {},
   "source": [
    "### User Defined Functions"
   ]
  },
  {
   "cell_type": "code",
   "execution_count": 115,
   "id": "1eaf3787",
   "metadata": {},
   "outputs": [
    {
     "name": "stdout",
     "output_type": "stream",
     "text": [
      "+---+----------+-------+--------+------+----------+\n",
      "|id |name      |colorId|fraccion|Square|Remueve500|\n",
      "+---+----------+-------+--------+------+----------+\n",
      "|1  |Gato      |1      |101     |1     |1         |\n",
      "|2  |Perro     |2      |102     |4     |2         |\n",
      "|3  |Ardilla   |1      |103     |1     |1         |\n",
      "|4  |Pez       |3      |104     |9     |3         |\n",
      "|5  |Hipopótamo|4      |105     |16    |4         |\n",
      "|6  |Jirafa    |5      |106     |25    |5         |\n",
      "|7  |León      |5      |200     |25    |5         |\n",
      "|8  |Elefante  |4      |200     |16    |4         |\n",
      "|9  |Rata      |4      |-100    |16    |4         |\n",
      "|10 |Caballo   |1      |-100    |1     |1         |\n",
      "|11 |Guacamaya |500    |100     |250000|NULL      |\n",
      "|12 |Perico    |500    |100     |250000|NULL      |\n",
      "|13 |Rata      |500    |50      |250000|NULL      |\n",
      "|14 |Rata      |0      |-100    |0     |0         |\n",
      "+---+----------+-------+--------+------+----------+\n",
      "\n"
     ]
    }
   ],
   "source": [
    "#\n",
    "def my_square(column_value):\n",
    "\treturn column_value**2\n",
    "#\n",
    "my_square_udf = udf(my_square)\n",
    "#\n",
    "def reemplaza(column:int, value:int):\n",
    "\treturn when(column != value, column).otherwise(lit(None))\n",
    "#\n",
    "_dfTableAnimals \\\n",
    "\t.withColumn('Square', my_square_udf(col('colorId').cast(IntegerType()))) \\\n",
    "\t.withColumn('Remueve500', reemplaza(col('colorId').cast(IntegerType()), 500)) \\\n",
    "\t.show(truncate=False)\n",
    "#"
   ]
  },
  {
   "cell_type": "markdown",
   "id": "0f0f98d4",
   "metadata": {},
   "source": [
    "### data writing :arrow_right: *Serving Layer*"
   ]
  },
  {
   "cell_type": "code",
   "execution_count": 126,
   "id": "f89d2e71",
   "metadata": {},
   "outputs": [],
   "source": [
    "#\n",
    "_path = 'file:///C:/Users/Administrator/Documents/Code/Python/Spark/BigMart.Sales.010'\n",
    "#\n",
    "_newDataFrame_fromSelect010 \\\n",
    "\t\t\t.write \\\n",
    "\t\t\t.format('csv') \\\n",
    "\t\t\t.mode('overwrite') \\\n",
    "\t\t\t.option('header',True) \\\n",
    "\t\t\t.options(header='true',sep=',') \\\n",
    "\t\t\t.partitionBy('Outlet_Establishment_Year') \\\n",
    "\t\t\t.save('{0}.{1}'.format(_path, 'csv'))\n",
    "#"
   ]
  },
  {
   "cell_type": "markdown",
   "id": "3f76023c",
   "metadata": {},
   "source": [
    "### data writing modes\n",
    "\n",
    "* Append\n",
    "* Overwrite\n",
    "* Error\n",
    "* Ignore"
   ]
  },
  {
   "cell_type": "markdown",
   "id": "82471bd3",
   "metadata": {},
   "source": [
    "## File Formats and Data Sources in PySpark\n",
    "\n",
    "### Common File Formats in PySpark\n",
    "------------------------------\n",
    "\n",
    "PySpark supports multiple file formats such as **CSV**, **JSON**, **Parquet**, **ORC**, and **Avro.**\n",
    "\n",
    "1\\. CSV (Comma-Separated Values)\n",
    "--------------------------------\n",
    "\n",
    "CSV is one of the simplest and most widely used formats to store tabular data. Each row in a CSV file represents a record, and each value within a row is separated by a delimiter, usually a comma.\n",
    "\n",
    "**Advantages of CSV**:\n",
    "\n",
    "*   Simple and human-readable.\n",
    "*   Common format for data interchange and is easy to use in many applications.\n",
    "*   Supported by almost all data systems.\n",
    "\n",
    "**Disadvantages**:\n",
    "\n",
    "*   Lack of schema (data types are inferred).\n",
    "*   Poor performance on large datasets due to the lack of optimization.\n",
    "*   No support for complex data types like nested structures.\n",
    "\n",
    "**Reading CSV Files in PySpark**:\n",
    "\n",
    "``` python\n",
    "from pyspark.sql import SparkSession\n",
    "# Initialize Spark Session\n",
    "spark = SparkSession.builder.appName(\"FileFormats\").getOrCreate()\n",
    "# Read CSV file\n",
    "csv_df = spark.read.csv(\"path/to/file.csv\", header=True, inferSchema=True)\n",
    "csv_df.show()\n",
    "```\n",
    "\n",
    "**Writing CSV Files in PySpark**:\n",
    "\n",
    "``` python\n",
    "df.write.csv(\"output/sample_output.csv\", header=True)\n",
    "```\n",
    "\n",
    "\n",
    "2\\. JSON (JavaScript Object Notation)\n",
    "-------------------------------------\n",
    "\n",
    "JSON is a popular format for exchanging data between web applications. It is a lightweight, text-based format that stores data in a key-value pair structure, making it ideal for representing complex data.\n",
    "\n",
    "**Advantages of JSON**:\n",
    "\n",
    "*   Supports complex data types like arrays and nested objects.\n",
    "*   Human-readable and widely used in web services.\n",
    "\n",
    "**Disadvantages**:\n",
    "\n",
    "*   Slower read and write performance compared to optimized formats like Parquet.\n",
    "*   Inefficient for large datasets.\n",
    "\n",
    "**Reading JSON Files in PySpark**:\n",
    "\n",
    "``` python\n",
    "# Load JSON file into DataFrame\n",
    "df_json = spark.read.json(\"data/sample.json\")\n",
    "# Show data\n",
    "df_json.show()\n",
    "```\n",
    "\n",
    "**Writing JSON Files in PySpark**:\n",
    "\n",
    "``` python\n",
    "df_json.write.json(\"output/sample_output.json\")\n",
    "```\n",
    "\n",
    "3\\. Parquet\n",
    "-----------\n",
    "\n",
    "Parquet is a columnar storage file format designed to bring efficiency compared to row-based formats like CSV. It is highly optimized for large-scale data processing and analytics, supporting complex nested data types.\n",
    "\n",
    "**Advantages of Parquet**:\n",
    "\n",
    "*   Columnar format, which allows for better compression and more efficient querying.\n",
    "*   Ideal for large-scale analytics and data pipelines.\n",
    "*   Supports schema evolution and is highly efficient for big data workloads.\n",
    "\n",
    "**Disadvantages of Parquet**:\n",
    "\n",
    "*   Less human-readable than CSV or JSON.\n",
    "*   Might require additional tooling or libraries for processing outside of Spark.\n",
    "\n",
    "**Reading Parquet Files in PySpark**:\n",
    "\n",
    "``` python\n",
    "# Load Parquet file into DataFrame\n",
    "df_parquet = spark.read.parquet(\"data/sample.parquet\")\n",
    "df_parquet.show()\n",
    "```\n",
    "\n",
    "**Writing Parquet Files in PySpark**:\n",
    "\n",
    "``` python\n",
    "df.write.parquet(\"output/sample_output.parquet\")\n",
    "```\n",
    "\n",
    "4\\. ORC (Optimized Row Columnar)\n",
    "--------------------------------\n",
    "\n",
    "ORC is another columnar storage format, primarily used in the Hadoop ecosystem. It offers higher compression ratios and performance than Parquet in certain scenarios, especially when dealing with large-scale read-heavy operations.\n",
    "\n",
    "**Advantages of ORC**:\n",
    "\n",
    "*   Better compression and read performance compared to Parquet.\n",
    "*   Optimized for Hive queries.\n",
    "\n",
    "**Disadvantages of ORC**:\n",
    "\n",
    "*   Less widely supported than Parquet outside the Hadoop ecosystem.\n",
    "*   Not as suitable for complex nested data structures.\n",
    "\n",
    "**Reading ORC Files in PySpark**:\n",
    "\n",
    "``` python\n",
    "# Load ORC file into DataFrame\n",
    "df_orc = spark.read.format(\"orc\").load(\"data/sample.orc\")\n",
    "df_orc.show()\n",
    "```\n",
    "\n",
    "**Writing ORC Files in PySpark**:\n",
    "\n",
    "``` python\n",
    "df.write.format(\"orc\").save(\"output/sample_output.orc\")\n",
    "```\n",
    "\n",
    "5\\. Avro\n",
    "--------\n",
    "\n",
    "Avro is a compact, fast, binary data format that is commonly used for storing large-scale data in Hadoop ecosystems. It supports both schema evolution and nested data structures.\n",
    "\n",
    "**Advantages of Avro**:\n",
    "\n",
    "*   Compact and efficient binary format.\n",
    "*   Supports schema evolution.\n",
    "*   Ideal for high-volume data ingestion and streaming applications.\n",
    "\n",
    "**Disadvantages of Avro**:\n",
    "\n",
    "*   Binary format, so not human-readable.\n",
    "*   Can be slower for simple, small datasets compared to CSV or JSON.\n",
    "\n",
    "**Reading Avro Files in PySpark**:\n",
    "\n",
    "``` python\n",
    "# Load Avro file into DataFrame\n",
    "df_avro = spark.read.format(\"avro\").load(\"data/sample.avro\")\n",
    "df_avro.show()\n",
    "```\n",
    "\n",
    "**Writing Avro Files in PySpark**:\n",
    "\n",
    "``` python\n",
    "df_avro.write.format(\"avro\").save(\"output/sample_output.avro\")\n",
    "```\n",
    "\n",
    "Integration with Data Sources\n",
    "-----------------------------\n",
    "\n",
    "PySpark seamlessly connects to a variety of data sources:\n",
    "\n",
    "1.  **HDFS (Hadoop Distributed File System):** Common for storing distributed data in big data ecosystems.\n",
    "\n",
    "**Example:**\n",
    "\n",
    "``` python\n",
    "hdfs_df = spark.read.csv(\"hdfs://namenode:9000/path/to/file.csv\")\n",
    "```\n",
    "\n",
    "2\\. **Amazon S3:** Widely used cloud storage for data lakes.\n",
    "\n",
    "**Example:**\n",
    "\n",
    "``` python\n",
    "s3_df = spark.read.parquet(\"s3://bucket-name/path/to/file.parquet\")\n",
    "```\n",
    "\n",
    "**3\\. JDBC (Relational Databases):** Supports databases like MySQL, Postgres, and SQL Server.\n",
    "\n",
    "**Example:**\n",
    "\n",
    "``` python\n",
    "jdbc_url = \"jdbc:postgresql://host:port/database\"\n",
    "properties = {\"user\": \"username\", \"password\": \"password\"}\n",
    "jdbc_df = spark.read.jdbc(jdbc_url, \"table_name\", properties=properties)\n",
    "```\n",
    "\n",
    "**4\\. Kafka:** Used for real-time data streaming.\n",
    "\n",
    "**Example:**\n",
    "\n",
    "``` python\n",
    "kafka_df = spark.readStream \\\n",
    "    .format(\"kafka\") \\\n",
    "    .option(\"kafka.bootstrap.servers\", \"localhost:9092\") \\\n",
    "    .option(\"subscribe\", \"topic_name\") \\\n",
    "    .load()\n",
    "```\n",
    "\n",
    "Best Practices for File Handling\n",
    "--------------------------------\n",
    "\n",
    "1.  **Compression:**  \n",
    "    Use Snappy or Gzip for Parquet and ORC to save storage and speed up reads.\n",
    "2.  **Schema Management:**  \n",
    "    Explicitly define schemas to avoid issues with schema inference.\n",
    "3.  **Partitioning:**  \n",
    "    Partition data for distributed processing."
   ]
  },
  {
   "cell_type": "markdown",
   "id": "05db9b46",
   "metadata": {},
   "source": [
    "### CREATE TABLE FORMAT"
   ]
  },
  {
   "cell_type": "code",
   "execution_count": 117,
   "id": "8309007e",
   "metadata": {},
   "outputs": [],
   "source": [
    "#\n",
    "_path = 'file:///C:/Users/Administrator/Documents/Code/Python/Spark/spark-warehouse/'\n",
    "#\n",
    "_newDataFrame_fromSelect010 \\\n",
    "\t\t\t.write \\\n",
    "\t\t\t.option('header',True) \\\n",
    "\t\t\t.partitionBy('Outlet_Establishment_Year') \\\n",
    "\t\t\t.saveAsTable(\t\\\n",
    "\t\t\t\t\t\t\t'BigMart_Sales_010_As_Table'\t\\\n",
    "\t\t\t\t\t\t,\tpath\t=\t_path\t\\\n",
    "\t\t\t\t\t\t,\tformat\t=\t'parquet'\t\\\n",
    "\t\t\t\t\t\t,\tmode\t=\t'overwrite')\n",
    "#\n",
    "# ## .option('path','s3a://bucket/foo') \\\n",
    "#"
   ]
  },
  {
   "cell_type": "markdown",
   "id": "5fb806ff",
   "metadata": {},
   "source": [
    "### TODO : Managed *(managed by Databricks)* vs External Tables *(managed by by You/Engineer)*"
   ]
  },
  {
   "cell_type": "markdown",
   "id": "ac89e404",
   "metadata": {},
   "source": [
    "<hr>\n",
    "\n",
    "# Spark SQL"
   ]
  },
  {
   "cell_type": "code",
   "execution_count": 118,
   "id": "39e8fc91",
   "metadata": {},
   "outputs": [],
   "source": [
    "#\n",
    "### let's convert the data-frame into a view before making a query\n",
    "### , all temporary views will be eliminated after session completed\n",
    "#\n",
    "## ## _newDataFrame_fromSelect010.createTempView('__newDataView_fromSelect010')\n",
    "_newDataFrame_fromSelect010.createOrReplaceTempView('__newDataView_fromSelect010')\n",
    "#"
   ]
  },
  {
   "cell_type": "code",
   "execution_count": 119,
   "id": "4831b94d",
   "metadata": {},
   "outputs": [
    {
     "name": "stdout",
     "output_type": "stream",
     "text": [
      "+---------------+-----------+----------------+---------------+---------------------+--------+-----------------+-------------------------+-----------+--------------------+-----------------+-----------------+\n",
      "|Item_Identifier|Item_Weight|Item_Fat_Content|Item_Visibility|Item_Type            |Item_MRP|Outlet_Identifier|Outlet_Establishment_Year|Outlet_Size|Outlet_Location_Type|Outlet_Type      |Item_Outlet_Sales|\n",
      "+---------------+-----------+----------------+---------------+---------------------+--------+-----------------+-------------------------+-----------+--------------------+-----------------+-----------------+\n",
      "|FDA15          |9.3        |Low Fat         |0.016047301    |Dairy                |249.8092|OUT049           |1999                     |Medium     |Tier 1              |Supermarket Type1|3735.138         |\n",
      "|DRC01          |5.92       |Regular         |0.019278216    |Soft Drinks          |48.2692 |OUT018           |2009                     |Medium     |Tier 3              |Supermarket Type2|443.4228         |\n",
      "|FDN15          |17.5       |Low Fat         |0.016760075    |Meat                 |141.618 |OUT049           |1999                     |Medium     |Tier 1              |Supermarket Type1|2097.27          |\n",
      "|FDX07          |19.2       |Regular         |0.0            |Fruits and Vegetables|182.095 |OUT010           |1998                     |NULL       |Tier 3              |Grocery Store    |732.38           |\n",
      "|NCD19          |8.93       |Low Fat         |0.0            |Household            |53.8614 |OUT013           |1987                     |High       |Tier 3              |Supermarket Type1|994.7052         |\n",
      "|FDP36          |10.395     |Regular         |0.0            |Baking Goods         |51.4008 |OUT018           |2009                     |Medium     |Tier 3              |Supermarket Type2|556.6088         |\n",
      "|FDO10          |13.65      |Regular         |0.012741089    |Snack Foods          |57.6588 |OUT013           |1987                     |High       |Tier 3              |Supermarket Type1|343.5528         |\n",
      "|FDP10          |NULL       |Low Fat         |0.127469857    |Snack Foods          |107.7622|OUT027           |1985                     |Medium     |Tier 3              |Supermarket Type3|4022.7636        |\n",
      "|FDH17          |16.2       |Regular         |0.016687114    |Frozen Foods         |96.9726 |OUT045           |2002                     |NULL       |Tier 2              |Supermarket Type1|1076.5986        |\n",
      "|FDU28          |19.2       |Regular         |0.09444959     |Frozen Foods         |187.8214|OUT017           |2007                     |NULL       |Tier 2              |Supermarket Type1|4710.535         |\n",
      "|FDY07          |11.8       |Low Fat         |0.0            |Fruits and Vegetables|45.5402 |OUT049           |1999                     |Medium     |Tier 1              |Supermarket Type1|1516.0266        |\n",
      "|FDA03          |18.5       |Regular         |0.045463773    |Dairy                |144.1102|OUT046           |1997                     |Small      |Tier 1              |Supermarket Type1|2187.153         |\n",
      "|FDX32          |15.1       |Regular         |0.1000135      |Fruits and Vegetables|145.4786|OUT049           |1999                     |Medium     |Tier 1              |Supermarket Type1|1589.2646        |\n",
      "|FDS46          |17.6       |Regular         |0.047257328    |Snack Foods          |119.6782|OUT046           |1997                     |Small      |Tier 1              |Supermarket Type1|2145.2076        |\n",
      "|FDF32          |16.35      |Low Fat         |0.0680243      |Fruits and Vegetables|196.4426|OUT013           |1987                     |High       |Tier 3              |Supermarket Type1|1977.426         |\n",
      "+---------------+-----------+----------------+---------------+---------------------+--------+-----------------+-------------------------+-----------+--------------------+-----------------+-----------------+\n",
      "\n"
     ]
    }
   ],
   "source": [
    "#\n",
    "_resultsAsSQL_DataFrame = _spark.sql('SELECT * FROM __newDataView_fromSelect010 LIMIT 15')\n",
    "#\n",
    "_resultsAsSQL_DataFrame.show(truncate=False)\n",
    "#"
   ]
  }
 ],
 "metadata": {
  "kernelspec": {
   "display_name": "AI",
   "language": "python",
   "name": "python3"
  },
  "language_info": {
   "codemirror_mode": {
    "name": "ipython",
    "version": 3
   },
   "file_extension": ".py",
   "mimetype": "text/x-python",
   "name": "python",
   "nbconvert_exporter": "python",
   "pygments_lexer": "ipython3",
   "version": "3.11.0"
  }
 },
 "nbformat": 4,
 "nbformat_minor": 5
}
